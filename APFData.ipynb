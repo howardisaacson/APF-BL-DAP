{
 "cells": [
  {
   "cell_type": "code",
   "execution_count": 101,
   "metadata": {},
   "outputs": [],
   "source": [
    "from astropy.io import fits\n",
    "import matplotlib.pylab as plt\n",
    "import numpy as np\n",
    "import scipy.interpolate\n",
    "from scipy.interpolate import splev, splrep\n",
    "import os\n",
    "import pandas as pd"
   ]
  },
  {
   "cell_type": "code",
   "execution_count": 99,
   "metadata": {},
   "outputs": [
    {
     "name": "stdout",
     "output_type": "stream",
     "text": [
      "/mnt_home/azuckerman\n"
     ]
    }
   ],
   "source": [
    "cd /home/azuckerman"
   ]
  },
  {
   "cell_type": "code",
   "execution_count": 106,
   "metadata": {},
   "outputs": [],
   "source": [
    "directory = '/mnt_home/azuckerman/APF_spectra/NDR'\n",
    "list_of_files = []\n",
    "for filename in os.listdir(directory):\n",
    "    if filename.endswith(\".fits\"): \n",
    "        file_path = os.path.join(directory, filename)\n",
    "        list_of_files = np.append(list_of_files, file_path)\n",
    "        \n",
    "APF_wavelength_path = '/mnt_home/zoek/code/APF-BL-DAP/APFTutorial/apf_wav.fits'\n",
    "APF_flux_path = '/datag/blpd0/datax/apf/'\n",
    "\n",
    "order = 45\n",
    "\n",
    "wl_file = fits.open(APF_wavelength_path)\n",
    "wl_image = wl_file[0].data\n",
    "wl = wl_image[order]\n",
    "\n",
    "for i in np.arange(len(reduced_files)):\n",
    "    fl_file = fits.open(APF_flux_path + reduced_files[i])\n",
    "    fl = fl_file[0].data\n",
    "    fl = fl[order][:-1]\n",
    "    plt.plot(wl, fl)\n",
    "    plt.title('Order ' + str(order) + ' for star ' + str(i))\n",
    "    plt.show()\n"
   ]
  },
  {
   "cell_type": "code",
   "execution_count": 46,
   "metadata": {},
   "outputs": [],
   "source": [
    "reduced_files = ['rarj.223.fits',\n",
    "'rarj.224.fits', \n",
    "'rarj.226.fits',            \n",
    "'rarj.227.fits',#\n",
    "'rarj.239.fits',#\n",
    "'rarj.241.fits',    \n",
    "'rarj.242.fits',#\n",
    "'rarj.245.fits',#\n",
    "'rarj.246.fits',\n",
    "'rarj.247.fits',#\n",
    "'rarj.248.fits',\n",
    "'rarj.249.fits',\n",
    "'rarj.250.fits',#             \n",
    "'rarj.251.fits',\n",
    "'rarj.252.fits',            \n",
    "'rarj.253.fits',                 \n",
    "'rarj.254.fits',\n",
    "'rarj.255.fits',\n",
    "'rarj.256.fits',\n",
    "'rarj.257.fits',\n",
    "'rarj.258.fits']"
   ]
  },
  {
   "cell_type": "code",
   "execution_count": 114,
   "metadata": {},
   "outputs": [
    {
     "data": {
      "image/png": "[encoded data removed]",
      "text/plain": [
       "<Figure size 432x216 with 1 Axes>"
      ]
     },
     "metadata": {
      "needs_background": "light"
     },
     "output_type": "display_data"
    }
   ],
   "source": [
    "APF_wavelength_path = '/mnt_home/zoek/code/APF-BL-DAP/APFTutorial/apf_wav.fits'\n",
    "APF_flux_path = '/datag/blpd0/datax/apf/'\n",
    "\n",
    "order = 4\n",
    "\n",
    "wl_file = fits.open(APF_wavelength_path)\n",
    "wl_image = wl_file[0].data\n",
    "wl = wl_image[order]\n",
    "\n",
    "# for i in np.arange(len(reduced_files)):\n",
    "for i in np.arange(1):\n",
    "    fl_file = fits.open(APF_flux_path + reduced_files[i])\n",
    "    fl = fl_file[0].data\n",
    "    fl = fl[order][:-1]\n",
    "    plt.plot(wl, fl)\n",
    "    plt.title('Order ' + str(order) + ' for star ' + str(i))\n",
    "    plt.show()\n",
    "\n"
   ]
  },
  {
   "cell_type": "code",
   "execution_count": 61,
   "metadata": {},
   "outputs": [
    {
     "name": "stdout",
     "output_type": "stream",
     "text": [
      "4780.685546875\n"
     ]
    }
   ],
   "source": [
    "print(flux_arrays[0])"
   ]
  },
  {
   "cell_type": "code",
   "execution_count": 55,
   "metadata": {},
   "outputs": [
    {
     "data": {
      "text/plain": [
       "[<matplotlib.lines.Line2D at 0x7fd9aeca5610>]"
      ]
     },
     "execution_count": 55,
     "metadata": {},
     "output_type": "execute_result"
    },
    {
     "data": {
      "image/png": "[encoded data removed]",
      "text/plain": [
       "<Figure size 432x216 with 1 Axes>"
      ]
     },
     "metadata": {
      "needs_background": "light"
     },
     "output_type": "display_data"
    }
   ],
   "source": [
    "\n",
    "APF_wavelength_path = '/mnt_home/zoek/code/APF-BL-DAP/APFTutorial/apf_wav.fits'\n",
    "APF_flux_path = '/datag/blpd0/datax/apf/rarj.224.fits'\n",
    "\n",
    "order = 45\n",
    "\n",
    "wl_file = fits.open(APF_wavelength_path)\n",
    "wl_image = wl_file[0].data\n",
    "wl = wl_image[order]\n",
    "\n",
    "\n",
    "fl_file = fits.open(APF_flux_path)\n",
    "fl_image = fl_file[0].data\n",
    "flux = fl_image[order][:-1]\n",
    "\n",
    "plt.plot(wl,flux)\n",
    "\n",
    "plt.title('Raw APF Spectrum of ' + star + ': Order ' + str(order))\n",
    "plt.xlabel('Wavelength [A]')\n",
    "plt.ylabel('Flux')\n",
    "plt.show()"
   ]
  },
  {
   "cell_type": "code",
   "execution_count": 52,
   "metadata": {},
   "outputs": [
    {
     "ename": "IndexError",
     "evalue": "invalid index to scalar variable.",
     "output_type": "error",
     "traceback": [
      "\u001b[0;31m---------------------------------------------------------------------------\u001b[0m",
      "\u001b[0;31mIndexError\u001b[0m                                Traceback (most recent call last)",
      "\u001b[0;32m<ipython-input-52-d543dba919bc>\u001b[0m in \u001b[0;36m<module>\u001b[0;34m\u001b[0m\n\u001b[1;32m      5\u001b[0m \u001b[0;34m\u001b[0m\u001b[0m\n\u001b[1;32m      6\u001b[0m \u001b[0;32mfor\u001b[0m \u001b[0mfl\u001b[0m \u001b[0;32min\u001b[0m \u001b[0mflux_arrays\u001b[0m\u001b[0;34m:\u001b[0m\u001b[0;34m\u001b[0m\u001b[0;34m\u001b[0m\u001b[0m\n\u001b[0;32m----> 7\u001b[0;31m     \u001b[0mflux\u001b[0m \u001b[0;34m=\u001b[0m \u001b[0mfl\u001b[0m\u001b[0;34m[\u001b[0m\u001b[0morder\u001b[0m\u001b[0;34m]\u001b[0m\u001b[0;34m[\u001b[0m\u001b[0;34m:\u001b[0m\u001b[0;34m-\u001b[0m\u001b[0;36m1\u001b[0m\u001b[0;34m]\u001b[0m\u001b[0;34m\u001b[0m\u001b[0;34m\u001b[0m\u001b[0m\n\u001b[0m\u001b[1;32m      8\u001b[0m     \u001b[0mplt\u001b[0m\u001b[0;34m.\u001b[0m\u001b[0mplot\u001b[0m\u001b[0;34m(\u001b[0m\u001b[0mwl\u001b[0m\u001b[0;34m,\u001b[0m\u001b[0mflux\u001b[0m\u001b[0;34m)\u001b[0m\u001b[0;34m\u001b[0m\u001b[0;34m\u001b[0m\u001b[0m\n\u001b[1;32m      9\u001b[0m \u001b[0;34m\u001b[0m\u001b[0m\n",
      "\u001b[0;31mIndexError\u001b[0m: invalid index to scalar variable."
     ]
    }
   ],
   "source": [
    "plt.rcParams[\"figure.figsize\"] = (6,3)\n",
    "\n",
    "order = 45 # 32 to 45\n",
    "wl = wl_image[order]\n",
    "\n",
    "for fl in flux_arrays:\n",
    "    flux = fl[order][:-1]\n",
    "    plt.plot(wl,flux)\n",
    "\n",
    "# plt.title('Raw APF Spectrum of ' + star + ': Order ' + str(order))\n",
    "# plt.xlabel('Wavelength [A]')\n",
    "# plt.ylabel('Flux')\n",
    "plt.show()"
   ]
  },
  {
   "cell_type": "code",
   "execution_count": 75,
   "metadata": {},
   "outputs": [
    {
     "name": "stdout",
     "output_type": "stream",
     "text": [
      "/mnt_home/azuckerman/APF_spectra/NDR\n"
     ]
    }
   ],
   "source": [
    "cd /home/azuckerman/APF_spectra/NDR"
   ]
  },
  {
   "cell_type": "code",
   "execution_count": 77,
   "metadata": {},
   "outputs": [],
   "source": [
    "# ramq.233.NDR.fits  rayr.215.NDR.fits  rbie.203.NDR.fits  rbqo.720.NDR.fits\n",
    "# ramq.252.NDR.fits  rayr.216.NDR.fits  rbie.204.NDR.fits  rbqo.721.NDR.fits\n",
    "# ramr.228.NDR.fits  rayr.217.NDR.fits  rbie.206.NDR.fits  rbqo.722.NDR.fits\n",
    "# ramu.211.NDR.fits  rayr.218.NDR.fits  rbie.207.NDR.fits  rbqo.730.NDR.fits"
   ]
  },
  {
   "cell_type": "code",
   "execution_count": 97,
   "metadata": {},
   "outputs": [],
   "source": [
    "order = 21\n",
    "\n",
    "star = 'test'\n",
    "APF_wavelength_path = '/mnt_home/zoek/code/APF-BL-DAP/APFTutorial/apf_wav.fits'\n",
    "APF_flux_path = '/home/azuckerman/APF_spectra/NDR/ramq.233.NDR.fits'\n",
    "\n",
    "wl_file = fits.open(APF_wavelength_path)\n",
    "fl_file = fits.open(APF_flux_path)\n",
    "wl_image = wl_file[0].data\n",
    "fl_image = fl_file[0].data\n",
    "\n",
    "wl = wl_image[order][4:-3]\n",
    "flux = fl_image[order]"
   ]
  },
  {
   "cell_type": "code",
   "execution_count": 98,
   "metadata": {},
   "outputs": [
    {
     "data": {
      "text/plain": [
       "[<matplotlib.lines.Line2D at 0x7fd9201a63d0>]"
      ]
     },
     "execution_count": 98,
     "metadata": {},
     "output_type": "execute_result"
    },
    {
     "data": {
      "image/png": "[encoded data removed]",
      "text/plain": [
       "<Figure size 432x216 with 1 Axes>"
      ]
     },
     "metadata": {
      "needs_background": "light"
     },
     "output_type": "display_data"
    }
   ],
   "source": [
    "plt.plot(wl, flux)"
   ]
  },
  {
   "cell_type": "code",
   "execution_count": 117,
   "metadata": {},
   "outputs": [
    {
     "name": "stdout",
     "output_type": "stream",
     "text": [
      "/mnt_home/azuckerman/APF_spectra/NDR\n"
     ]
    }
   ],
   "source": [
    "cd /home/azuckerman/APF_spectra/NDR"
   ]
  },
  {
   "cell_type": "code",
   "execution_count": 119,
   "metadata": {},
   "outputs": [
    {
     "data": {
      "text/plain": [
       "[<astropy.io.fits.hdu.image.PrimaryHDU object at 0x7fd91f879050>, <astropy.io.fits.hdu.image.ImageHDU object at 0x7fd91f8714d0>]"
      ]
     },
     "execution_count": 119,
     "metadata": {},
     "output_type": "execute_result"
    }
   ],
   "source": [
    "fl_file = fits.open('ramq.233.NDR.fits')"
   ]
  },
  {
   "cell_type": "code",
   "execution_count": 141,
   "metadata": {},
   "outputs": [
    {
     "ename": "IndexError",
     "evalue": "list index out of range",
     "output_type": "error",
     "traceback": [
      "\u001b[0;31m---------------------------------------------------------------------------\u001b[0m",
      "\u001b[0;31mIndexError\u001b[0m                                Traceback (most recent call last)",
      "\u001b[0;32m<ipython-input-141-69f00359a815>\u001b[0m in \u001b[0;36m<module>\u001b[0;34m\u001b[0m\n\u001b[0;32m----> 1\u001b[0;31m \u001b[0mfl\u001b[0m \u001b[0;34m=\u001b[0m \u001b[0mfl_file\u001b[0m\u001b[0;34m[\u001b[0m\u001b[0;36m1\u001b[0m\u001b[0;34m]\u001b[0m\u001b[0;34m\u001b[0m\u001b[0;34m\u001b[0m\u001b[0m\n\u001b[0m\u001b[1;32m      2\u001b[0m \u001b[0;31m# fl.data[5]\u001b[0m\u001b[0;34m\u001b[0m\u001b[0;34m\u001b[0m\u001b[0;34m\u001b[0m\u001b[0m\n\u001b[1;32m      3\u001b[0m \u001b[0;34m\u001b[0m\u001b[0m\n\u001b[1;32m      4\u001b[0m \u001b[0;31m# wl = fl_file[1].data\u001b[0m\u001b[0;34m\u001b[0m\u001b[0;34m\u001b[0m\u001b[0;34m\u001b[0m\u001b[0m\n\u001b[1;32m      5\u001b[0m \u001b[0;31m# header = fl_file[0].header\u001b[0m\u001b[0;34m\u001b[0m\u001b[0;34m\u001b[0m\u001b[0;34m\u001b[0m\u001b[0m\n",
      "\u001b[0;32m/opt/conda/lib/python3.7/site-packages/astropy/io/fits/hdu/hdulist.py\u001b[0m in \u001b[0;36m__getitem__\u001b[0;34m(self, key)\u001b[0m\n\u001b[1;32m    316\u001b[0m             \u001b[0;31m# Raise a more helpful IndexError if the file was not fully read.\u001b[0m\u001b[0;34m\u001b[0m\u001b[0;34m\u001b[0m\u001b[0;34m\u001b[0m\u001b[0m\n\u001b[1;32m    317\u001b[0m             \u001b[0;32mif\u001b[0m \u001b[0mself\u001b[0m\u001b[0;34m.\u001b[0m\u001b[0m_read_all\u001b[0m\u001b[0;34m:\u001b[0m\u001b[0;34m\u001b[0m\u001b[0;34m\u001b[0m\u001b[0m\n\u001b[0;32m--> 318\u001b[0;31m                 \u001b[0;32mraise\u001b[0m \u001b[0me\u001b[0m\u001b[0;34m\u001b[0m\u001b[0;34m\u001b[0m\u001b[0m\n\u001b[0m\u001b[1;32m    319\u001b[0m             \u001b[0;32melse\u001b[0m\u001b[0;34m:\u001b[0m\u001b[0;34m\u001b[0m\u001b[0;34m\u001b[0m\u001b[0m\n\u001b[1;32m    320\u001b[0m                 raise IndexError('HDU not found, possibly because the index '\n",
      "\u001b[0;32m/opt/conda/lib/python3.7/site-packages/astropy/io/fits/hdu/hdulist.py\u001b[0m in \u001b[0;36m__getitem__\u001b[0;34m(self, key)\u001b[0m\n\u001b[1;32m    312\u001b[0m         \u001b[0;32mtry\u001b[0m\u001b[0;34m:\u001b[0m\u001b[0;34m\u001b[0m\u001b[0;34m\u001b[0m\u001b[0m\n\u001b[1;32m    313\u001b[0m             return self._try_while_unread_hdus(super().__getitem__,\n\u001b[0;32m--> 314\u001b[0;31m                                                self._positive_index_of(key))\n\u001b[0m\u001b[1;32m    315\u001b[0m         \u001b[0;32mexcept\u001b[0m \u001b[0mIndexError\u001b[0m \u001b[0;32mas\u001b[0m \u001b[0me\u001b[0m\u001b[0;34m:\u001b[0m\u001b[0;34m\u001b[0m\u001b[0;34m\u001b[0m\u001b[0m\n\u001b[1;32m    316\u001b[0m             \u001b[0;31m# Raise a more helpful IndexError if the file was not fully read.\u001b[0m\u001b[0;34m\u001b[0m\u001b[0;34m\u001b[0m\u001b[0;34m\u001b[0m\u001b[0m\n",
      "\u001b[0;32m/opt/conda/lib/python3.7/site-packages/astropy/io/fits/hdu/hdulist.py\u001b[0m in \u001b[0;36m_try_while_unread_hdus\u001b[0;34m(self, func, *args, **kwargs)\u001b[0m\n\u001b[1;32m   1109\u001b[0m         \u001b[0;32mwhile\u001b[0m \u001b[0;32mTrue\u001b[0m\u001b[0;34m:\u001b[0m\u001b[0;34m\u001b[0m\u001b[0;34m\u001b[0m\u001b[0m\n\u001b[1;32m   1110\u001b[0m             \u001b[0;32mtry\u001b[0m\u001b[0;34m:\u001b[0m\u001b[0;34m\u001b[0m\u001b[0;34m\u001b[0m\u001b[0m\n\u001b[0;32m-> 1111\u001b[0;31m                 \u001b[0;32mreturn\u001b[0m \u001b[0mfunc\u001b[0m\u001b[0;34m(\u001b[0m\u001b[0;34m*\u001b[0m\u001b[0margs\u001b[0m\u001b[0;34m,\u001b[0m \u001b[0;34m**\u001b[0m\u001b[0mkwargs\u001b[0m\u001b[0;34m)\u001b[0m\u001b[0;34m\u001b[0m\u001b[0;34m\u001b[0m\u001b[0m\n\u001b[0m\u001b[1;32m   1112\u001b[0m             \u001b[0;32mexcept\u001b[0m \u001b[0mException\u001b[0m\u001b[0;34m:\u001b[0m\u001b[0;34m\u001b[0m\u001b[0;34m\u001b[0m\u001b[0m\n\u001b[1;32m   1113\u001b[0m                 \u001b[0;32mif\u001b[0m \u001b[0mself\u001b[0m\u001b[0;34m.\u001b[0m\u001b[0m_read_next_hdu\u001b[0m\u001b[0;34m(\u001b[0m\u001b[0;34m)\u001b[0m\u001b[0;34m:\u001b[0m\u001b[0;34m\u001b[0m\u001b[0;34m\u001b[0m\u001b[0m\n",
      "\u001b[0;31mIndexError\u001b[0m: list index out of range"
     ]
    }
   ],
   "source": [
    "fl = fl_file[1]\n",
    "# fl.data[5]\n",
    "\n",
    "# wl = fl_file[1].data\n",
    "# header = fl_file[0].header\n",
    "# star = header['TOBJECT']\n",
    "# print(header)"
   ]
  },
  {
   "cell_type": "code",
   "execution_count": null,
   "metadata": {},
   "outputs": [],
   "source": []
  }
 ],
 "metadata": {
  "kernelspec": {
   "display_name": "Python 3",
   "language": "python",
   "name": "python3"
  },
  "language_info": {
   "codemirror_mode": {
    "name": "ipython",
    "version": 3
   },
   "file_extension": ".py",
   "mimetype": "text/x-python",
   "name": "python",
   "nbconvert_exporter": "python",
   "pygments_lexer": "ipython3",
   "version": "3.7.6"
  }
 },
 "nbformat": 4,
 "nbformat_minor": 4
}
