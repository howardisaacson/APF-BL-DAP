{
 "cells": [
  {
   "cell_type": "code",
   "execution_count": 121,
   "metadata": {},
   "outputs": [],
   "source": [
    "import numpy as np\n",
    "import matplotlib.pylab as plt\n",
    "import pandas as pd\n",
    "from PIL import Image\n",
    "from IPython.display import Image, display\n",
    "from sklearn.datasets import load_iris"
   ]
  },
  {
   "cell_type": "code",
   "execution_count": 122,
   "metadata": {},
   "outputs": [],
   "source": [
    "def x_round(x, numpixels = 1):\n",
    "    # round value to nearest pixel (one pixel is 1/50 A)\n",
    "    return round(x*50/numpixels)/(50/numpixels)"
   ]
  },
  {
   "cell_type": "code",
   "execution_count": 123,
   "metadata": {},
   "outputs": [],
   "source": [
    "directory = '/mnt_home/zoek/code/APF-BL-DAP/Zoe/6sResults/'\n",
    "spectra_file = directory + 's_detectionWLs.csv'\n",
    "residuals_file = directory + 'r_detectionWLs.csv'\n",
    "\n",
    "spectra_results = pd.read_csv(spectra_file)\n",
    "residuals_results = pd.read_csv(residuals_file)\n",
    "\n",
    "persistent_spectra = pd.read_csv(directory + 's_persistent_events.csv')\n",
    "persistent_residuals = pd.read_csv(directory + 'r_persistent_events.csv')"
   ]
  },
  {
   "cell_type": "code",
   "execution_count": 124,
   "metadata": {},
   "outputs": [],
   "source": [
    "# repeated wavelengths using the 3 AMD run - in the rest frame and observed frame\n",
    "\n",
    "rep_observed = pd.read_csv('/mnt_home/zoek/code/APF-BL-DAP/Zoe/3sResults/rep_observed_wls.csv')\n",
    "rep_rest = pd.read_csv('/mnt_home/zoek/code/APF-BL-DAP/Zoe/3sResults/rep_rest_wls.csv')\n",
    "\n",
    "rep_observed_wls_3s = rep_observed['observed wl']\n",
    "rep_rest_wls_3s = rep_rest['rest wl']\n",
    "\n",
    "rep_observed_wls_3s = x_round(rep_observed_wls_3s)\n",
    "rep_rest_wls_3s = x_round(rep_rest_wls_3s)"
   ]
  },
  {
   "cell_type": "code",
   "execution_count": 126,
   "metadata": {},
   "outputs": [],
   "source": [
    "# These are the 55 events that passed all the tests.\n",
    "persistent_residuals.to_csv('pers_res.csv')"
   ]
  },
  {
   "cell_type": "markdown",
   "metadata": {},
   "source": [
    "## Repeated observed wavelengths - sky emission lines, deblazing artifacts"
   ]
  },
  {
   "cell_type": "code",
   "execution_count": 127,
   "metadata": {},
   "outputs": [],
   "source": [
    "# Remove all candidates with observed wavelengths that fall into rep_observed_wls_3s\n",
    "persistent_residuals_rem_obs = persistent_residuals[~persistent_residuals['rounded r unshifted wl'].isin(rep_observed_wls_3s)]\n",
    "persistent_residuals_rem_obs.reset_index(inplace=True)"
   ]
  },
  {
   "cell_type": "code",
   "execution_count": 128,
   "metadata": {},
   "outputs": [
    {
     "name": "stdout",
     "output_type": "stream",
     "text": [
      "These are the 9 TOTAL observed wavelengths that are removed:\n"
     ]
    },
    {
     "data": {
      "text/plain": [
       "array([5013.88, 5014.32, 5016.48, 5083.5 , 5405.88, 5577.4 , 5577.42,\n",
       "       5895.96, 5895.98])"
      ]
     },
     "execution_count": 128,
     "metadata": {},
     "output_type": "execute_result"
    }
   ],
   "source": [
    "print('These are the 9 TOTAL observed wavelengths that are removed:')\n",
    "removed_obs_wls = persistent_residuals[persistent_residuals['rounded r unshifted wl'].isin(rep_observed_wls_3s)]\n",
    "removed_obs_wls = removed_obs_wls['rounded r unshifted wl'].unique()\n",
    "removed_obs_wls"
   ]
  },
  {
   "cell_type": "code",
   "execution_count": 129,
   "metadata": {},
   "outputs": [
    {
     "name": "stdout",
     "output_type": "stream",
     "text": [
      "deblazing artifacts:\n",
      "[5013.88, 5014.32, 5016.48]\n",
      "\n",
      "sky emission lines to classify:\n",
      "[5083.5, 5405.88, 5577.4, 5577.42, 5895.96, 5895.98]\n"
     ]
    }
   ],
   "source": [
    "print('deblazing artifacts:')\n",
    "print([5013.88, 5014.32, 5016.48])\n",
    "print('')\n",
    "print('sky emission lines to classify:')\n",
    "print([5083.5 , 5405.88, 5577.4 , 5577.42, 5895.96, 5895.98])"
   ]
  },
  {
   "cell_type": "code",
   "execution_count": 130,
   "metadata": {},
   "outputs": [],
   "source": [
    "# drop all candidates that have less than 3 observations in a night\n",
    "less_than_3 = persistent_residuals_rem_obs.groupby(['rounded r shifted wl', 'star']).count().reset_index()\n",
    "less_than_3 = less_than_3[less_than_3['identifier'] < 3]\n",
    "less_than_3.reset_index(inplace=True)\n",
    "less_than_3 = less_than_3.loc[:, ['rounded r shifted wl', 'star']]\n",
    "for index, row in less_than_3.iterrows():\n",
    "    wl = row['rounded r shifted wl']\n",
    "    star = row['star']\n",
    "    sub_table = persistent_residuals_rem_obs[persistent_residuals_rem_obs['star'] == star]\n",
    "    sub_table = sub_table[sub_table['rounded r shifted wl'] == wl]\n",
    "    indicies_to_remove = list(sub_table['index'])\n",
    "    persistent_residuals_rem_obs = persistent_residuals_rem_obs[~persistent_residuals_rem_obs['index'].isin(indicies_to_remove)]"
   ]
  },
  {
   "cell_type": "code",
   "execution_count": 132,
   "metadata": {},
   "outputs": [],
   "source": [
    "# These are all the events after removing the observed wavelengths that show up repeatedly across the 3s results.\n",
    "persistent_residuals_rem_obs.to_csv('pers_res_filtered.csv')"
   ]
  },
  {
   "cell_type": "code",
   "execution_count": 133,
   "metadata": {},
   "outputs": [
    {
     "name": "stdout",
     "output_type": "stream",
     "text": [
      "# final events\n"
     ]
    },
    {
     "data": {
      "text/plain": [
       "42"
      ]
     },
     "execution_count": 133,
     "metadata": {},
     "output_type": "execute_result"
    }
   ],
   "source": [
    "print('# final events')\n",
    "len(persistent_residuals_rem_obs.groupby(['star', 'rounded r shifted wl']).first().reset_index())"
   ]
  },
  {
   "cell_type": "code",
   "execution_count": 134,
   "metadata": {},
   "outputs": [
    {
     "name": "stdout",
     "output_type": "stream",
     "text": [
      "# stars\n"
     ]
    },
    {
     "data": {
      "text/plain": [
       "16"
      ]
     },
     "execution_count": 134,
     "metadata": {},
     "output_type": "execute_result"
    }
   ],
   "source": [
    "print('# stars')\n",
    "len(persistent_residuals_rem_obs['star'].unique())"
   ]
  },
  {
   "cell_type": "code",
   "execution_count": 151,
   "metadata": {},
   "outputs": [],
   "source": [
    "persistent_residuals['date'] = persistent_residuals['observation time'].str.split('T').str[0]\n",
    "dates = persistent_residuals.groupby(['star', 'date']).first()[['identifier']].reset_index()\n",
    "dates = dates.groupby('star').agg(lambda x: list(x)).reset_index().drop(columns='identifier')"
   ]
  },
  {
   "cell_type": "code",
   "execution_count": 152,
   "metadata": {},
   "outputs": [],
   "source": [
    "stars = list(dates['star'])\n",
    "dates = list(dates['date'])"
   ]
  },
  {
   "cell_type": "code",
   "execution_count": 154,
   "metadata": {},
   "outputs": [
    {
     "data": {
      "text/plain": [
       "['HIP101262',\n",
       " 'HIP107975',\n",
       " 'HIP114430',\n",
       " 'HIP117463',\n",
       " 'HIP14286',\n",
       " 'HIP14576',\n",
       " 'HIP24332',\n",
       " 'HIP36152',\n",
       " 'HIP45836',\n",
       " 'HIP47990',\n",
       " 'HIP50384',\n",
       " 'HIP67301',\n",
       " 'HIP677',\n",
       " 'HIP68030',\n",
       " 'HIP73695',\n",
       " 'HIP77760',\n",
       " 'HIP84862',\n",
       " 'HIP8543',\n",
       " 'HIP91919',\n",
       " 'HIP91926',\n",
       " 'HIP93747',\n",
       " 'HIP97649',\n",
       " 'HIP98677',\n",
       " 'TIC142276270',\n",
       " 'TIC198456933',\n",
       " 'TIC219778329']"
      ]
     },
     "execution_count": 154,
     "metadata": {},
     "output_type": "execute_result"
    }
   ],
   "source": [
    "stars"
   ]
  },
  {
   "cell_type": "code",
   "execution_count": 155,
   "metadata": {},
   "outputs": [
    {
     "data": {
      "text/plain": [
       "[['2020-05-28'],\n",
       " ['2019-07-10'],\n",
       " ['2018-04-02'],\n",
       " ['2019-11-06'],\n",
       " ['2018-11-05'],\n",
       " ['2018-11-05'],\n",
       " ['2016-11-02'],\n",
       " ['2018-03-28'],\n",
       " ['2018-06-19'],\n",
       " ['2021-04-11'],\n",
       " ['2017-03-08'],\n",
       " ['2018-07-27'],\n",
       " ['2018-10-23'],\n",
       " ['2017-05-14', '2020-05-29', '2020-06-05'],\n",
       " ['2018-05-22'],\n",
       " ['2018-06-06'],\n",
       " ['2019-07-10', '2019-07-24'],\n",
       " ['2020-08-15'],\n",
       " ['2017-08-26'],\n",
       " ['2017-08-25'],\n",
       " ['2018-06-19'],\n",
       " ['2018-06-29'],\n",
       " ['2020-05-23'],\n",
       " ['2021-06-20'],\n",
       " ['2021-08-31'],\n",
       " ['2021-08-27']]"
      ]
     },
     "execution_count": 155,
     "metadata": {},
     "output_type": "execute_result"
    }
   ],
   "source": [
    "dates"
   ]
  },
  {
   "cell_type": "code",
   "execution_count": null,
   "metadata": {},
   "outputs": [],
   "source": []
  },
  {
   "cell_type": "code",
   "execution_count": null,
   "metadata": {},
   "outputs": [],
   "source": []
  },
  {
   "cell_type": "code",
   "execution_count": null,
   "metadata": {},
   "outputs": [],
   "source": []
  },
  {
   "cell_type": "code",
   "execution_count": null,
   "metadata": {},
   "outputs": [],
   "source": []
  }
 ],
 "metadata": {
  "kernelspec": {
   "display_name": "Python 3",
   "language": "python",
   "name": "python3"
  },
  "language_info": {
   "codemirror_mode": {
    "name": "ipython",
    "version": 3
   },
   "file_extension": ".py",
   "mimetype": "text/x-python",
   "name": "python",
   "nbconvert_exporter": "python",
   "pygments_lexer": "ipython3",
   "version": "3.7.6"
  }
 },
 "nbformat": 4,
 "nbformat_minor": 4
}
