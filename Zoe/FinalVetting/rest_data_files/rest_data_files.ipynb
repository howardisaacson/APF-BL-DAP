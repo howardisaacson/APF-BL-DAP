{
 "cells": [
  {
   "cell_type": "code",
   "execution_count": 1,
   "metadata": {},
   "outputs": [],
   "source": [
    "import numpy as np\n",
    "import pandas as pd\n",
    "import os\n",
    "import astropy.io.fits as fits"
   ]
  },
  {
   "cell_type": "code",
   "execution_count": 2,
   "metadata": {},
   "outputs": [],
   "source": [
    "directory = '/mnt_home/azuckerman/BL_APF_DAP/APF_spectra/NDRS_ind'\n",
    "residuals_target_list = pd.read_csv('/mnt_home/zoek/code/APF-BL-DAP/Zoe/Residual_list_all_ind_5-14-22.csv')['Filename']"
   ]
  },
  {
   "cell_type": "code",
   "execution_count": 3,
   "metadata": {},
   "outputs": [],
   "source": [
    "# These are the stars that contain a final candidate event that has not been vetted out \n",
    "# by repeated observed wavelengths\n",
    "\n",
    "stars = ['HIP14286',\n",
    " 'HIP68030',\n",
    " 'HIP73695',\n",
    " 'HIP14576',\n",
    " 'HIP77760',\n",
    " 'HIP93747',\n",
    " 'HIP91919',\n",
    " 'HIP67301',\n",
    " 'HIP91926',\n",
    " 'HIP97649',\n",
    " 'HIP47990',\n",
    " 'TIC142276270',\n",
    " 'HIP98677',\n",
    " 'TIC198456933',\n",
    " 'TIC219778329',\n",
    " 'HIP101262',\n",
    " 'HIP677',\n",
    " 'HIP107975',\n",
    " 'HIP117463',\n",
    " 'HIP114430']\n",
    "\n",
    "# These are the observation dates of each star\n",
    "dates = [['2018-11-05'],\n",
    " ['2017-05-14', '2020-06-05', '2020-05-29'],\n",
    " ['2018-05-22'],\n",
    " ['2018-11-05'],\n",
    " ['2018-06-06'],\n",
    " ['2018-06-19'],\n",
    " ['2017-08-26'],\n",
    " ['2018-07-27'],\n",
    " ['2017-08-25'],\n",
    " ['2018-06-29'],\n",
    " ['2021-04-11'],\n",
    " ['2021-06-20'],\n",
    " ['2020-05-23'],\n",
    " ['2021-08-31'],\n",
    " ['2021-08-27'],\n",
    " ['2020-05-28'],\n",
    " ['2018-10-23'],\n",
    " ['2019-07-10'],\n",
    " ['2019-11-06'],\n",
    " ['2018-04-02']]"
   ]
  },
  {
   "cell_type": "code",
   "execution_count": 4,
   "metadata": {},
   "outputs": [],
   "source": [
    "list_of_files = []\n",
    "for filename in os.listdir(directory):\n",
    "    if filename.endswith(\".fits\"): \n",
    "        file_path = os.path.join(directory, filename)\n",
    "        identifier = file_path.split('/')[-1]\n",
    "        length = len(identifier)\n",
    "        identifier = identifier[:length-10]  \n",
    "        if residuals_target_list.str.contains(identifier).any():\n",
    "            list_of_files = np.append(list_of_files, file_path)"
   ]
  },
  {
   "cell_type": "code",
   "execution_count": 5,
   "metadata": {},
   "outputs": [
    {
     "name": "stdout",
     "output_type": "stream",
     "text": [
      "HIP14286\n",
      "HIP68030\n",
      "HIP73695\n",
      "HIP14576\n",
      "HIP77760\n",
      "HIP93747\n",
      "HIP91919\n",
      "HIP67301\n",
      "HIP91926\n",
      "HIP97649\n",
      "HIP47990\n",
      "TIC142276270\n",
      "HIP98677\n",
      "TIC198456933\n",
      "TIC219778329\n",
      "HIP101262\n",
      "HIP677\n",
      "HIP107975\n",
      "HIP117463\n",
      "HIP114430\n"
     ]
    }
   ],
   "source": [
    "for i in np.arange(len(stars)):\n",
    "    files_of_interest = []\n",
    "    star = stars[i]\n",
    "    date = dates[i]\n",
    "    for which_star in np.arange(len(list_of_files)):\n",
    "        APF_flux_path = list_of_files[which_star]\n",
    "        file = fits.open(APF_flux_path)\n",
    "        header = file[0].header\n",
    "        obj = header['TOBJECT']\n",
    "        date_obs = header['DATE-OBS']\n",
    "        if obj == star:\n",
    "            for subdate in date:\n",
    "                if subdate in date_obs:\n",
    "                    files_of_interest += [APF_flux_path]\n",
    "    np.save(star, np.array(files_of_interest))\n",
    "    print(star)"
   ]
  }
 ],
 "metadata": {
  "kernelspec": {
   "display_name": "Python 3",
   "language": "python",
   "name": "python3"
  },
  "language_info": {
   "codemirror_mode": {
    "name": "ipython",
    "version": 3
   },
   "file_extension": ".py",
   "mimetype": "text/x-python",
   "name": "python",
   "nbconvert_exporter": "python",
   "pygments_lexer": "ipython3",
   "version": "3.7.6"
  }
 },
 "nbformat": 4,
 "nbformat_minor": 4
}
