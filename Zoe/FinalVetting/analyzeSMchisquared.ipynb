{
 "cells": [
  {
   "cell_type": "markdown",
   "id": "bfb7ac43-5374-4262-9f60-a1909e6de3a1",
   "metadata": {},
   "source": [
    "ONLY RUN ONCE to save pers_res_filtered and pers_res files.\n",
    "don't run again"
   ]
  },
  {
   "cell_type": "code",
   "execution_count": 13,
   "id": "d528c649-2858-4c84-9f04-8ebefd4bcd60",
   "metadata": {},
   "outputs": [],
   "source": [
    "import matplotlib.pylab as plt\n",
    "import numpy as np\n",
    "import pandas as pd\n",
    "import astropy.io.fits as fits\n",
    "from glob import glob"
   ]
  },
  {
   "cell_type": "code",
   "execution_count": 14,
   "id": "3affc7eb-81d7-4802-8039-a761bbca083d",
   "metadata": {},
   "outputs": [],
   "source": [
    "chi_squared = pd.read_csv('/home/zoek/code/APF-BL-DAP/Zoe/specmatch_results_ind_8Apr2022.csv')[['name', 'best_mean_chi_squared']]"
   ]
  },
  {
   "cell_type": "code",
   "execution_count": 15,
   "id": "7aeef274-1c5c-41b7-9c78-9e71c7510029",
   "metadata": {},
   "outputs": [],
   "source": [
    "# add chi squared values to FILTERED persistent results table"
   ]
  },
  {
   "cell_type": "code",
   "execution_count": 16,
   "id": "6e991dc8-b74a-4c04-b4b9-6ba98891184f",
   "metadata": {},
   "outputs": [],
   "source": [
    "pers_res_filtered = pd.read_csv('pers_res_filtered.csv')\n",
    "new_pers_res_filtered = pd.merge(pers_res_filtered, chi_squared, how='left', left_on='identifier', right_on='name').drop(columns=['name', 'Unnamed: 0.1', 'Unnamed: 0', 'index'])\n",
    "new_pers_res_filtered.to_csv('/home/zoek/code/APF-BL-DAP/Zoe/FinalVetting/pers_res_filtered.csv')"
   ]
  },
  {
   "cell_type": "code",
   "execution_count": 17,
   "id": "249a39f0-1366-40a8-a24c-1a1c13217cae",
   "metadata": {},
   "outputs": [],
   "source": [
    "# add chi squared values to persistent results table"
   ]
  },
  {
   "cell_type": "code",
   "execution_count": 18,
   "id": "5721fdf3-e780-4735-b5d1-685259d75ca6",
   "metadata": {},
   "outputs": [],
   "source": [
    "pers_res = pd.read_csv('pers_res.csv')\n",
    "new_pers_res = pd.merge(pers_res, chi_squared, how='left', left_on='identifier', right_on='name').drop(columns=['Unnamed: 0'])\n",
    "new_pers_res.to_csv('/home/zoek/code/APF-BL-DAP/Zoe/FinalVetting/pers_res.csv')"
   ]
  },
  {
   "cell_type": "code",
   "execution_count": null,
   "id": "9f8edcad-29a5-4086-bd51-326605376424",
   "metadata": {},
   "outputs": [],
   "source": []
  }
 ],
 "metadata": {
  "kernelspec": {
   "display_name": "Python 3",
   "language": "python",
   "name": "python3"
  },
  "language_info": {
   "codemirror_mode": {
    "name": "ipython",
    "version": 3
   },
   "file_extension": ".py",
   "mimetype": "text/x-python",
   "name": "python",
   "nbconvert_exporter": "python",
   "pygments_lexer": "ipython3",
   "version": "3.7.6"
  }
 },
 "nbformat": 4,
 "nbformat_minor": 5
}
