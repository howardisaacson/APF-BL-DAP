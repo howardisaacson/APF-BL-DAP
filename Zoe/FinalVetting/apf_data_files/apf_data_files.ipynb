{
 "cells": [
  {
   "cell_type": "code",
   "execution_count": 5,
   "metadata": {},
   "outputs": [],
   "source": [
    "import matplotlib.pylab as plt\n",
    "import numpy as np\n",
    "import pandas as pd\n",
    "import astropy.io.fits as fits\n",
    "from glob import glob"
   ]
  },
  {
   "cell_type": "code",
   "execution_count": 6,
   "metadata": {},
   "outputs": [],
   "source": [
    "directory = '/home/zoek/code/APF-BL-DAP/Zoe/FinalVetting/apf_data_files/'"
   ]
  },
  {
   "cell_type": "code",
   "execution_count": 7,
   "metadata": {},
   "outputs": [],
   "source": [
    "# These are the stars that contain a final candidate event that has not been vetted out \n",
    "# by repeated observed wavelengths\n",
    "\n",
    "stars = ['HIP101262',\n",
    " 'HIP107975',\n",
    " 'HIP114430',\n",
    " 'HIP117463',\n",
    " 'HIP14286',\n",
    " 'HIP14576',\n",
    " 'HIP24332',\n",
    " 'HIP36152',\n",
    " 'HIP45836',\n",
    " 'HIP47990',\n",
    " 'HIP50384',\n",
    " 'HIP67301',\n",
    " 'HIP677',\n",
    " 'HIP68030',\n",
    " 'HIP73695',\n",
    " 'HIP77760',\n",
    " 'HIP84862',\n",
    " 'HIP8543',\n",
    " 'HIP91919',\n",
    " 'HIP91926',\n",
    " 'HIP93747',\n",
    " 'HIP97649',\n",
    " 'HIP98677',\n",
    " 'TIC142276270',\n",
    " 'TIC198456933',\n",
    " 'TIC219778329']\n",
    "\n",
    "# These are the observation dates of each star\n",
    "dates = [['2020-05-28'],\n",
    " ['2019-07-10'],\n",
    " ['2018-04-02'],\n",
    " ['2019-11-06'],\n",
    " ['2018-11-05'],\n",
    " ['2018-11-05'],\n",
    " ['2016-11-02'],\n",
    " ['2018-03-28'],\n",
    " ['2018-06-19'],\n",
    " ['2021-04-11'],\n",
    " ['2017-03-08'],\n",
    " ['2018-07-27'],\n",
    " ['2018-10-23'],\n",
    " ['2017-05-14', '2020-05-29', '2020-06-05'],\n",
    " ['2018-05-22'],\n",
    " ['2018-06-06'],\n",
    " ['2019-07-10', '2019-07-24'],\n",
    " ['2020-08-15'],\n",
    " ['2017-08-26'],\n",
    " ['2017-08-25'],\n",
    " ['2018-06-19'],\n",
    " ['2018-06-29'],\n",
    " ['2020-05-23'],\n",
    " ['2021-06-20'],\n",
    " ['2021-08-31'],\n",
    " ['2021-08-27']]"
   ]
  },
  {
   "cell_type": "code",
   "execution_count": 8,
   "metadata": {},
   "outputs": [
    {
     "name": "stdout",
     "output_type": "stream",
     "text": [
      "HIP101262\n",
      "HIP107975\n",
      "HIP114430\n",
      "HIP117463\n",
      "HIP14286\n",
      "HIP14576\n",
      "HIP24332\n",
      "HIP36152\n",
      "HIP45836\n",
      "HIP47990\n",
      "HIP50384\n",
      "HIP67301\n",
      "HIP677\n",
      "HIP68030\n",
      "HIP73695\n",
      "HIP77760\n",
      "HIP84862\n",
      "HIP8543\n",
      "HIP91919\n",
      "HIP91926\n",
      "HIP93747\n",
      "HIP97649\n",
      "HIP98677\n",
      "TIC142276270\n",
      "TIC198456933\n",
      "TIC219778329\n"
     ]
    }
   ],
   "source": [
    "for i in np.arange(len(stars)):\n",
    "    star = stars[i]\n",
    "    date = dates[i]\n",
    "    files_of_interest = []\n",
    "    for file in glob(r'/datag/blpd0/datax/apf/r[abc]*'):\n",
    "        fl_file = fits.open(file)\n",
    "        obj = fl_file[0].header['TOBJECT']\n",
    "        date_obs = fl_file[0].header['DATE-OBS']\n",
    "        if len(date) == 1:\n",
    "            if obj == star and date[0] in date_obs:\n",
    "                files_of_interest += [file]\n",
    "        else:\n",
    "            for sub_date in date:\n",
    "                if obj == star and sub_date in date_obs:\n",
    "                    files_of_interest += [file]\n",
    "    files_of_interest = np.array(files_of_interest)\n",
    "    np.save(directory + star + '.npy', files_of_interest)\n",
    "    print(star)"
   ]
  },
  {
   "cell_type": "code",
   "execution_count": 9,
   "metadata": {},
   "outputs": [],
   "source": [
    "# save these additional stars for purposes of "
   ]
  },
  {
   "cell_type": "code",
   "execution_count": null,
   "metadata": {},
   "outputs": [],
   "source": []
  },
  {
   "cell_type": "code",
   "execution_count": null,
   "metadata": {},
   "outputs": [],
   "source": []
  },
  {
   "cell_type": "code",
   "execution_count": null,
   "metadata": {},
   "outputs": [],
   "source": []
  }
 ],
 "metadata": {
  "kernelspec": {
   "display_name": "Python 3",
   "language": "python",
   "name": "python3"
  },
  "language_info": {
   "codemirror_mode": {
    "name": "ipython",
    "version": 3
   },
   "file_extension": ".py",
   "mimetype": "text/x-python",
   "name": "python",
   "nbconvert_exporter": "python",
   "pygments_lexer": "ipython3",
   "version": "3.7.6"
  }
 },
 "nbformat": 4,
 "nbformat_minor": 4
}
