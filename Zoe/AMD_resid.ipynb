{
 "cells": [
  {
   "cell_type": "markdown",
   "metadata": {},
   "source": [
    "# Get Absolute Median Deviation of all Residuals\n",
    "Calculate the AMD for all stars that have residuals and store them in a table to use."
   ]
  },
  {
   "cell_type": "code",
   "execution_count": 24,
   "metadata": {},
   "outputs": [],
   "source": [
    "import numpy as np\n",
    "import pandas as pd\n",
    "import os\n",
    "import astropy.io.fits as fits\n",
    "from astropy import stats\n",
    "import matplotlib.pylab as plt"
   ]
  },
  {
   "cell_type": "code",
   "execution_count": 25,
   "metadata": {},
   "outputs": [],
   "source": [
    "resid_folder = '/mnt_home/azuckerman/BL_APF_DAP/APF_spectra/NDRR_ind'"
   ]
  },
  {
   "cell_type": "code",
   "execution_count": 28,
   "metadata": {},
   "outputs": [],
   "source": [
    "AMD_dict = {}\n",
    "\n",
    "for which_star in np.arange(0, len(list_of_files)):\n",
    "\n",
    "    APF_flux_path = list_of_files[which_star]\n",
    "    file = fits.open(APF_flux_path)\n",
    "    flux = file[0].data\n",
    "    wl = file[1].data\n",
    "\n",
    "    header = file[0].header\n",
    "    star = header['OBJECT']\n",
    "    abs_dev = stats.median_absolute_deviation(flux)\n",
    "    \n",
    "    if star in AMD_dict:\n",
    "        AMD_dict[star] = AMD_dict[star] + [abs_dev]\n",
    "    else:\n",
    "        AMD_dict[star] = [abs_dev]"
   ]
  },
  {
   "cell_type": "code",
   "execution_count": 10,
   "metadata": {},
   "outputs": [
    {
     "data": {
      "image/png": "[encoded data removed]",
      "text/plain": [
       "<Figure size 640x480 with 1 Axes>"
      ]
     },
     "metadata": {},
     "output_type": "display_data"
    }
   ],
   "source": [
    "APF_flux_path = '/mnt_home/azuckerman/BL_APF_DAP/APF_spectra/NDRR_ind/GJ1002_0_NDRR.fits'\n",
    "file = fits.open(APF_flux_path)\n",
    "flux = file[1].data\n",
    "wl = file[2].data\n",
    "\n",
    "plt.plot(wl, flux)\n",
    "plt.show()"
   ]
  },
  {
   "cell_type": "code",
   "execution_count": 52,
   "metadata": {},
   "outputs": [],
   "source": [
    "stars = list(AMD_dict.keys())\n",
    "resid_AMDs = []\n",
    "\n",
    "for key in AMD_dict:\n",
    "    AMDs = AMD_dict[key]\n",
    "    resid_AMDs += [np.median(AMDs)]"
   ]
  },
  {
   "cell_type": "code",
   "execution_count": 55,
   "metadata": {},
   "outputs": [],
   "source": [
    "resid_AMD_table = pd.DataFrame({'Star': stars, 'AMD Residual': resid_AMDs})"
   ]
  },
  {
   "cell_type": "code",
   "execution_count": 62,
   "metadata": {},
   "outputs": [
    {
     "data": {
      "text/html": [
       "<div>\n",
       "<style scoped>\n",
       "    .dataframe tbody tr th:only-of-type {\n",
       "        vertical-align: middle;\n",
       "    }\n",
       "\n",
       "    .dataframe tbody tr th {\n",
       "        vertical-align: top;\n",
       "    }\n",
       "\n",
       "    .dataframe thead th {\n",
       "        text-align: right;\n",
       "    }\n",
       "</style>\n",
       "<table border=\"1\" class=\"dataframe\">\n",
       "  <thead>\n",
       "    <tr style=\"text-align: right;\">\n",
       "      <th></th>\n",
       "      <th>Star</th>\n",
       "      <th>AMD Residual</th>\n",
       "    </tr>\n",
       "  </thead>\n",
       "  <tbody>\n",
       "    <tr>\n",
       "      <th>0</th>\n",
       "      <td>HIP94650</td>\n",
       "      <td>0.056224</td>\n",
       "    </tr>\n",
       "    <tr>\n",
       "      <th>1</th>\n",
       "      <td>HIP79137</td>\n",
       "      <td>0.055300</td>\n",
       "    </tr>\n",
       "    <tr>\n",
       "      <th>2</th>\n",
       "      <td>HIP102101</td>\n",
       "      <td>0.104098</td>\n",
       "    </tr>\n",
       "    <tr>\n",
       "      <th>3</th>\n",
       "      <td>HIP66781</td>\n",
       "      <td>0.042300</td>\n",
       "    </tr>\n",
       "    <tr>\n",
       "      <th>4</th>\n",
       "      <td>HIP6379</td>\n",
       "      <td>0.032163</td>\n",
       "    </tr>\n",
       "    <tr>\n",
       "      <th>...</th>\n",
       "      <td>...</td>\n",
       "      <td>...</td>\n",
       "    </tr>\n",
       "    <tr>\n",
       "      <th>793</th>\n",
       "      <td>HIP64394</td>\n",
       "      <td>0.018182</td>\n",
       "    </tr>\n",
       "    <tr>\n",
       "      <th>794</th>\n",
       "      <td>TIC352764091</td>\n",
       "      <td>0.024641</td>\n",
       "    </tr>\n",
       "    <tr>\n",
       "      <th>795</th>\n",
       "      <td>HIP42940</td>\n",
       "      <td>0.050732</td>\n",
       "    </tr>\n",
       "    <tr>\n",
       "      <th>796</th>\n",
       "      <td>HIP72220</td>\n",
       "      <td>0.007603</td>\n",
       "    </tr>\n",
       "    <tr>\n",
       "      <th>797</th>\n",
       "      <td>TIC269701147</td>\n",
       "      <td>0.027830</td>\n",
       "    </tr>\n",
       "  </tbody>\n",
       "</table>\n",
       "<p>798 rows × 2 columns</p>\n",
       "</div>"
      ],
      "text/plain": [
       "             Star  AMD Residual\n",
       "0        HIP94650      0.056224\n",
       "1        HIP79137      0.055300\n",
       "2       HIP102101      0.104098\n",
       "3        HIP66781      0.042300\n",
       "4         HIP6379      0.032163\n",
       "..            ...           ...\n",
       "793      HIP64394      0.018182\n",
       "794  TIC352764091      0.024641\n",
       "795      HIP42940      0.050732\n",
       "796      HIP72220      0.007603\n",
       "797  TIC269701147      0.027830\n",
       "\n",
       "[798 rows x 2 columns]"
      ]
     },
     "execution_count": 62,
     "metadata": {},
     "output_type": "execute_result"
    }
   ],
   "source": [
    "resid_AMD_table"
   ]
  },
  {
   "cell_type": "code",
   "execution_count": 65,
   "metadata": {},
   "outputs": [],
   "source": [
    "resid_AMD_table.to_pickle(\"/home/zoek/code/APF-BL-DAP/Zoe/resid_AMD.pkl\")"
   ]
  },
  {
   "cell_type": "code",
   "execution_count": 82,
   "metadata": {},
   "outputs": [
    {
     "data": {
      "text/html": [
       "<div>\n",
       "<style scoped>\n",
       "    .dataframe tbody tr th:only-of-type {\n",
       "        vertical-align: middle;\n",
       "    }\n",
       "\n",
       "    .dataframe tbody tr th {\n",
       "        vertical-align: top;\n",
       "    }\n",
       "\n",
       "    .dataframe thead th {\n",
       "        text-align: right;\n",
       "    }\n",
       "</style>\n",
       "<table border=\"1\" class=\"dataframe\">\n",
       "  <thead>\n",
       "    <tr style=\"text-align: right;\">\n",
       "      <th></th>\n",
       "      <th>Star</th>\n",
       "      <th>AMD Residual</th>\n",
       "    </tr>\n",
       "  </thead>\n",
       "  <tbody>\n",
       "    <tr>\n",
       "      <th>0</th>\n",
       "      <td>HIP94650</td>\n",
       "      <td>0.056224</td>\n",
       "    </tr>\n",
       "    <tr>\n",
       "      <th>1</th>\n",
       "      <td>HIP79137</td>\n",
       "      <td>0.055300</td>\n",
       "    </tr>\n",
       "    <tr>\n",
       "      <th>2</th>\n",
       "      <td>HIP102101</td>\n",
       "      <td>0.104098</td>\n",
       "    </tr>\n",
       "    <tr>\n",
       "      <th>3</th>\n",
       "      <td>HIP66781</td>\n",
       "      <td>0.042300</td>\n",
       "    </tr>\n",
       "    <tr>\n",
       "      <th>4</th>\n",
       "      <td>HIP6379</td>\n",
       "      <td>0.032163</td>\n",
       "    </tr>\n",
       "    <tr>\n",
       "      <th>...</th>\n",
       "      <td>...</td>\n",
       "      <td>...</td>\n",
       "    </tr>\n",
       "    <tr>\n",
       "      <th>793</th>\n",
       "      <td>HIP64394</td>\n",
       "      <td>0.018182</td>\n",
       "    </tr>\n",
       "    <tr>\n",
       "      <th>794</th>\n",
       "      <td>TIC352764091</td>\n",
       "      <td>0.024641</td>\n",
       "    </tr>\n",
       "    <tr>\n",
       "      <th>795</th>\n",
       "      <td>HIP42940</td>\n",
       "      <td>0.050732</td>\n",
       "    </tr>\n",
       "    <tr>\n",
       "      <th>796</th>\n",
       "      <td>HIP72220</td>\n",
       "      <td>0.007603</td>\n",
       "    </tr>\n",
       "    <tr>\n",
       "      <th>797</th>\n",
       "      <td>TIC269701147</td>\n",
       "      <td>0.027830</td>\n",
       "    </tr>\n",
       "  </tbody>\n",
       "</table>\n",
       "<p>798 rows × 2 columns</p>\n",
       "</div>"
      ],
      "text/plain": [
       "             Star  AMD Residual\n",
       "0        HIP94650      0.056224\n",
       "1        HIP79137      0.055300\n",
       "2       HIP102101      0.104098\n",
       "3        HIP66781      0.042300\n",
       "4         HIP6379      0.032163\n",
       "..            ...           ...\n",
       "793      HIP64394      0.018182\n",
       "794  TIC352764091      0.024641\n",
       "795      HIP42940      0.050732\n",
       "796      HIP72220      0.007603\n",
       "797  TIC269701147      0.027830\n",
       "\n",
       "[798 rows x 2 columns]"
      ]
     },
     "execution_count": 82,
     "metadata": {},
     "output_type": "execute_result"
    }
   ],
   "source": [
    "star = 'HIP94650'\n",
    "resid_AMD_table"
   ]
  },
  {
   "cell_type": "code",
   "execution_count": 87,
   "metadata": {},
   "outputs": [
    {
     "data": {
      "text/plain": [
       "0.05622409245394322"
      ]
     },
     "execution_count": 87,
     "metadata": {},
     "output_type": "execute_result"
    }
   ],
   "source": []
  },
  {
   "cell_type": "code",
   "execution_count": null,
   "metadata": {},
   "outputs": [],
   "source": []
  }
 ],
 "metadata": {
  "kernelspec": {
   "display_name": "Python 3",
   "language": "python",
   "name": "python3"
  },
  "language_info": {
   "codemirror_mode": {
    "name": "ipython",
    "version": 3
   },
   "file_extension": ".py",
   "mimetype": "text/x-python",
   "name": "python",
   "nbconvert_exporter": "python",
   "pygments_lexer": "ipython3",
   "version": "3.7.6"
  }
 },
 "nbformat": 4,
 "nbformat_minor": 4
}
