{
 "cells": [
  {
   "cell_type": "markdown",
   "metadata": {},
   "source": [
    "# Plot 2-D Spectrum for Candidate Events\n",
    "#### Iterate through Results folder, creating plots of the 2-D spectrum for the candidate events."
   ]
  },
  {
   "cell_type": "code",
   "execution_count": 7,
   "metadata": {},
   "outputs": [],
   "source": [
    "import astropy.io.fits as fits\n",
    "import matplotlib.pylab as plt\n",
    "import numpy as np\n",
    "import glob\n",
    "import pickle\n",
    "import pandas as pd\n",
    "import os"
   ]
  },
  {
   "cell_type": "code",
   "execution_count": 9,
   "metadata": {},
   "outputs": [],
   "source": [
    "directory = '/home/zoek/code/APF-BL-DAP/Zoe/indResults'\n",
    "\n",
    "# how many pixels in the x and y direction to include in the 2-D spectrum plot\n",
    "y_pixels = 16\n",
    "x_pixels = 40"
   ]
  },
  {
   "cell_type": "code",
   "execution_count": 10,
   "metadata": {},
   "outputs": [],
   "source": [
    "APF_wavelength_path = '/mnt_home/zoek/code/APF-BL-DAP/Zoe/APFTutorial/apf_wav.fits'\n",
    "wl_file = fits.open(APF_wavelength_path)\n",
    "wl_image = wl_file[0].data"
   ]
  },
  {
   "cell_type": "code",
   "execution_count": 11,
   "metadata": {},
   "outputs": [],
   "source": [
    "def find_location_of_closest_val(val, array, round_by = 2):\n",
    "    '''given a wavelength value, find the indicies that give its location in wl_image\n",
    "    returns order #, pixel #'''\n",
    "    rounded_val = np.round(val, round_by)\n",
    "    for sub_array in array:\n",
    "        rounded_sub_array = np.round(sub_array, round_by)\n",
    "        if rounded_val in rounded_sub_array:\n",
    "            return(array.tolist().index(sub_array.tolist()), rounded_sub_array.tolist().index(rounded_val))"
   ]
  },
  {
   "cell_type": "code",
   "execution_count": 12,
   "metadata": {},
   "outputs": [],
   "source": [
    "# read in dictionary and coefficient array \n",
    "# (coefficients of polynomials describing the curve of the 2-d spectra)\n",
    "spect_dict = pd.read_pickle(r'/home/zoek/code/APF-BL-DAP/Zoe/SpectraMapping/spect2d.pkl')\n",
    "\n",
    "text = open('/mnt_home/zoek/code/APF-BL-DAP/Zoe/SpectraMapping/order_coefficients.txt', \"r\")\n",
    "lines = text.read().splitlines()\n",
    "coeff_array = np.zeros((79,5))\n",
    "for i in range(len(lines)):\n",
    "    a0 = float(lines[i][6:13].strip())\n",
    "    a1 = float(lines[i][17:26].strip())\n",
    "    a2 = float(lines[i][27:39].strip())\n",
    "    a3 = float(lines[i][40:52].strip())\n",
    "    a4 = float(lines[i][54:].strip())\n",
    "    coeffs_one_line = np.array([a0,a1,a2,a3,a4])\n",
    "    coeff_array[i] += coeffs_one_line"
   ]
  },
  {
   "cell_type": "code",
   "execution_count": 13,
   "metadata": {},
   "outputs": [],
   "source": [
    "for file in glob.glob(directory + '/*'):\n",
    "    if not 'csv' in file:\n",
    "        for subfile in glob.glob(file + '/*'):\n",
    "            if 'detected_wls.csv' in subfile and 's_' in subfile:\n",
    "                for wl in pd.read_csv(subfile)['s unshifted wl']:\n",
    "                    new_dir = file + '/' + str(round(wl, 2))\n",
    "                    star = (file.split('/')[-1])\n",
    "                    if not os.path.isdir(new_dir):\n",
    "                        os.mkdir(new_dir)\n",
    "                        \n",
    "                    # find order and pixel in apf 1-d wl array\n",
    "                    \n",
    "                    result = find_location_of_closest_val(wl, wl_image, round_by = 2)\n",
    "                    if result == None:\n",
    "                        result = find_location_of_closest_val(wl, wl_image, round_by = 1)\n",
    "                    else:\n",
    "                        order, pixel = result\n",
    "\n",
    "                    # find corresponding 2-D spectrum\n",
    "                    if star in spect_dict:\n",
    "                        spect2d = spect_dict[star]\n",
    "                    else:\n",
    "                        break\n",
    "\n",
    "                    for subsubfile in spect2d:\n",
    "                        apf_2d = fits.open(subsubfile)\n",
    "                        image_2d = apf_2d[0].data\n",
    "                        image_rot = np.rot90(image_2d)\n",
    "                        image_flip = np.fliplr(image_rot)\n",
    "                        star = apf_2d[0].header['TOBJECT']\n",
    "\n",
    "                        a0 = coeff_array[order,0]\n",
    "                        a1 = coeff_array[order,1]\n",
    "                        a2 = coeff_array[order,2]\n",
    "                        a3 = coeff_array[order,3]\n",
    "                        a4 = coeff_array[order,4]\n",
    "\n",
    "                        y = a0 + a1*pixel + a2*pixel**2 + a3*pixel**3 + a4*pixel**4\n",
    "                        y = int(y)\n",
    "\n",
    "                        new_image = image_flip[y-(y_pixels//2):y+(y_pixels//2),pixel-(x_pixels//2):pixel+(x_pixels//2)] \n",
    "                        # y coords, then x coords\n",
    "\n",
    "                        lower_bound = pixel - (x_pixels//2)\n",
    "                        if lower_bound < 0:\n",
    "                            lower_bound = 0\n",
    "\n",
    "                        upper_bound = pixel + (x_pixels//2)\n",
    "                        if upper_bound > 4606:\n",
    "                            upper_bound = 4606\n",
    "                            \n",
    "                        extent = [wl_image[order][lower_bound] - wl_image[order][pixel], \n",
    "                          wl_image[order][upper_bound]- wl_image[order][pixel], \n",
    "                          wl_image[order][lower_bound] - wl_image[order][pixel], \n",
    "                          wl_image[order][upper_bound]- wl_image[order][pixel]]\n",
    "\n",
    "                        fig = plt.figure()\n",
    "                        plt.imshow(new_image, cmap = 'gray', \n",
    "                                   vmin = np.median(new_image), \n",
    "                                   vmax = np.max(new_image), origin = 'lower',\n",
    "                                  extent=extent)\n",
    "                        plt.xlabel('Wavelength [A] - ' + str((round(wl, 2))) + ' A')\n",
    "                        plt.title(star + ' at ' + str((round(wl, 2))) + ' A')\n",
    "                        spect_fname = subsubfile.split('/')[-1].split('.')[-2]\n",
    "                        ax = fig.gca()\n",
    "                        ax.get_yaxis().set_visible(False)\n",
    "                        pathname = new_dir + '/' + spect_fname + '.png'\n",
    "                        if os.path.isfile(pathname):\n",
    "                            os.remove(pathname)\n",
    "                        fig.savefig(pathname)\n",
    "                        plt.close(fig)"
   ]
  },
  {
   "cell_type": "code",
   "execution_count": null,
   "metadata": {},
   "outputs": [],
   "source": []
  }
 ],
 "metadata": {
  "kernelspec": {
   "display_name": "Python 3",
   "language": "python",
   "name": "python3"
  },
  "language_info": {
   "codemirror_mode": {
    "name": "ipython",
    "version": 3
   },
   "file_extension": ".py",
   "mimetype": "text/x-python",
   "name": "python",
   "nbconvert_exporter": "python",
   "pygments_lexer": "ipython3",
   "version": "3.7.6"
  }
 },
 "nbformat": 4,
 "nbformat_minor": 4
}
