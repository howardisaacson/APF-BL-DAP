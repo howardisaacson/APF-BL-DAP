{
 "cells": [
  {
   "cell_type": "markdown",
   "metadata": {},
   "source": [
    "# Laser Detection Algorithm on All Residuals\n",
    "Run the laser detection algorithm on all stars, using absolute median noise to determine threshold"
   ]
  },
  {
   "cell_type": "code",
   "execution_count": 29,
   "metadata": {},
   "outputs": [],
   "source": [
    "import astropy.io.fits as fits\n",
    "import matplotlib.pylab as plt\n",
    "import numpy as np\n",
    "from scipy.signal import medfilt\n",
    "from scipy.interpolate import interp1d\n",
    "from scipy.interpolate import splev, splrep\n",
    "import math\n",
    "from mpmath import mp\n",
    "import os\n",
    "import os.path \n",
    "import random\n",
    "from random import seed\n",
    "from random import choice\n",
    "from random import uniform\n",
    "import mplcursors\n",
    "import pandas as pd\n",
    "import glob\n",
    "from operator import itemgetter\n",
    "\n",
    "from astropy import stats\n",
    "import astropy\n",
    "%matplotlib inline"
   ]
  },
  {
   "cell_type": "code",
   "execution_count": 23,
   "metadata": {},
   "outputs": [],
   "source": [
    "import csv\n",
    "\n",
    "directory = '/mnt_home/azuckerman/BL_APF_DAP/APF_spectra/NDRR_all_apf/'\n",
    "\n",
    "with open('/mnt_home/zoek/code/APF-BL-DAP/Zoe/Residual_file_list.csv', newline='') as f:\n",
    "    reader = csv.reader(f)\n",
    "    data = list(reader)\n",
    "list_of_files = []\n",
    "for name in data[1:]:\n",
    "    list_of_files += name\n",
    "list_of_files = [directory + file for file in list_of_files]"
   ]
  },
  {
   "cell_type": "markdown",
   "metadata": {},
   "source": [
    "## Necessary Functions\n",
    "First two functions cpied from Anna Zuckerman's Github repository: https://github.com/annazuckerman/specmatch-emp-apf"
   ]
  },
  {
   "cell_type": "code",
   "execution_count": 24,
   "metadata": {},
   "outputs": [],
   "source": [
    "mp.dps=100\n",
    "exp_array = np.frompyfunc(mp.exp, 1, 1)\n",
    "\n",
    "# function to insert simulated gaussians by adding a gaussian into a given location in the spectrum\n",
    "def insert_gaussian(spectrum, gaussian_params, midpoint, numpoints):\n",
    "    height = gaussian_params[0]\n",
    "    position = gaussian_params[1] #position within segment, not index in spectrum\n",
    "    FWHM = gaussian_params[2]\n",
    "    offset = gaussian_params[3]\n",
    "    x = np.linspace(0,numpoints-1,numpoints) # numpoints must be even\n",
    "    width = FWHM/(2*np.sqrt(2*np.log(2)))    \n",
    "    gauss = gaussian(x,height,position,width,offset)\n",
    "    new_spect = spectrum.copy()\n",
    "    new_spect[midpoint - math.floor(numpoints/2):midpoint + math.floor(numpoints/2)] = new_spect[midpoint - math.floor(numpoints/2):midpoint + math.floor(numpoints/2)] + gauss\n",
    "    return new_spect\n",
    "\n",
    "# same as above, but REMOVES the part of the data where the gaussian is inserted\n",
    "def insert_gaussian_with_data_removal(spectrum, gaussian_params, midpoint, numpoints):\n",
    "    height = gaussian_params[0]\n",
    "    position = gaussian_params[1] #position within segment, not index in spectrum\n",
    "    FWHM = gaussian_params[2]\n",
    "    offset = gaussian_params[3]\n",
    "    x = np.linspace(0,numpoints-1,numpoints) # numpoints must be even\n",
    "    width = FWHM/(2*np.sqrt(2*np.log(2)))    \n",
    "    gauss = gaussian(x,height,position,width,offset)\n",
    "    new_spect = spectrum.copy()\n",
    "    new_spect[midpoint - math.floor(numpoints/2):midpoint + math.floor(numpoints/2)] = gauss\n",
    "    return new_spect\n",
    "    \n",
    "def gaussian(x,a,b,c,d): # a = height, b = position of peak, c = width, x = numpy array of x values\n",
    "    f = a*exp_array((-(x-b)**2)/(2*c)**2) + d\n",
    "    return f \n",
    "\n",
    "def chi(model, data):\n",
    "    '''given two arrays of the same length, calculate chi-squared'''\n",
    "    return np.sum((data - model) ** 2)"
   ]
  },
  {
   "cell_type": "code",
   "execution_count": 19,
   "metadata": {},
   "outputs": [
    {
     "data": {
      "text/plain": [
       "0.816496580927726"
      ]
     },
     "execution_count": 19,
     "metadata": {},
     "output_type": "execute_result"
    }
   ],
   "source": [
    "x = np.array([1, 2, 3])\n",
    "np.std(x)"
   ]
  },
  {
   "cell_type": "markdown",
   "metadata": {},
   "source": [
    "## Set parameters"
   ]
  },
  {
   "cell_type": "code",
   "execution_count": 32,
   "metadata": {},
   "outputs": [],
   "source": [
    "plot = True  # plt.show()\n",
    "save_figs = False  # save figures into folders\n",
    "\n",
    "# for establishing threshold: how many sigmas to go above median\n",
    "n = 30\n",
    "plt.rcParams[\"figure.figsize\"] = (5,3)\n",
    "plt.rcParams.update({'font.size': 7})"
   ]
  },
  {
   "cell_type": "code",
   "execution_count": 33,
   "metadata": {},
   "outputs": [],
   "source": [
    "# detected signals information\n",
    "detected_widths = []\n",
    "detected_heights = []\n",
    "detected_indicies = []\n",
    "detected_wavelengths = []\n",
    "detected_max_flux_vals = []\n",
    "\n",
    "star_indicies = [] # which star in the list the other values correspond to\n",
    "threshold_vals = []\n",
    "\n",
    "num_injections = 0\n",
    "num_injections_above_threshold = 0\n",
    "num_recoveries = 0\n",
    "\n",
    "# table containing all the stars and detections\n",
    "column_names = ['star', 'index', 'ndetections']\n",
    "total_detections = pd.DataFrame(columns = column_names)"
   ]
  },
  {
   "cell_type": "code",
   "execution_count": null,
   "metadata": {},
   "outputs": [],
   "source": []
  },
  {
   "cell_type": "markdown",
   "metadata": {},
   "source": [
    "## Read in Reduced Data from Anna Zuckerman's repo"
   ]
  },
  {
   "cell_type": "code",
   "execution_count": 34,
   "metadata": {},
   "outputs": [],
   "source": [
    "plt.rcParams[\"figure.figsize\"] = (8,5)\n",
    "plt.rcParams.update({'font.size': 19})"
   ]
  },
  {
   "cell_type": "markdown",
   "metadata": {},
   "source": [
    "## Create folder to store all results"
   ]
  },
  {
   "cell_type": "code",
   "execution_count": 35,
   "metadata": {},
   "outputs": [],
   "source": [
    "# create Laser Detection Results folder\n",
    "if save_figs == True:\n",
    "    path = '/mnt_home/zoek/code/APF-BL-DAP/Zoe/ResidualsLaserDetectionResults/'\n",
    "    if not (os.path.isdir(path)):\n",
    "        os.mkdir(path)"
   ]
  },
  {
   "cell_type": "markdown",
   "metadata": {},
   "source": [
    "## Run algorithm on all stars in Anna's folder"
   ]
  },
  {
   "cell_type": "code",
   "execution_count": 36,
   "metadata": {
    "scrolled": true
   },
   "outputs": [
    {
     "name": "stdout",
     "output_type": "stream",
     "text": [
      "0\n",
      "Star: HIP36439\n"
     ]
    },
    {
     "ename": "TypeError",
     "evalue": "'type' object is not iterable",
     "output_type": "error",
     "traceback": [
      "\u001b[0;31m---------------------------------------------------------------------------\u001b[0m",
      "\u001b[0;31mTypeError\u001b[0m                                 Traceback (most recent call last)",
      "\u001b[0;32m<ipython-input-36-84e02e530a96>\u001b[0m in \u001b[0;36m<module>\u001b[0;34m\u001b[0m\n\u001b[1;32m     64\u001b[0m     \u001b[0mmedian_indicies\u001b[0m \u001b[0;34m=\u001b[0m \u001b[0;34m[\u001b[0m\u001b[0;34m]\u001b[0m\u001b[0;34m\u001b[0m\u001b[0;34m\u001b[0m\u001b[0m\n\u001b[1;32m     65\u001b[0m     \u001b[0;32mfor\u001b[0m \u001b[0midxs\u001b[0m \u001b[0;32min\u001b[0m \u001b[0mconsecutive_indicies_idxs2\u001b[0m\u001b[0;34m:\u001b[0m\u001b[0;34m\u001b[0m\u001b[0;34m\u001b[0m\u001b[0m\n\u001b[0;32m---> 66\u001b[0;31m         \u001b[0mmax_index\u001b[0m \u001b[0;34m=\u001b[0m \u001b[0mmax\u001b[0m\u001b[0;34m(\u001b[0m\u001b[0midxs\u001b[0m\u001b[0;34m,\u001b[0m \u001b[0mkey\u001b[0m\u001b[0;34m=\u001b[0m\u001b[0;32mlambda\u001b[0m \u001b[0mi\u001b[0m\u001b[0;34m:\u001b[0m \u001b[0mspect\u001b[0m\u001b[0;34m[\u001b[0m\u001b[0mi\u001b[0m\u001b[0;34m]\u001b[0m\u001b[0;34m)\u001b[0m\u001b[0;34m\u001b[0m\u001b[0;34m\u001b[0m\u001b[0m\n\u001b[0m\u001b[1;32m     67\u001b[0m         \u001b[0mmedian_indicies\u001b[0m \u001b[0;34m=\u001b[0m \u001b[0mnp\u001b[0m\u001b[0;34m.\u001b[0m\u001b[0mappend\u001b[0m\u001b[0;34m(\u001b[0m\u001b[0mmedian_indicies\u001b[0m\u001b[0;34m,\u001b[0m \u001b[0mint\u001b[0m\u001b[0;34m(\u001b[0m\u001b[0mmax_index\u001b[0m\u001b[0;34m)\u001b[0m\u001b[0;34m)\u001b[0m\u001b[0;34m\u001b[0m\u001b[0;34m\u001b[0m\u001b[0m\n\u001b[1;32m     68\u001b[0m \u001b[0;34m\u001b[0m\u001b[0m\n",
      "\u001b[0;31mTypeError\u001b[0m: 'type' object is not iterable"
     ]
    }
   ],
   "source": [
    "# for which_star in np.arange(len(list_of_files)):\n",
    "for which_star in np.arange(1):\n",
    "\n",
    "    print(which_star)\n",
    "    \n",
    "    \n",
    "    APF_flux_path = list_of_files[which_star]\n",
    "\n",
    "    file = fits.open(APF_flux_path)\n",
    "\n",
    "    flux = file[0].data\n",
    "    residuals = file[1].data\n",
    "    wl = file[2].data\n",
    "\n",
    "    header = file[0].header\n",
    "    star = header['OBJECT']\n",
    "    print('Star: ' + star)\n",
    "    \n",
    "    \n",
    "    # make a folder for this star\n",
    "    if save_figs == True:\n",
    "        path = '/mnt_home/zoek/code/APF-BL-DAP/Zoe/ResidualsLaserDetectionResults/' + str(which_star) + '_' + star\n",
    "        if not (os.path.isdir(path)):\n",
    "            os.mkdir(path)\n",
    "        \n",
    "    num_detections_this_star = 0\n",
    "    # table containing info about this observation\n",
    "    column_names = ['description', 'indicies']\n",
    "    detections = pd.DataFrame(columns = column_names)\n",
    "\n",
    "    spect = residuals\n",
    "\n",
    "    idxs1 = [] # indicies that are above continuum level\n",
    "    idxs2 = [] # indicies in idxs1 that are above the threshold value and are local maximas\n",
    "    idxs3 = [] # indicies in idxs2 that are gaussian-shaped\n",
    "    idxs4 = [] # indicies in idxs3 that are greater than 5 pixels in width\n",
    "\n",
    "\n",
    "    \n",
    "#     clipped = astropy.stats.sigma_clip(spect, sigma=5).filled()\n",
    "#     abs_dev = stats.median_absolute_deviation(clipped)\n",
    "#     med = np.median(clipped)\n",
    "\n",
    "    abs_dev = stats.median_absolute_deviation(spect)\n",
    "    med = np.median(spect)\n",
    "    \n",
    "    T = med + n * abs_dev\n",
    "    threshold_vals = np.append(threshold_vals, T)\n",
    "    \n",
    "    for idx in np.arange(len(spect)):\n",
    "        if spect[idx] > T:\n",
    "            idxs2 = idxs2 + [idx]\n",
    "\n",
    "    consecutive_indicies_idxs2 = []\n",
    "    i = 0\n",
    "    while i < (len(idxs2)):\n",
    "        lst = [idxs2[i]]\n",
    "        while (i < len(idxs2) - 1) and (idxs2[i + 1] == idxs2[i] + 1):\n",
    "            lst = np.append(lst, idxs2[i+1])\n",
    "            i += 1\n",
    "        consecutive_indicies_idxs2 = consecutive_indicies_idxs2 + [lst]\n",
    "        i +=1\n",
    "\n",
    "    median_indicies = []\n",
    "    for idxs in consecutive_indicies_idxs2:\n",
    "        max_index = max(idxs, key=lambda i: spect[i])\n",
    "        median_indicies = np.append(median_indicies, int(max_index))\n",
    "\n",
    "    idxs2 = np.array(median_indicies, dtype=int)\n",
    "    num_injections_above_threshold += len(idxs2)\n",
    "\n",
    "    if (plot == True or save_figs == True):\n",
    "        fig = plt.figure()\n",
    "        plt.plot(wl, spect, label = 'Original Data')\n",
    "        if (len(idxs2) > 0):\n",
    "            for ind in idxs2:\n",
    "                plt.axvline(x=wl[ind], color='gray', linestyle='--')\n",
    "        plt.axhline(y=T, linestyle='--', label='Threshold')\n",
    "        plt.title(star)\n",
    "        plt.xlabel('Wavelength [A]')\n",
    "        plt.ylabel('Flux')\n",
    "        plt.legend() \n",
    "        if plot == True:\n",
    "            plt.show()\n",
    "        if save_figs == True:\n",
    "            fig.savefig(path + '/' + star + 'data.png')\n",
    "\n",
    "\n",
    "    for idx in idxs2:\n",
    "        # fit a gaussian to the peak, see if the width is greater than or equal to 2 pixels\n",
    "        # see how much signal resembles a gaussian\n",
    "        # if last test is commented out, ALSO check FWHM of gaussian\n",
    "\n",
    "        # DETERMINING EDGES OF SIGNAL: mark edge when flux reaches a local minimum\n",
    "        # PRO: can identify two signals together\n",
    "        # CON: can't deal with noise in signal\n",
    "\n",
    "        temp_ind = idx\n",
    "        left_bound = 0\n",
    "        while temp_ind > 1:\n",
    "            temp_ind -= 1\n",
    "            if spect[temp_ind] < spect[temp_ind - 1] and spect[temp_ind] < spect[temp_ind + 1]:\n",
    "                left_bound = temp_ind\n",
    "                break\n",
    "        temp_ind = idx\n",
    "        right_bound = len(spect) - 1\n",
    "        while temp_ind < len(spect) - 4:\n",
    "            temp_ind += 1\n",
    "            if (spect[temp_ind] < spect[temp_ind - 1]) and (spect[temp_ind] < spect[temp_ind + 1]):\n",
    "                right_bound = temp_ind\n",
    "                break\n",
    "\n",
    "        x = wl[left_bound:right_bound + 2]\n",
    "        y = spect[left_bound:right_bound + 2]\n",
    "\n",
    "        # oversample detected signal to determine precise bounds on the edges of the signal\n",
    "        # use this to determine the FWHM of the signal in pixels\n",
    "        oversampled_x = np.linspace(x[0], x[-1], len(x) * 10)\n",
    "        spl = splrep(x, y, k=2)\n",
    "        oversampled_y = splev(oversampled_x, spl)\n",
    "\n",
    "        max_y = max(oversampled_y)\n",
    "        min_y = np.percentile(oversampled_y, 3) \n",
    "        height = max_y - min_y\n",
    "        ind = oversampled_y.tolist().index(max_y)\n",
    "        pos = oversampled_x[ind]\n",
    "        min_width = 0.00001\n",
    "        max_width = oversampled_x[len(oversampled_x) - 1] - oversampled_x[0]\n",
    "        width_spacing = 0.001\n",
    "\n",
    "        chi_squared_values = []\n",
    "        width_vals = np.arange(min_width, max_width, width_spacing)\n",
    "        for w in width_vals:\n",
    "            gaus = gaussian(oversampled_x, height, pos, w, min_y)\n",
    "            chi_squared = chi(gaus, oversampled_y)\n",
    "            chi_squared_values = np.append(chi_squared_values, chi_squared)\n",
    "        min_chi_squared = min(chi_squared_values)\n",
    "        ind_of_min_chisquared = chi_squared_values.tolist().index(min_chi_squared)\n",
    "        width = width_vals[ind_of_min_chisquared]\n",
    "        gaus = gaussian(oversampled_x, height, pos, width, min_y)\n",
    "\n",
    "        width_threshold = False\n",
    "        gauss_threshold = False\n",
    "\n",
    "        # see if the signal fits a gaussian\n",
    "        if min_chi_squared < 11:\n",
    "            gauss_threshold = True\n",
    "            idxs3 = idxs3 + [idx]\n",
    "\n",
    "            # find the width of the gaussian in pixels\n",
    "\n",
    "            peak = max(gaus)\n",
    "            half_max = peak - height / 2\n",
    "\n",
    "            peak_index = gaus.tolist().index(peak)\n",
    "            temp_left_bound = peak_index\n",
    "            temp_right_bound = peak_index\n",
    "\n",
    "            while gaus[temp_left_bound] > half_max and temp_left_bound > 0:\n",
    "                temp_left_bound -=1\n",
    "\n",
    "            while gaus[temp_right_bound] > half_max and temp_right_bound < len(gaus) - 1:\n",
    "                temp_right_bound += 1\n",
    "\n",
    "            pixel_width = (temp_right_bound - temp_left_bound) / 10\n",
    "\n",
    "            if pixel_width > 2.7:\n",
    "                width_threshold = True\n",
    "                idxs4 = idxs4 + [idx]\n",
    "                num_detections_this_star += 1\n",
    "        \n",
    "        \n",
    "        if plot == True or save_figs == True:\n",
    "            fig = plt.figure()\n",
    "            plt.step(x, y, label = 'Detected Signal at ' + str(round(wl[idx], 2)) + ' A')\n",
    "            plt.plot(oversampled_x, gaus, label = 'Gaussian')\n",
    "            if width_threshold == True:\n",
    "                # passed width threshold AND gaussian threshold\n",
    "                plt.title('PASS: chi-squared of ' + str(round(min_chi_squared, 4)) + ' and pixel width of ' + str(pixel_width))\n",
    "            elif gauss_threshold == True and width_threshold == False:\n",
    "                # failed width threshold\n",
    "                plt.title('FAIL: too narrow with pixel width of ' + str(pixel_width))\n",
    "            else:\n",
    "                # failed gaussian threshold\n",
    "                plt.title('FAIL: not gaussian-shaped: chi-squared of ' + str(round(min_chi_squared, 4)))\n",
    "\n",
    "            plt.xlabel('Wavelength [A]')\n",
    "            plt.ylabel('Flux')\n",
    "            for ind in np.arange(left_bound, right_bound):\n",
    "                plt.axvline(x=wl[ind], color='gray', linestyle='-', linewidth=0.2)\n",
    "            plt.legend()\n",
    "            if plot == True:\n",
    "                plt.show()\n",
    "            if save_figs == True:\n",
    "                name = str(idx)\n",
    "                fig.savefig(path + '/' + name + '.png')\n",
    "\n",
    "    wavelengths = []\n",
    "    for i in idxs4:\n",
    "        w = wl[i]\n",
    "        wavelengths += [w]\n",
    "\n",
    "    new1 = {'description': ['indicies above threshold', 'indicies that are gaussian-shaped', 'indicies wider than PSF'],\n",
    "            'indicies': [idxs2.tolist(), idxs3, idxs4], 'wavelengths': [[], [], wavelengths]}\n",
    "    \n",
    "    df1 = pd.DataFrame(new1)\n",
    "    detections = detections.append(df1)\n",
    "    name = str(which_star) + '_' + star\n",
    "    if save_figs == True:\n",
    "        detections.to_csv(path + '/' + name + '.csv')\n",
    "    \n",
    "    \n",
    "    new2 = {'star': [star], 'index': [which_star], 'ndetections': [num_detections_this_star]}\n",
    "    df2 = pd.DataFrame(new2)\n",
    "    total_detections = total_detections.append(df2)"
   ]
  },
  {
   "cell_type": "markdown",
   "metadata": {},
   "source": [
    "## Save a table containing all the spectra and their number of detections"
   ]
  },
  {
   "cell_type": "code",
   "execution_count": 9,
   "metadata": {},
   "outputs": [],
   "source": [
    "if save_figs == True:\n",
    "    total_detections.to_csv('/home/zoek/code/APF-BL-DAP/Zoe/ResidualsLaserDetectionResults/results.csv')\n",
    "else:\n",
    "    print(total_detections)"
   ]
  },
  {
   "cell_type": "markdown",
   "metadata": {},
   "source": [
    "## Results"
   ]
  },
  {
   "cell_type": "code",
   "execution_count": 30,
   "metadata": {},
   "outputs": [],
   "source": [
    "total_df = pd.read_csv('/home/zoek/code/APF-BL-DAP/Zoe/10s-ResidualsResults/results.csv')"
   ]
  },
  {
   "cell_type": "code",
   "execution_count": 31,
   "metadata": {},
   "outputs": [
    {
     "data": {
      "text/plain": [
       "36"
      ]
     },
     "execution_count": 31,
     "metadata": {},
     "output_type": "execute_result"
    }
   ],
   "source": [
    "sum(total_df['ndetections'])"
   ]
  },
  {
   "cell_type": "code",
   "execution_count": 33,
   "metadata": {},
   "outputs": [
    {
     "data": {
      "text/html": [
       "<div>\n",
       "<style scoped>\n",
       "    .dataframe tbody tr th:only-of-type {\n",
       "        vertical-align: middle;\n",
       "    }\n",
       "\n",
       "    .dataframe tbody tr th {\n",
       "        vertical-align: top;\n",
       "    }\n",
       "\n",
       "    .dataframe thead th {\n",
       "        text-align: right;\n",
       "    }\n",
       "</style>\n",
       "<table border=\"1\" class=\"dataframe\">\n",
       "  <thead>\n",
       "    <tr style=\"text-align: right;\">\n",
       "      <th></th>\n",
       "      <th>Unnamed: 0</th>\n",
       "      <th>star</th>\n",
       "      <th>index</th>\n",
       "      <th>ndetections</th>\n",
       "    </tr>\n",
       "  </thead>\n",
       "  <tbody>\n",
       "    <tr>\n",
       "      <th>8</th>\n",
       "      <td>0</td>\n",
       "      <td>HIP64394</td>\n",
       "      <td>16</td>\n",
       "      <td>1</td>\n",
       "    </tr>\n",
       "    <tr>\n",
       "      <th>18</th>\n",
       "      <td>0</td>\n",
       "      <td>HIP104092</td>\n",
       "      <td>32</td>\n",
       "      <td>1</td>\n",
       "    </tr>\n",
       "    <tr>\n",
       "      <th>22</th>\n",
       "      <td>0</td>\n",
       "      <td>HIP13834</td>\n",
       "      <td>37</td>\n",
       "      <td>1</td>\n",
       "    </tr>\n",
       "    <tr>\n",
       "      <th>26</th>\n",
       "      <td>0</td>\n",
       "      <td>HIP80725</td>\n",
       "      <td>42</td>\n",
       "      <td>2</td>\n",
       "    </tr>\n",
       "    <tr>\n",
       "      <th>50</th>\n",
       "      <td>0</td>\n",
       "      <td>HIP110750</td>\n",
       "      <td>84</td>\n",
       "      <td>1</td>\n",
       "    </tr>\n",
       "    <tr>\n",
       "      <th>52</th>\n",
       "      <td>0</td>\n",
       "      <td>HIP81813</td>\n",
       "      <td>87</td>\n",
       "      <td>1</td>\n",
       "    </tr>\n",
       "    <tr>\n",
       "      <th>81</th>\n",
       "      <td>0</td>\n",
       "      <td>HIP71395</td>\n",
       "      <td>138</td>\n",
       "      <td>1</td>\n",
       "    </tr>\n",
       "    <tr>\n",
       "      <th>91</th>\n",
       "      <td>0</td>\n",
       "      <td>HIP29800</td>\n",
       "      <td>154</td>\n",
       "      <td>1</td>\n",
       "    </tr>\n",
       "    <tr>\n",
       "      <th>99</th>\n",
       "      <td>0</td>\n",
       "      <td>TIC255930614</td>\n",
       "      <td>164</td>\n",
       "      <td>2</td>\n",
       "    </tr>\n",
       "    <tr>\n",
       "      <th>102</th>\n",
       "      <td>0</td>\n",
       "      <td>HIP100017</td>\n",
       "      <td>168</td>\n",
       "      <td>1</td>\n",
       "    </tr>\n",
       "    <tr>\n",
       "      <th>105</th>\n",
       "      <td>0</td>\n",
       "      <td>HIP112496</td>\n",
       "      <td>171</td>\n",
       "      <td>1</td>\n",
       "    </tr>\n",
       "    <tr>\n",
       "      <th>112</th>\n",
       "      <td>0</td>\n",
       "      <td>HIP65530</td>\n",
       "      <td>181</td>\n",
       "      <td>1</td>\n",
       "    </tr>\n",
       "    <tr>\n",
       "      <th>120</th>\n",
       "      <td>0</td>\n",
       "      <td>HIP72237</td>\n",
       "      <td>193</td>\n",
       "      <td>1</td>\n",
       "    </tr>\n",
       "    <tr>\n",
       "      <th>145</th>\n",
       "      <td>0</td>\n",
       "      <td>HIP98828</td>\n",
       "      <td>235</td>\n",
       "      <td>1</td>\n",
       "    </tr>\n",
       "    <tr>\n",
       "      <th>147</th>\n",
       "      <td>0</td>\n",
       "      <td>TIC317548889</td>\n",
       "      <td>237</td>\n",
       "      <td>1</td>\n",
       "    </tr>\n",
       "    <tr>\n",
       "      <th>148</th>\n",
       "      <td>0</td>\n",
       "      <td>HIP117559</td>\n",
       "      <td>238</td>\n",
       "      <td>1</td>\n",
       "    </tr>\n",
       "    <tr>\n",
       "      <th>155</th>\n",
       "      <td>0</td>\n",
       "      <td>HIP11759</td>\n",
       "      <td>251</td>\n",
       "      <td>2</td>\n",
       "    </tr>\n",
       "    <tr>\n",
       "      <th>168</th>\n",
       "      <td>0</td>\n",
       "      <td>HIP17147</td>\n",
       "      <td>274</td>\n",
       "      <td>1</td>\n",
       "    </tr>\n",
       "    <tr>\n",
       "      <th>174</th>\n",
       "      <td>0</td>\n",
       "      <td>HIP113357</td>\n",
       "      <td>283</td>\n",
       "      <td>1</td>\n",
       "    </tr>\n",
       "    <tr>\n",
       "      <th>175</th>\n",
       "      <td>0</td>\n",
       "      <td>HIP61099</td>\n",
       "      <td>284</td>\n",
       "      <td>1</td>\n",
       "    </tr>\n",
       "    <tr>\n",
       "      <th>181</th>\n",
       "      <td>0</td>\n",
       "      <td>HIP102226</td>\n",
       "      <td>296</td>\n",
       "      <td>1</td>\n",
       "    </tr>\n",
       "    <tr>\n",
       "      <th>220</th>\n",
       "      <td>0</td>\n",
       "      <td>HIP79672</td>\n",
       "      <td>362</td>\n",
       "      <td>1</td>\n",
       "    </tr>\n",
       "    <tr>\n",
       "      <th>226</th>\n",
       "      <td>0</td>\n",
       "      <td>HIP34950</td>\n",
       "      <td>374</td>\n",
       "      <td>1</td>\n",
       "    </tr>\n",
       "    <tr>\n",
       "      <th>237</th>\n",
       "      <td>0</td>\n",
       "      <td>HIP68030</td>\n",
       "      <td>395</td>\n",
       "      <td>1</td>\n",
       "    </tr>\n",
       "    <tr>\n",
       "      <th>251</th>\n",
       "      <td>0</td>\n",
       "      <td>TIC459942762</td>\n",
       "      <td>416</td>\n",
       "      <td>2</td>\n",
       "    </tr>\n",
       "    <tr>\n",
       "      <th>263</th>\n",
       "      <td>0</td>\n",
       "      <td>HIP75722</td>\n",
       "      <td>432</td>\n",
       "      <td>2</td>\n",
       "    </tr>\n",
       "    <tr>\n",
       "      <th>269</th>\n",
       "      <td>0</td>\n",
       "      <td>TIC75878355</td>\n",
       "      <td>438</td>\n",
       "      <td>1</td>\n",
       "    </tr>\n",
       "    <tr>\n",
       "      <th>284</th>\n",
       "      <td>0</td>\n",
       "      <td>HIP63894</td>\n",
       "      <td>464</td>\n",
       "      <td>1</td>\n",
       "    </tr>\n",
       "    <tr>\n",
       "      <th>285</th>\n",
       "      <td>0</td>\n",
       "      <td>HIP54872</td>\n",
       "      <td>465</td>\n",
       "      <td>1</td>\n",
       "    </tr>\n",
       "    <tr>\n",
       "      <th>288</th>\n",
       "      <td>0</td>\n",
       "      <td>HIP63942</td>\n",
       "      <td>469</td>\n",
       "      <td>1</td>\n",
       "    </tr>\n",
       "    <tr>\n",
       "      <th>301</th>\n",
       "      <td>0</td>\n",
       "      <td>HIP70016</td>\n",
       "      <td>492</td>\n",
       "      <td>1</td>\n",
       "    </tr>\n",
       "  </tbody>\n",
       "</table>\n",
       "</div>"
      ],
      "text/plain": [
       "     Unnamed: 0          star  index  ndetections\n",
       "8             0      HIP64394     16            1\n",
       "18            0     HIP104092     32            1\n",
       "22            0      HIP13834     37            1\n",
       "26            0      HIP80725     42            2\n",
       "50            0     HIP110750     84            1\n",
       "52            0      HIP81813     87            1\n",
       "81            0      HIP71395    138            1\n",
       "91            0      HIP29800    154            1\n",
       "99            0  TIC255930614    164            2\n",
       "102           0     HIP100017    168            1\n",
       "105           0     HIP112496    171            1\n",
       "112           0      HIP65530    181            1\n",
       "120           0      HIP72237    193            1\n",
       "145           0      HIP98828    235            1\n",
       "147           0  TIC317548889    237            1\n",
       "148           0     HIP117559    238            1\n",
       "155           0      HIP11759    251            2\n",
       "168           0      HIP17147    274            1\n",
       "174           0     HIP113357    283            1\n",
       "175           0      HIP61099    284            1\n",
       "181           0     HIP102226    296            1\n",
       "220           0      HIP79672    362            1\n",
       "226           0      HIP34950    374            1\n",
       "237           0      HIP68030    395            1\n",
       "251           0  TIC459942762    416            2\n",
       "263           0      HIP75722    432            2\n",
       "269           0   TIC75878355    438            1\n",
       "284           0      HIP63894    464            1\n",
       "285           0      HIP54872    465            1\n",
       "288           0      HIP63942    469            1\n",
       "301           0      HIP70016    492            1"
      ]
     },
     "execution_count": 33,
     "metadata": {},
     "output_type": "execute_result"
    }
   ],
   "source": [
    "total_df[total_df['ndetections'] > 0]"
   ]
  },
  {
   "cell_type": "code",
   "execution_count": 15,
   "metadata": {},
   "outputs": [
    {
     "data": {
      "text/html": [
       "<div>\n",
       "<style scoped>\n",
       "    .dataframe tbody tr th:only-of-type {\n",
       "        vertical-align: middle;\n",
       "    }\n",
       "\n",
       "    .dataframe tbody tr th {\n",
       "        vertical-align: top;\n",
       "    }\n",
       "\n",
       "    .dataframe thead th {\n",
       "        text-align: right;\n",
       "    }\n",
       "</style>\n",
       "<table border=\"1\" class=\"dataframe\">\n",
       "  <thead>\n",
       "    <tr style=\"text-align: right;\">\n",
       "      <th></th>\n",
       "      <th>Unnamed: 0</th>\n",
       "      <th>star</th>\n",
       "      <th>index</th>\n",
       "      <th>ndetections</th>\n",
       "    </tr>\n",
       "  </thead>\n",
       "  <tbody>\n",
       "    <tr>\n",
       "      <th>1</th>\n",
       "      <td>0</td>\n",
       "      <td>HIP109980</td>\n",
       "      <td>1</td>\n",
       "      <td>2</td>\n",
       "    </tr>\n",
       "    <tr>\n",
       "      <th>2</th>\n",
       "      <td>0</td>\n",
       "      <td>TIC158025009</td>\n",
       "      <td>2</td>\n",
       "      <td>2</td>\n",
       "    </tr>\n",
       "    <tr>\n",
       "      <th>4</th>\n",
       "      <td>0</td>\n",
       "      <td>HIP4845</td>\n",
       "      <td>4</td>\n",
       "      <td>1</td>\n",
       "    </tr>\n",
       "    <tr>\n",
       "      <th>23</th>\n",
       "      <td>0</td>\n",
       "      <td>HIP64394</td>\n",
       "      <td>23</td>\n",
       "      <td>1</td>\n",
       "    </tr>\n",
       "    <tr>\n",
       "      <th>57</th>\n",
       "      <td>0</td>\n",
       "      <td>HIP13834</td>\n",
       "      <td>57</td>\n",
       "      <td>1</td>\n",
       "    </tr>\n",
       "    <tr>\n",
       "      <th>...</th>\n",
       "      <td>...</td>\n",
       "      <td>...</td>\n",
       "      <td>...</td>\n",
       "      <td>...</td>\n",
       "    </tr>\n",
       "    <tr>\n",
       "      <th>764</th>\n",
       "      <td>0</td>\n",
       "      <td>TYC2037-1484-1</td>\n",
       "      <td>764</td>\n",
       "      <td>1</td>\n",
       "    </tr>\n",
       "    <tr>\n",
       "      <th>765</th>\n",
       "      <td>0</td>\n",
       "      <td>TYC3010-1024-1</td>\n",
       "      <td>765</td>\n",
       "      <td>1</td>\n",
       "    </tr>\n",
       "    <tr>\n",
       "      <th>767</th>\n",
       "      <td>0</td>\n",
       "      <td>HIP56238</td>\n",
       "      <td>767</td>\n",
       "      <td>3</td>\n",
       "    </tr>\n",
       "    <tr>\n",
       "      <th>768</th>\n",
       "      <td>0</td>\n",
       "      <td>HIP69824</td>\n",
       "      <td>768</td>\n",
       "      <td>1</td>\n",
       "    </tr>\n",
       "    <tr>\n",
       "      <th>771</th>\n",
       "      <td>0</td>\n",
       "      <td>HIP70016</td>\n",
       "      <td>771</td>\n",
       "      <td>1</td>\n",
       "    </tr>\n",
       "  </tbody>\n",
       "</table>\n",
       "<p>114 rows × 4 columns</p>\n",
       "</div>"
      ],
      "text/plain": [
       "     Unnamed: 0            star  index  ndetections\n",
       "1             0       HIP109980      1            2\n",
       "2             0    TIC158025009      2            2\n",
       "4             0         HIP4845      4            1\n",
       "23            0        HIP64394     23            1\n",
       "57            0        HIP13834     57            1\n",
       "..          ...             ...    ...          ...\n",
       "764           0  TYC2037-1484-1    764            1\n",
       "765           0  TYC3010-1024-1    765            1\n",
       "767           0        HIP56238    767            3\n",
       "768           0        HIP69824    768            1\n",
       "771           0        HIP70016    771            1\n",
       "\n",
       "[114 rows x 4 columns]"
      ]
     },
     "execution_count": 15,
     "metadata": {},
     "output_type": "execute_result"
    }
   ],
   "source": [
    "total_df[total_df['ndetections'].between(1, 10)]"
   ]
  },
  {
   "cell_type": "code",
   "execution_count": 17,
   "metadata": {},
   "outputs": [],
   "source": [
    "wls = []\n",
    "all_indicies = []\n",
    "i = 0\n",
    "\n",
    "for name in glob.glob('/home/zoek/code/APF-BL-DAP/Zoe/ResidualsLaserDetectionResults/*/*.csv'):\n",
    "    df = pd.read_csv(name)\n",
    "    indicies = df.loc[2, 'indicies']\n",
    "    \n",
    "    name = name.split('/')[-1].split('_')[1].split('.')[0]\n",
    "    fname = '/mnt_home/azuckerman/BL_APF_DAP/APF_spectra/NDRR_all_apf/' + name + '_NDRR.fits'\n",
    "    if os.path.exists(fname):\n",
    "        i += 1\n",
    "        file = fits.open(fname)\n",
    "\n",
    "        flux = file[0].data\n",
    "        residuals = file[1].data\n",
    "        wl = file[2].data\n",
    "\n",
    "        if indicies != '[]':\n",
    "            indicies = indicies.split('[')[1].split(']')[0].split(', ')\n",
    "            for ind in indicies:\n",
    "                all_indicies = np.append(all_indicies, int(ind))\n",
    "                wls = np.append(wls, wl[int(ind)])\n",
    "\n",
    "#     header = file[0].header\n",
    "#     star = header['OBJECT']\n",
    "    "
   ]
  },
  {
   "cell_type": "code",
   "execution_count": 12,
   "metadata": {},
   "outputs": [
    {
     "data": {
      "image/png": "[encoded data removed]",
      "text/plain": [
       "<Figure size 576x360 with 1 Axes>"
      ]
     },
     "metadata": {
      "needs_background": "light"
     },
     "output_type": "display_data"
    }
   ],
   "source": [
    "plt.hist(wls, bins = np.arange(5000, 5800, step = 50))\n",
    "plt.xlabel('Wavelength (in star rest frame) [A]')\n",
    "plt.ylabel('Count')\n",
    "plt.title('Histogram of Marked Wavelengths across all Residuals')\n",
    "plt.show()"
   ]
  },
  {
   "cell_type": "code",
   "execution_count": 13,
   "metadata": {},
   "outputs": [
    {
     "data": {
      "image/png": "[encoded data removed]",
      "text/plain": [
       "<Figure size 576x360 with 1 Axes>"
      ]
     },
     "metadata": {
      "needs_background": "light"
     },
     "output_type": "display_data"
    }
   ],
   "source": [
    "plt.hist(wls, bins = np.arange(5000, 5800, step = 2))\n",
    "plt.xlabel('Wavelength (in star rest frame) [A]')\n",
    "plt.ylabel('Count')\n",
    "plt.title('Histogram of Marked Wavelengths across all Residuals')\n",
    "plt.show()"
   ]
  },
  {
   "cell_type": "code",
   "execution_count": 14,
   "metadata": {},
   "outputs": [],
   "source": [
    "# check to see if wavelength grids are same "
   ]
  },
  {
   "cell_type": "code",
   "execution_count": 15,
   "metadata": {},
   "outputs": [
    {
     "data": {
      "image/png": "[encoded data removed]",
      "text/plain": [
       "<Figure size 576x360 with 1 Axes>"
      ]
     },
     "metadata": {
      "needs_background": "light"
     },
     "output_type": "display_data"
    }
   ],
   "source": [
    "plt.hist(all_indicies, bins = np.arange(0, 50000, step = 3000))\n",
    "plt.xlabel('Index')\n",
    "plt.ylabel('Count')\n",
    "plt.title('Histogram of Marked Indicies across all Residuals')\n",
    "plt.show()"
   ]
  },
  {
   "cell_type": "code",
   "execution_count": 16,
   "metadata": {},
   "outputs": [
    {
     "data": {
      "image/png": "[encoded data removed]",
      "text/plain": [
       "<Figure size 576x360 with 1 Axes>"
      ]
     },
     "metadata": {
      "needs_background": "light"
     },
     "output_type": "display_data"
    }
   ],
   "source": [
    "plt.hist(all_indicies, bins = np.arange(0, 50000, step = 100))\n",
    "plt.xlabel('Index')\n",
    "plt.ylabel('Count')\n",
    "plt.title('Histogram of Marked Indicies across all Residuals')\n",
    "plt.show()"
   ]
  },
  {
   "cell_type": "code",
   "execution_count": 17,
   "metadata": {},
   "outputs": [],
   "source": [
    "num_detections = total_df['ndetections']"
   ]
  },
  {
   "cell_type": "code",
   "execution_count": 18,
   "metadata": {},
   "outputs": [
    {
     "data": {
      "image/png": "[encoded data removed]",
      "text/plain": [
       "<Figure size 576x360 with 1 Axes>"
      ]
     },
     "metadata": {
      "needs_background": "light"
     },
     "output_type": "display_data"
    }
   ],
   "source": [
    "plt.hist(num_detections, bins=3)\n",
    "plt.title('Number of Detections in 100 Random Residuals: 50 sigma threshold')\n",
    "plt.xlabel('# Detections in a Spectrum')\n",
    "plt.ylabel('# Spectra')\n",
    "plt.show()"
   ]
  },
  {
   "cell_type": "code",
   "execution_count": 19,
   "metadata": {},
   "outputs": [],
   "source": [
    "total_detections = sum(num_detections)\n",
    "av_num_detections = np.average(num_detections)\n",
    "median_num_detections = np.median(num_detections)"
   ]
  },
  {
   "cell_type": "code",
   "execution_count": 20,
   "metadata": {},
   "outputs": [
    {
     "name": "stdout",
     "output_type": "stream",
     "text": [
      "Total # Detections in 441 Residuals: 167\n",
      "Mean # Detections per Spectrum: 0.3786848072562358\n",
      "Median # Detections per Spectrum: 0.0\n",
      "302 of these spectra have 0 detections\n",
      "Estimated Total # Detections in 5868 spectra: 2222\n"
     ]
    }
   ],
   "source": [
    "print('Total # Detections in ' + str(len(list_of_files)) + ' Residuals: ' + str(total_detections))\n",
    "print('Mean # Detections per Spectrum: ' + str(av_num_detections))\n",
    "print('Median # Detections per Spectrum: ' + str(median_num_detections))\n",
    "print(str(sum(num_detections == 0)) + ' of these spectra have 0 detections')\n",
    "print('Estimated Total # Detections in 5868 spectra: ' + str(int(av_num_detections * 5868)))"
   ]
  },
  {
   "cell_type": "code",
   "execution_count": null,
   "metadata": {},
   "outputs": [],
   "source": []
  }
 ],
 "metadata": {
  "kernelspec": {
   "display_name": "Python 3",
   "language": "python",
   "name": "python3"
  },
  "language_info": {
   "codemirror_mode": {
    "name": "ipython",
    "version": 3
   },
   "file_extension": ".py",
   "mimetype": "text/x-python",
   "name": "python",
   "nbconvert_exporter": "python",
   "pygments_lexer": "ipython3",
   "version": "3.7.6"
  }
 },
 "nbformat": 4,
 "nbformat_minor": 4
}
