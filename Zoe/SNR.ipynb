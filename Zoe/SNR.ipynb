{
 "cells": [
  {
   "cell_type": "markdown",
   "metadata": {},
   "source": [
    "## Calculate the S/N ratio of all the spectra"
   ]
  },
  {
   "cell_type": "code",
   "execution_count": 127,
   "metadata": {},
   "outputs": [],
   "source": [
    "import astropy.io.fits as fits\n",
    "import matplotlib.pylab as plt\n",
    "import numpy as np\n",
    "from scipy.signal import medfilt\n",
    "from scipy.interpolate import interp1d\n",
    "from scipy.interpolate import splev, splrep\n",
    "import math\n",
    "from mpmath import mp\n",
    "import os\n",
    "import os.path \n",
    "import random\n",
    "from random import seed\n",
    "from random import choice\n",
    "from random import uniform\n",
    "import mplcursors\n",
    "import pandas as pd\n",
    "%matplotlib inline"
   ]
  },
  {
   "cell_type": "markdown",
   "metadata": {},
   "source": [
    "## Read in all the files from Anna's directory\n",
    "These are all the spectra that are used."
   ]
  },
  {
   "cell_type": "code",
   "execution_count": 128,
   "metadata": {},
   "outputs": [],
   "source": [
    "directory = '/mnt_home/azuckerman/BL_APF_DAP/APF_spectra/NDR_corrected_wl_scale'\n",
    "\n",
    "# every file in Anna's NDR_corrected_wl_scale folder\n",
    "list_of_files = []\n",
    "for filename in os.listdir(directory):\n",
    "    if filename.endswith(\".fits\"): \n",
    "        list_of_files = np.append(list_of_files, filename)"
   ]
  },
  {
   "cell_type": "markdown",
   "metadata": {},
   "source": [
    "Create a list of all the files to iterate through in the original APF data directory. Anna's repository only contains the reduced spectra. To calculate S/N ratios, we want to use the original APF data."
   ]
  },
  {
   "cell_type": "code",
   "execution_count": 129,
   "metadata": {},
   "outputs": [],
   "source": [
    "new_list_of_files = [s.replace(\".NDR\", \"\") for s in list_of_files]"
   ]
  },
  {
   "cell_type": "code",
   "execution_count": 130,
   "metadata": {},
   "outputs": [],
   "source": [
    "original_files = ['/datag/blpd0/datax/apf/' + s for s in new_list_of_files]"
   ]
  },
  {
   "cell_type": "markdown",
   "metadata": {},
   "source": [
    "Calculate SNR for all the stars in Anna's directory by going through the original data in the APF directory. SNR is estimated as the square root of the median of the flux value in the original APF data."
   ]
  },
  {
   "cell_type": "code",
   "execution_count": 131,
   "metadata": {},
   "outputs": [],
   "source": [
    "# wavelength solution\n",
    "APF_wavelength_path = '/mnt_home/zoek/code/APF-BL-DAP/Zoe/APFTutorial/apf_wav.fits'\n",
    "wl_file = fits.open(APF_wavelength_path)\n",
    "wl = wl_file[0].data"
   ]
  },
  {
   "cell_type": "code",
   "execution_count": 132,
   "metadata": {},
   "outputs": [],
   "source": [
    "all_SNR_vals = []\n",
    "\n",
    "for file in original_files:\n",
    "\n",
    "    file = fits.open(file)\n",
    "    flux = file[0].data\n",
    "    \n",
    "    SNR_vals = []\n",
    "    for order in np.arange(31, 52):  # use orders 31 to 52 because those are the orders included in Anna's reduced data\n",
    "        median_fl = np.median(flux[order])\n",
    "        if median_fl < 0:\n",
    "            SNR = 0\n",
    "        else:\n",
    "            SNR = np.sqrt(median_fl)\n",
    "        SNR_vals = np.append(SNR_vals, SNR)\n",
    "    star_SNR = np.average(SNR_vals)\n",
    "    \n",
    "    all_SNR_vals = np.append(all_SNR_vals, star_SNR)\n",
    "    "
   ]
  },
  {
   "cell_type": "code",
   "execution_count": 133,
   "metadata": {},
   "outputs": [],
   "source": [
    "np.save('/mnt_home/zoek/code/APF-BL-DAP/Zoe/SNR.npy', all_SNR_vals)"
   ]
  },
  {
   "cell_type": "markdown",
   "metadata": {},
   "source": [
    "Remove values at indicies 1762 and 1760 because those aren't included (took too long to run)\n",
    "Also remove any item in the list that is 'nan'"
   ]
  },
  {
   "cell_type": "code",
   "execution_count": 85,
   "metadata": {},
   "outputs": [],
   "source": [
    "new1 = np.delete(all_SNR_vals, 1762)"
   ]
  },
  {
   "cell_type": "code",
   "execution_count": 86,
   "metadata": {},
   "outputs": [],
   "source": [
    "new2 = np.delete(new1, 1760)"
   ]
  },
  {
   "cell_type": "code",
   "execution_count": 87,
   "metadata": {},
   "outputs": [],
   "source": [
    "final_SNR_vals = new2"
   ]
  }
 ],
 "metadata": {
  "kernelspec": {
   "display_name": "Python 3",
   "language": "python",
   "name": "python3"
  },
  "language_info": {
   "codemirror_mode": {
    "name": "ipython",
    "version": 3
   },
   "file_extension": ".py",
   "mimetype": "text/x-python",
   "name": "python",
   "nbconvert_exporter": "python",
   "pygments_lexer": "ipython3",
   "version": "3.7.6"
  }
 },
 "nbformat": 4,
 "nbformat_minor": 4
}
