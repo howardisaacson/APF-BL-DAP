{
 "cells": [
  {
   "cell_type": "markdown",
   "metadata": {},
   "source": [
    "# Create and save lists of stars we have in the datacenter, in specmatch results, and over 3 individual specmatch results"
   ]
  },
  {
   "cell_type": "code",
   "execution_count": 12,
   "metadata": {},
   "outputs": [],
   "source": [
    "import astropy.io.fits as fits\n",
    "import numpy as np\n",
    "import glob\n",
    "from collections import Counter\n",
    "import pandas as pd"
   ]
  },
  {
   "cell_type": "code",
   "execution_count": 4,
   "metadata": {},
   "outputs": [
    {
     "name": "stderr",
     "output_type": "stream",
     "text": [
      "WARNING: File may have been truncated: actual file length (2981888) is smaller than the expected size (19189440) [astropy.io.fits.file]\n",
      "WARNING: File may have been truncated: actual file length (2654208) is smaller than the expected size (19189440) [astropy.io.fits.file]\n"
     ]
    }
   ],
   "source": [
    "datacenter_stars = []\n",
    "datacenter = '/datag/blpd0/datax/apf/'\n",
    "for file in glob.glob(datacenter + '*'):\n",
    "    if '.fits' in file:\n",
    "        image = fits.open(file)\n",
    "        hdr = image[0].header\n",
    "        star = hdr['TOBJECT']\n",
    "        datacenter_stars += [star]"
   ]
  },
  {
   "cell_type": "code",
   "execution_count": 23,
   "metadata": {},
   "outputs": [],
   "source": [
    "data_center_stars = list(set(datacenter_stars))"
   ]
  },
  {
   "cell_type": "code",
   "execution_count": 27,
   "metadata": {},
   "outputs": [
    {
     "data": {
      "text/plain": [
       "867"
      ]
     },
     "execution_count": 27,
     "metadata": {},
     "output_type": "execute_result"
    }
   ],
   "source": [
    "len(data_center_stars)"
   ]
  },
  {
   "cell_type": "code",
   "execution_count": 35,
   "metadata": {},
   "outputs": [],
   "source": [
    "# np.save('Data/data_center_stars', np.array(data_center_stars))"
   ]
  },
  {
   "cell_type": "code",
   "execution_count": 7,
   "metadata": {},
   "outputs": [],
   "source": [
    "specmatch_stars = []\n",
    "specmatch = '/mnt_home/azuckerman/BL_APF_DAP/APF_spectra/NDRS_all_apf/'\n",
    "for file in glob.glob(specmatch + '*'):\n",
    "    if '.fits' in file:\n",
    "        image = fits.open(file)\n",
    "        hdr = image[0].header\n",
    "        star = hdr['TOBJECT']\n",
    "        specmatch_stars += [star]"
   ]
  },
  {
   "cell_type": "code",
   "execution_count": 26,
   "metadata": {},
   "outputs": [
    {
     "data": {
      "text/plain": [
       "773"
      ]
     },
     "execution_count": 26,
     "metadata": {},
     "output_type": "execute_result"
    }
   ],
   "source": [
    "len(specmatch_stars)"
   ]
  },
  {
   "cell_type": "code",
   "execution_count": 36,
   "metadata": {},
   "outputs": [],
   "source": [
    "# np.save('Data/specmatch_stars', np.array(specmatch_stars))"
   ]
  },
  {
   "cell_type": "code",
   "execution_count": 10,
   "metadata": {},
   "outputs": [],
   "source": [
    "indvid_obs_stars = []\n",
    "individual = '/mnt_home/azuckerman/BL_APF_DAP/APF_spectra/NDRS_ind/'\n",
    "for file in glob.glob(individual + '*'):\n",
    "    if '.fits' in file:\n",
    "        image = fits.open(file)\n",
    "        hdr = image[0].header\n",
    "        star = hdr['TOBJECT']\n",
    "        indvid_obs_stars += [star]"
   ]
  },
  {
   "cell_type": "code",
   "execution_count": 28,
   "metadata": {},
   "outputs": [],
   "source": [
    "stars = Counter(indvid_obs_stars).keys()\n",
    "star_count = Counter(indvid_obs_stars).values()\n",
    "\n",
    "individ_obs = pd.DataFrame({'Star': stars, 'Count': star_count})\n",
    "three_obs = individ_obs[individ_obs['Count'] > 2]\n",
    "three_obs_stars = list(three_obs['Star'])"
   ]
  },
  {
   "cell_type": "code",
   "execution_count": 30,
   "metadata": {},
   "outputs": [
    {
     "data": {
      "text/plain": [
       "713"
      ]
     },
     "execution_count": 30,
     "metadata": {},
     "output_type": "execute_result"
    }
   ],
   "source": [
    "len(three_obs_stars)"
   ]
  },
  {
   "cell_type": "code",
   "execution_count": 37,
   "metadata": {},
   "outputs": [],
   "source": [
    "# np.save('Data/three_obs_stars', np.array(three_obs_stars))"
   ]
  }
 ],
 "metadata": {
  "kernelspec": {
   "display_name": "Python 3",
   "language": "python",
   "name": "python3"
  },
  "language_info": {
   "codemirror_mode": {
    "name": "ipython",
    "version": 3
   },
   "file_extension": ".py",
   "mimetype": "text/x-python",
   "name": "python",
   "nbconvert_exporter": "python",
   "pygments_lexer": "ipython3",
   "version": "3.7.6"
  }
 },
 "nbformat": 4,
 "nbformat_minor": 4
}
