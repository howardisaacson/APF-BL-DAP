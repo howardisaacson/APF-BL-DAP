{
 "cells": [
  {
   "cell_type": "markdown",
   "metadata": {},
   "source": [
    "## Convert tables from paper to CSV files"
   ]
  },
  {
   "cell_type": "code",
   "execution_count": 146,
   "metadata": {},
   "outputs": [],
   "source": [
    "import re\n",
    "import sys\n",
    "import pandas as pd"
   ]
  },
  {
   "cell_type": "code",
   "execution_count": 147,
   "metadata": {},
   "outputs": [],
   "source": [
    "files1 = ['OH']\n",
    "files2 = ['HG', 'NA', 'NE', 'SC', 'SE', 'TH', 'TH2']\n",
    "files3 = ['add']\n",
    "files4 = ['unidentified']\n",
    "all_files = files1 + files2 + files3 + files4"
   ]
  },
  {
   "cell_type": "code",
   "execution_count": 148,
   "metadata": {},
   "outputs": [],
   "source": [
    "columns1 = ['Line1', 'Line2', 'Line3', 'Line4', 'LickLambda', 'AbramsLambda', 'Deviation', 'Width', 'RI']\n",
    "columns2 = ['LickLambda', 'NISTLambda', 'Deviation', 'Width', 'RI']\n",
    "columns3 = ['Emitter1', 'Emitter2', 'LickLambda', 'NISTLambda', 'Deviation', 'Width', 'RI']\n",
    "columns4 = ['LickLambda', 'RI']"
   ]
  },
  {
   "cell_type": "code",
   "execution_count": 156,
   "metadata": {},
   "outputs": [],
   "source": [
    "for file in all_files:\n",
    "    file_name = file + '.txt'\n",
    "    if file in files1:\n",
    "        column_names = columns1\n",
    "    elif file in files2:\n",
    "        column_names = columns2\n",
    "    elif file in files3:\n",
    "        column_names = columns3\n",
    "    else:\n",
    "        column_names = columns4\n",
    "    df = pd.DataFrame(columns = column_names)\n",
    "    with open(file_name) as f:\n",
    "        for line in f:\n",
    "            if \"......\" in line:\n",
    "                line = re.sub(r' \\.\\.+ ', ',', line)\n",
    "            if \" \" in line:\n",
    "                line = re.sub(r' ', ',', line)\n",
    "            line = re.sub(r'[^a-zA-Z0-9\\.\\,]', '', line)\n",
    "            series = pd.Series(line.split(','), index = df.columns)\n",
    "            df = df.append(series, ignore_index=True)\n",
    "    df.to_pickle(file + '.pkl')"
   ]
  },
  {
   "cell_type": "code",
   "execution_count": 165,
   "metadata": {},
   "outputs": [],
   "source": [
    "lst = []\n",
    "for file in all_files:\n",
    "    f_name = file + '.pkl'\n",
    "    lst += [f_name]"
   ]
  },
  {
   "cell_type": "code",
   "execution_count": 189,
   "metadata": {},
   "outputs": [],
   "source": [
    "all_wavelengths = pd.DataFrame(columns=['LickLambda'])\n",
    "for file in lst:\n",
    "    df = pd.read_pickle(file)\n",
    "    to_stack = pd.DataFrame(df['LickLambda'])\n",
    "    all_wavelengths = pd.concat([all_wavelengths,to_stack],ignore_index=True)\n",
    "all_wavelengths.to_pickle('AllLines.pkl')"
   ]
  },
  {
   "cell_type": "code",
   "execution_count": 191,
   "metadata": {},
   "outputs": [
    {
     "data": {
      "text/html": [
       "<div>\n",
       "<style scoped>\n",
       "    .dataframe tbody tr th:only-of-type {\n",
       "        vertical-align: middle;\n",
       "    }\n",
       "\n",
       "    .dataframe tbody tr th {\n",
       "        vertical-align: top;\n",
       "    }\n",
       "\n",
       "    .dataframe thead th {\n",
       "        text-align: right;\n",
       "    }\n",
       "</style>\n",
       "<table border=\"1\" class=\"dataframe\">\n",
       "  <thead>\n",
       "    <tr style=\"text-align: right;\">\n",
       "      <th></th>\n",
       "      <th>LickLambda</th>\n",
       "      <th>NISTLambda</th>\n",
       "      <th>Deviation</th>\n",
       "      <th>Width</th>\n",
       "      <th>RI</th>\n",
       "    </tr>\n",
       "  </thead>\n",
       "  <tbody>\n",
       "    <tr>\n",
       "      <th>0</th>\n",
       "      <td>4056.627</td>\n",
       "      <td>4056.596</td>\n",
       "      <td>0.031</td>\n",
       "      <td>0.24</td>\n",
       "      <td>2</td>\n",
       "    </tr>\n",
       "    <tr>\n",
       "      <th>1</th>\n",
       "      <td>4087.154</td>\n",
       "      <td>4087.150</td>\n",
       "      <td>0.004</td>\n",
       "      <td>0.24</td>\n",
       "      <td>2</td>\n",
       "    </tr>\n",
       "    <tr>\n",
       "      <th>2</th>\n",
       "      <td>4100.324</td>\n",
       "      <td>4100.318</td>\n",
       "      <td>0.006</td>\n",
       "      <td>0.12</td>\n",
       "      <td>2</td>\n",
       "    </tr>\n",
       "    <tr>\n",
       "      <th>3</th>\n",
       "      <td>4133.046</td>\n",
       "      <td>4132.981</td>\n",
       "      <td>0.065</td>\n",
       "      <td>0.36</td>\n",
       "      <td>3</td>\n",
       "    </tr>\n",
       "    <tr>\n",
       "      <th>4</th>\n",
       "      <td>4140.341</td>\n",
       "      <td>4140.274</td>\n",
       "      <td>0.067</td>\n",
       "      <td>0.34</td>\n",
       "      <td>3</td>\n",
       "    </tr>\n",
       "    <tr>\n",
       "      <th>...</th>\n",
       "      <td>...</td>\n",
       "      <td>...</td>\n",
       "      <td>...</td>\n",
       "      <td>...</td>\n",
       "      <td>...</td>\n",
       "    </tr>\n",
       "    <tr>\n",
       "      <th>84</th>\n",
       "      <td>6258.991</td>\n",
       "      <td>6258.94</td>\n",
       "      <td>0.05</td>\n",
       "      <td>0.28</td>\n",
       "      <td>4</td>\n",
       "    </tr>\n",
       "    <tr>\n",
       "      <th>85</th>\n",
       "      <td>6276.307</td>\n",
       "      <td>6276.30</td>\n",
       "      <td>0.01</td>\n",
       "      <td>0.16</td>\n",
       "      <td>2</td>\n",
       "    </tr>\n",
       "    <tr>\n",
       "      <th>86</th>\n",
       "      <td>6306.019</td>\n",
       "      <td>6306.02</td>\n",
       "      <td>0.00</td>\n",
       "      <td>0.32</td>\n",
       "      <td>3</td>\n",
       "    </tr>\n",
       "    <tr>\n",
       "      <th>87</th>\n",
       "      <td>6378.833</td>\n",
       "      <td>6378.81</td>\n",
       "      <td>0.02</td>\n",
       "      <td>0.29</td>\n",
       "      <td>2</td>\n",
       "    </tr>\n",
       "    <tr>\n",
       "      <th>88</th>\n",
       "      <td>6413.363</td>\n",
       "      <td>6413.32</td>\n",
       "      <td>0.04</td>\n",
       "      <td>0.23</td>\n",
       "      <td>3</td>\n",
       "    </tr>\n",
       "  </tbody>\n",
       "</table>\n",
       "<p>89 rows × 5 columns</p>\n",
       "</div>"
      ],
      "text/plain": [
       "   LickLambda NISTLambda Deviation Width RI\n",
       "0    4056.627   4056.596     0.031  0.24  2\n",
       "1    4087.154   4087.150     0.004  0.24  2\n",
       "2    4100.324   4100.318     0.006  0.12  2\n",
       "3    4133.046   4132.981     0.065  0.36  3\n",
       "4    4140.341   4140.274     0.067  0.34  3\n",
       "..        ...        ...       ...   ... ..\n",
       "84   6258.991    6258.94      0.05  0.28  4\n",
       "85   6276.307    6276.30      0.01  0.16  2\n",
       "86   6306.019    6306.02      0.00  0.32  3\n",
       "87   6378.833    6378.81      0.02  0.29  2\n",
       "88   6413.363    6413.32      0.04  0.23  3\n",
       "\n",
       "[89 rows x 5 columns]"
      ]
     },
     "execution_count": 191,
     "metadata": {},
     "output_type": "execute_result"
    }
   ],
   "source": [
    "pd.read_pickle('SE.pkl')"
   ]
  }
 ],
 "metadata": {
  "kernelspec": {
   "display_name": "Python 3",
   "language": "python",
   "name": "python3"
  },
  "language_info": {
   "codemirror_mode": {
    "name": "ipython",
    "version": 3
   },
   "file_extension": ".py",
   "mimetype": "text/x-python",
   "name": "python",
   "nbconvert_exporter": "python",
   "pygments_lexer": "ipython3",
   "version": "3.7.6"
  }
 },
 "nbformat": 4,
 "nbformat_minor": 4
}
