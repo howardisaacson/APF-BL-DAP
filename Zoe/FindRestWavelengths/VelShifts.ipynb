{
 "cells": [
  {
   "cell_type": "markdown",
   "metadata": {},
   "source": [
    "# Find the original (unshifted) wavelength of all detections"
   ]
  },
  {
   "cell_type": "code",
   "execution_count": 1,
   "metadata": {},
   "outputs": [],
   "source": [
    "import pandas as pd\n",
    "import glob\n",
    "import numpy as np\n",
    "import matplotlib.pylab as plt\n",
    "import os\n",
    "\n",
    "c = 299792 # km/s"
   ]
  },
  {
   "cell_type": "code",
   "execution_count": 2,
   "metadata": {},
   "outputs": [],
   "source": [
    "# x = np.array([1, 2, 3])\n",
    "# y = np.array([2, 4, 5])\n",
    "# z = np.array([3, 3, 2])\n",
    "# q = np.vstack([x, y, z])"
   ]
  },
  {
   "cell_type": "code",
   "execution_count": null,
   "metadata": {},
   "outputs": [],
   "source": []
  },
  {
   "cell_type": "code",
   "execution_count": 3,
   "metadata": {},
   "outputs": [],
   "source": [
    "individual_spectra = True"
   ]
  },
  {
   "cell_type": "code",
   "execution_count": 4,
   "metadata": {},
   "outputs": [],
   "source": [
    "# Anna's folder containing all the velocity values.\n",
    "\n",
    "if individual_spectra:\n",
    "    velshifts = pd.read_csv('/mnt_home/zoek/code/APF-BL-DAP/Zoe/FindRestWavelengths/Velocity_shift_ind.csv')\n",
    "else:\n",
    "    velshifts = pd.read_csv('/mnt_home/zoek/code/APF-BL-DAP/Zoe/FindRestWavelengths/velshifts.csv')"
   ]
  },
  {
   "cell_type": "code",
   "execution_count": 5,
   "metadata": {},
   "outputs": [],
   "source": [
    "# spectra_folder = '/mnt_home/zoek/code/APF-BL-DAP/Zoe/LaserDetectionResults'\n",
    "# residuals_folder = '/mnt_home/zoek/code/APF-BL-DAP/Zoe/ResidualsResults'\n",
    "# folder = '/mnt_home/zoek/code/APF-BL-DAP/Zoe/AnnaInjectionResults'\n",
    "folder = '/mnt_home/zoek/code/APF-BL-DAP/Zoe/Results'"
   ]
  },
  {
   "cell_type": "code",
   "execution_count": 6,
   "metadata": {},
   "outputs": [
    {
     "data": {
      "text/plain": [
       "26"
      ]
     },
     "execution_count": 6,
     "metadata": {},
     "output_type": "execute_result"
    }
   ],
   "source": [
    "sum(velshifts['Velocity_shift [km/s]'] == 0)"
   ]
  },
  {
   "cell_type": "markdown",
   "metadata": {},
   "source": [
    "## Look at the wavelengths of detections in spectra"
   ]
  },
  {
   "cell_type": "code",
   "execution_count": 7,
   "metadata": {},
   "outputs": [
    {
     "name": "stdout",
     "output_type": "stream",
     "text": [
      "There are a total of 130975 detections in the residuals.\n",
      "There are a total of 64263 detections in the spectra.\n"
     ]
    }
   ],
   "source": [
    "r_all_detections_df = pd.DataFrame()\n",
    "s_all_detections_df = pd.DataFrame()\n",
    "\n",
    "missing_rv_stars = []\n",
    "\n",
    "for subfolder in glob.glob(folder + '/*'):   \n",
    "    if not '.csv' in subfolder:\n",
    "        for csv_file in glob.glob(subfolder + '/*.csv'):\n",
    "            if not 'detected' in csv_file:\n",
    "\n",
    "\n",
    "                shifted_wls_this_star = []\n",
    "                unshifted_wls_this_star = []\n",
    "\n",
    "                if individual_spectra:\n",
    "                    x = csv_file.split('/')[-1][:-4]\n",
    "                    data_type = x[0]\n",
    "                    index = 0\n",
    "                    identifier = x[2:]\n",
    "                    star = identifier.split('_')[0]\n",
    "                    \n",
    "                else:\n",
    "                    _, data_type, index, star = csv_file.split('_')\n",
    "                    data_type = data_type[-1]\n",
    "                    star = star.split('.')[0]\n",
    "                    \n",
    "                if individual_spectra:\n",
    "                    if sum(velshifts['Star_name'] == identifier) == 0:\n",
    "                        RV = 0\n",
    "                        missing_rv_stars += [identifier]\n",
    "                    else:\n",
    "                        RV = float(velshifts[velshifts['Star_name'] == identifier]['Velocity_shift [km/s]'])\n",
    "                    \n",
    "                    table = pd.read_csv(csv_file)\n",
    "                \n",
    "                else:\n",
    "                    if sum(velshifts['Star_name'] == star) == 0:\n",
    "                        RV = 0\n",
    "                        missing_rv_stars += [star]\n",
    "                    else:\n",
    "                        RV = float(velshifts[velshifts['Star_name'] == star]['Velocity_shift [km/s]'])\n",
    "                    table = pd.read_csv(csv_file)\n",
    "\n",
    "                wls = table['wavelengths'][2].replace('[', '').replace(']', '').split(', ')\n",
    "                unshifted_wls = []\n",
    "                for wl in wls:\n",
    "                    shifted = float(wl)\n",
    "                    shifted_wls_this_star += [shifted]\n",
    "                    const = c / (c - RV) # minus sign because we are getting rid of the vel shift\n",
    "                    unshifted = const * shifted\n",
    "                    unshifted_wls += [unshifted]\n",
    "                    unshifted_wls_this_star += [unshifted]\n",
    "\n",
    "                length = len(shifted_wls_this_star)\n",
    "                index_col = [int(index)] * length\n",
    "                star_col = [star] * length\n",
    "                \n",
    "                if individual_spectra:\n",
    "                    identifier_col = [identifier] * length\n",
    "\n",
    "                heights = table['heights'][2].replace('[', '').replace(']', '').split(', ')\n",
    "                AMD_heights = table['AMD heights'][2].replace('[', '').replace(']', '').split(', ')\n",
    "\n",
    "                df = pd.DataFrame()\n",
    "                df[data_type + ' index'] = index_col\n",
    "                df['star'] = star_col\n",
    "                if individual_spectra:\n",
    "                    df['identifier'] = identifier_col\n",
    "                df[data_type + ' shifted wl'] = shifted_wls_this_star\n",
    "                df[data_type + ' unshifted wl'] = unshifted_wls_this_star\n",
    "                df[data_type + ' heights'] = heights\n",
    "                df[data_type + ' AMD heights'] = AMD_heights\n",
    "\n",
    "\n",
    "                if data_type == 'r':\n",
    "                    r_all_detections_df = pd.concat([r_all_detections_df, df])\n",
    "                else:\n",
    "                    s_all_detections_df = pd.concat([s_all_detections_df, df])\n",
    "\n",
    "                fname = csv_file.replace('.csv', '_detected_wls.csv')\n",
    "                df.to_csv(fname)\n",
    "\n",
    "                table['unshifted wavelengths'] = [[], [], unshifted_wls]\n",
    "                table.to_csv(csv_file)\n",
    "                \n",
    "if individual_spectra:\n",
    "    r_all_detections_df = r_all_detections_df.sort_values('identifier')\n",
    "    s_all_detections_df = s_all_detections_df.sort_values('identifier')\n",
    "\n",
    "r_all_detections_df.to_csv(folder + '/r_detectionWLs.csv')\n",
    "s_all_detections_df.to_csv(folder + '/s_detectionWLs.csv')\n",
    "\n",
    "\n",
    "print('There are a total of ' + str(len(r_all_detections_df)) + ' detections in the residuals.')\n",
    "print('There are a total of ' + str(len(s_all_detections_df)) + ' detections in the spectra.')"
   ]
  },
  {
   "cell_type": "code",
   "execution_count": 8,
   "metadata": {},
   "outputs": [],
   "source": [
    "if individual_spectra:\n",
    "    resid_results = pd.read_csv(folder + '/r_detectionWLs.csv')\n",
    "    spect_results = pd.read_csv(folder + '/s_detectionWLs.csv')\n",
    "\n",
    "    resid_results = resid_results[['star', 'identifier', 'r shifted wl', 'r unshifted wl', 'r heights', 'r AMD heights']]\n",
    "\n",
    "    spect_results = spect_results[['star', 'identifier', 's shifted wl', 's unshifted wl', 's heights', 's AMD heights']]\n",
    "\n",
    "    final_results = pd.merge(\n",
    "        left = spect_results,\n",
    "        right = resid_results,\n",
    "        how=\"outer\",\n",
    "        left_on=[\"identifier\", \"s shifted wl\"], right_on=[\"identifier\",\"r shifted wl\"])\n",
    "\n",
    "    final_results = final_results.sort_values('identifier')\n",
    "    final_results.to_csv(folder + '/final_results.csv')"
   ]
  },
  {
   "cell_type": "code",
   "execution_count": 9,
   "metadata": {},
   "outputs": [],
   "source": [
    "if not individual_spectra:\n",
    "        \n",
    "    resid_results = pd.read_csv(folder + '/r_detectionWLs.csv')\n",
    "    spect_results = pd.read_csv(folder + '/s_detectionWLs.csv')\n",
    "\n",
    "    resid_results = resid_results[['star', 'r shifted wl', 'r unshifted wl', 'r heights', 'r AMD heights']]\n",
    "\n",
    "    spect_results = spect_results[['star', 's shifted wl', 's unshifted wl', 's heights', 's AMD heights']]\n",
    "\n",
    "    final_results = pd.merge(\n",
    "        left = spect_results,\n",
    "        right = resid_results,\n",
    "        how=\"outer\",\n",
    "        left_on=[\"star\", \"s shifted wl\"], right_on=[\"star\",\"r shifted wl\"])\n",
    "\n",
    "    final_results = final_results.sort_values('star')\n",
    "    final_results.to_csv(folder + '/final_results.csv')"
   ]
  },
  {
   "cell_type": "code",
   "execution_count": 10,
   "metadata": {},
   "outputs": [],
   "source": [
    "# final_results.dropna(subset=['s heights'])"
   ]
  },
  {
   "cell_type": "code",
   "execution_count": 11,
   "metadata": {},
   "outputs": [],
   "source": [
    "# old script for separate residuals and spectra folder\n",
    "# to use: set folder equal to either the residuals results folder or the spectra results folder\n",
    "\n",
    "\n",
    "# all_detections_df = pd.DataFrame()\n",
    "\n",
    "# for subfolder in glob.glob(folder + '/*_*'):\n",
    "    \n",
    "#     shifted_wls_this_star = []\n",
    "#     unshifted_wls_this_star = []\n",
    "    \n",
    "#     csv_file = glob.glob(subfolder + '/*.csv')[0]\n",
    "#     star, index = csv_file.split('_')[-2].split('/')\n",
    "#     RV = velshifts.loc[int(index)][2]\n",
    "#     table = pd.read_csv(csv_file)\n",
    "    \n",
    "#     wls = table['wavelengths'][2].replace('[', '').replace(']', '').split(', ')\n",
    "#     unshifted_wls = []\n",
    "#     for wl in wls:\n",
    "#         shifted = float(wl)\n",
    "#         shifted_wls_this_star += [shifted]\n",
    "#         const = c / (c - RV) # minus sign because we are getting rid of the vel shift\n",
    "#         unshifted = const * shifted\n",
    "#         unshifted_wls += [unshifted]\n",
    "#         unshifted_wls_this_star += [unshifted]\n",
    "    \n",
    "#     length = len(shifted_wls_this_star)\n",
    "#     index_col = [int(index)] * length\n",
    "#     star_col = [star] * length\n",
    "        \n",
    "#     df = pd.DataFrame()\n",
    "#     df['index'] = index_col\n",
    "#     df['star'] = star_col\n",
    "#     df['shifted wl'] = shifted_wls_this_star\n",
    "#     df['unshifted wl'] = unshifted_wls_this_star\n",
    "    \n",
    "#     all_detections_df = pd.concat([all_detections_df, df])\n",
    "\n",
    "    \n",
    "#     fname = csv_file.replace('.csv', '_detected_wls.csv')\n",
    "#     df.to_csv(fname)\n",
    "    \n",
    "#     table['unshifted wavelengths'] = [[], [], unshifted_wls]\n",
    "#     table.to_csv(csv_file)\n",
    "    \n",
    "# all_detections_df.to_csv(folder + '/detectionWLs.csv')\n",
    "\n",
    "# print('There are a total of ' + str(len(all_detections_df)) + ' detections.')"
   ]
  },
  {
   "cell_type": "code",
   "execution_count": 12,
   "metadata": {},
   "outputs": [],
   "source": [
    "# hist_step = 1\n",
    "\n",
    "# plt.hist(s_all_detections_df['unshifted wl'], bins = np.arange(5000, 6200, step=hist_step))\n",
    "# plt.title('Distribution of Wavelengths of (Spectra) Candidates in Earth Rest Frame')\n",
    "# plt.xlabel('wl [A]')\n",
    "# plt.ylabel('Count')\n",
    "# # plt.xlim(5000, 5200)\n",
    "# plt.show()\n",
    "\n",
    "# plt.hist(s_all_detections_df['shifted wl'], bins = np.arange(5000, 6200, step=hist_step))\n",
    "# plt.title('Distribution of Wavelengths of (Spectra) Candidates in Star Rest Frame')\n",
    "# plt.xlabel('wl [A]')\n",
    "# plt.ylabel('Count')\n",
    "# # plt.xlim(5000, 5200)\n",
    "# plt.show()"
   ]
  },
  {
   "cell_type": "markdown",
   "metadata": {},
   "source": [
    "## Look at the wavelengths of detections in residuals"
   ]
  },
  {
   "cell_type": "code",
   "execution_count": 13,
   "metadata": {},
   "outputs": [
    {
     "ename": "KeyError",
     "evalue": "'unshifted wl'",
     "output_type": "error",
     "traceback": [
      "\u001b[0;31m---------------------------------------------------------------------------\u001b[0m",
      "\u001b[0;31mKeyError\u001b[0m                                  Traceback (most recent call last)",
      "\u001b[0;32m~/.local/lib/python3.7/site-packages/pandas/core/indexes/base.py\u001b[0m in \u001b[0;36mget_loc\u001b[0;34m(self, key, method, tolerance)\u001b[0m\n\u001b[1;32m   3360\u001b[0m             \u001b[0;32mtry\u001b[0m\u001b[0;34m:\u001b[0m\u001b[0;34m\u001b[0m\u001b[0;34m\u001b[0m\u001b[0m\n\u001b[0;32m-> 3361\u001b[0;31m                 \u001b[0;32mreturn\u001b[0m \u001b[0mself\u001b[0m\u001b[0;34m.\u001b[0m\u001b[0m_engine\u001b[0m\u001b[0;34m.\u001b[0m\u001b[0mget_loc\u001b[0m\u001b[0;34m(\u001b[0m\u001b[0mcasted_key\u001b[0m\u001b[0;34m)\u001b[0m\u001b[0;34m\u001b[0m\u001b[0;34m\u001b[0m\u001b[0m\n\u001b[0m\u001b[1;32m   3362\u001b[0m             \u001b[0;32mexcept\u001b[0m \u001b[0mKeyError\u001b[0m \u001b[0;32mas\u001b[0m \u001b[0merr\u001b[0m\u001b[0;34m:\u001b[0m\u001b[0;34m\u001b[0m\u001b[0;34m\u001b[0m\u001b[0m\n",
      "\u001b[0;32m~/.local/lib/python3.7/site-packages/pandas/_libs/index.pyx\u001b[0m in \u001b[0;36mpandas._libs.index.IndexEngine.get_loc\u001b[0;34m()\u001b[0m\n",
      "\u001b[0;32m~/.local/lib/python3.7/site-packages/pandas/_libs/index.pyx\u001b[0m in \u001b[0;36mpandas._libs.index.IndexEngine.get_loc\u001b[0;34m()\u001b[0m\n",
      "\u001b[0;32mpandas/_libs/hashtable_class_helper.pxi\u001b[0m in \u001b[0;36mpandas._libs.hashtable.PyObjectHashTable.get_item\u001b[0;34m()\u001b[0m\n",
      "\u001b[0;32mpandas/_libs/hashtable_class_helper.pxi\u001b[0m in \u001b[0;36mpandas._libs.hashtable.PyObjectHashTable.get_item\u001b[0;34m()\u001b[0m\n",
      "\u001b[0;31mKeyError\u001b[0m: 'unshifted wl'",
      "\nThe above exception was the direct cause of the following exception:\n",
      "\u001b[0;31mKeyError\u001b[0m                                  Traceback (most recent call last)",
      "\u001b[0;32m<ipython-input-13-d9d668d27841>\u001b[0m in \u001b[0;36m<module>\u001b[0;34m\u001b[0m\n\u001b[1;32m      1\u001b[0m \u001b[0mhist_step\u001b[0m \u001b[0;34m=\u001b[0m \u001b[0;36m1\u001b[0m\u001b[0;34m\u001b[0m\u001b[0;34m\u001b[0m\u001b[0m\n\u001b[1;32m      2\u001b[0m \u001b[0;34m\u001b[0m\u001b[0m\n\u001b[0;32m----> 3\u001b[0;31m \u001b[0mplt\u001b[0m\u001b[0;34m.\u001b[0m\u001b[0mhist\u001b[0m\u001b[0;34m(\u001b[0m\u001b[0mr_all_detections_df\u001b[0m\u001b[0;34m[\u001b[0m\u001b[0;34m'unshifted wl'\u001b[0m\u001b[0;34m]\u001b[0m\u001b[0;34m,\u001b[0m \u001b[0mbins\u001b[0m \u001b[0;34m=\u001b[0m \u001b[0mnp\u001b[0m\u001b[0;34m.\u001b[0m\u001b[0marange\u001b[0m\u001b[0;34m(\u001b[0m\u001b[0;36m5000\u001b[0m\u001b[0;34m,\u001b[0m \u001b[0;36m6200\u001b[0m\u001b[0;34m,\u001b[0m \u001b[0mstep\u001b[0m\u001b[0;34m=\u001b[0m\u001b[0mhist_step\u001b[0m\u001b[0;34m)\u001b[0m\u001b[0;34m)\u001b[0m\u001b[0;34m\u001b[0m\u001b[0;34m\u001b[0m\u001b[0m\n\u001b[0m\u001b[1;32m      4\u001b[0m \u001b[0mplt\u001b[0m\u001b[0;34m.\u001b[0m\u001b[0mtitle\u001b[0m\u001b[0;34m(\u001b[0m\u001b[0;34m'Distribution of Wavelengths of (Residuals) Candidates in Earth Rest Frame'\u001b[0m\u001b[0;34m)\u001b[0m\u001b[0;34m\u001b[0m\u001b[0;34m\u001b[0m\u001b[0m\n\u001b[1;32m      5\u001b[0m \u001b[0mplt\u001b[0m\u001b[0;34m.\u001b[0m\u001b[0mxlabel\u001b[0m\u001b[0;34m(\u001b[0m\u001b[0;34m'wl [A]'\u001b[0m\u001b[0;34m)\u001b[0m\u001b[0;34m\u001b[0m\u001b[0;34m\u001b[0m\u001b[0m\n",
      "\u001b[0;32m~/.local/lib/python3.7/site-packages/pandas/core/frame.py\u001b[0m in \u001b[0;36m__getitem__\u001b[0;34m(self, key)\u001b[0m\n\u001b[1;32m   3453\u001b[0m             \u001b[0;32mif\u001b[0m \u001b[0mself\u001b[0m\u001b[0;34m.\u001b[0m\u001b[0mcolumns\u001b[0m\u001b[0;34m.\u001b[0m\u001b[0mnlevels\u001b[0m \u001b[0;34m>\u001b[0m \u001b[0;36m1\u001b[0m\u001b[0;34m:\u001b[0m\u001b[0;34m\u001b[0m\u001b[0;34m\u001b[0m\u001b[0m\n\u001b[1;32m   3454\u001b[0m                 \u001b[0;32mreturn\u001b[0m \u001b[0mself\u001b[0m\u001b[0;34m.\u001b[0m\u001b[0m_getitem_multilevel\u001b[0m\u001b[0;34m(\u001b[0m\u001b[0mkey\u001b[0m\u001b[0;34m)\u001b[0m\u001b[0;34m\u001b[0m\u001b[0;34m\u001b[0m\u001b[0m\n\u001b[0;32m-> 3455\u001b[0;31m             \u001b[0mindexer\u001b[0m \u001b[0;34m=\u001b[0m \u001b[0mself\u001b[0m\u001b[0;34m.\u001b[0m\u001b[0mcolumns\u001b[0m\u001b[0;34m.\u001b[0m\u001b[0mget_loc\u001b[0m\u001b[0;34m(\u001b[0m\u001b[0mkey\u001b[0m\u001b[0;34m)\u001b[0m\u001b[0;34m\u001b[0m\u001b[0;34m\u001b[0m\u001b[0m\n\u001b[0m\u001b[1;32m   3456\u001b[0m             \u001b[0;32mif\u001b[0m \u001b[0mis_integer\u001b[0m\u001b[0;34m(\u001b[0m\u001b[0mindexer\u001b[0m\u001b[0;34m)\u001b[0m\u001b[0;34m:\u001b[0m\u001b[0;34m\u001b[0m\u001b[0;34m\u001b[0m\u001b[0m\n\u001b[1;32m   3457\u001b[0m                 \u001b[0mindexer\u001b[0m \u001b[0;34m=\u001b[0m \u001b[0;34m[\u001b[0m\u001b[0mindexer\u001b[0m\u001b[0;34m]\u001b[0m\u001b[0;34m\u001b[0m\u001b[0;34m\u001b[0m\u001b[0m\n",
      "\u001b[0;32m~/.local/lib/python3.7/site-packages/pandas/core/indexes/base.py\u001b[0m in \u001b[0;36mget_loc\u001b[0;34m(self, key, method, tolerance)\u001b[0m\n\u001b[1;32m   3361\u001b[0m                 \u001b[0;32mreturn\u001b[0m \u001b[0mself\u001b[0m\u001b[0;34m.\u001b[0m\u001b[0m_engine\u001b[0m\u001b[0;34m.\u001b[0m\u001b[0mget_loc\u001b[0m\u001b[0;34m(\u001b[0m\u001b[0mcasted_key\u001b[0m\u001b[0;34m)\u001b[0m\u001b[0;34m\u001b[0m\u001b[0;34m\u001b[0m\u001b[0m\n\u001b[1;32m   3362\u001b[0m             \u001b[0;32mexcept\u001b[0m \u001b[0mKeyError\u001b[0m \u001b[0;32mas\u001b[0m \u001b[0merr\u001b[0m\u001b[0;34m:\u001b[0m\u001b[0;34m\u001b[0m\u001b[0;34m\u001b[0m\u001b[0m\n\u001b[0;32m-> 3363\u001b[0;31m                 \u001b[0;32mraise\u001b[0m \u001b[0mKeyError\u001b[0m\u001b[0;34m(\u001b[0m\u001b[0mkey\u001b[0m\u001b[0;34m)\u001b[0m \u001b[0;32mfrom\u001b[0m \u001b[0merr\u001b[0m\u001b[0;34m\u001b[0m\u001b[0;34m\u001b[0m\u001b[0m\n\u001b[0m\u001b[1;32m   3364\u001b[0m \u001b[0;34m\u001b[0m\u001b[0m\n\u001b[1;32m   3365\u001b[0m         \u001b[0;32mif\u001b[0m \u001b[0mis_scalar\u001b[0m\u001b[0;34m(\u001b[0m\u001b[0mkey\u001b[0m\u001b[0;34m)\u001b[0m \u001b[0;32mand\u001b[0m \u001b[0misna\u001b[0m\u001b[0;34m(\u001b[0m\u001b[0mkey\u001b[0m\u001b[0;34m)\u001b[0m \u001b[0;32mand\u001b[0m \u001b[0;32mnot\u001b[0m \u001b[0mself\u001b[0m\u001b[0;34m.\u001b[0m\u001b[0mhasnans\u001b[0m\u001b[0;34m:\u001b[0m\u001b[0;34m\u001b[0m\u001b[0;34m\u001b[0m\u001b[0m\n",
      "\u001b[0;31mKeyError\u001b[0m: 'unshifted wl'"
     ]
    }
   ],
   "source": [
    "hist_step = 1\n",
    "\n",
    "plt.hist(r_all_detections_df['unshifted wl'], bins = np.arange(5000, 6200, step=hist_step))\n",
    "plt.title('Distribution of Wavelengths of (Residuals) Candidates in Earth Rest Frame')\n",
    "plt.xlabel('wl [A]')\n",
    "plt.ylabel('Count')\n",
    "# plt.xlim(5000, 5200)\n",
    "plt.show()\n",
    "\n",
    "plt.hist(r_all_detections_df['shifted wl'], bins = np.arange(5000, 6200, step=hist_step))\n",
    "plt.title('Distribution of Wavelengths of (Residuals) Candidates in Star Rest Frame')\n",
    "plt.xlabel('wl [A]')\n",
    "plt.ylabel('Count')\n",
    "# plt.xlim(5000, 5200)\n",
    "plt.show()"
   ]
  },
  {
   "cell_type": "markdown",
   "metadata": {},
   "source": [
    "## Look at most common wavelengths of detection"
   ]
  },
  {
   "cell_type": "code",
   "execution_count": null,
   "metadata": {},
   "outputs": [],
   "source": [
    "# plt.hist(list(all_detections_df['unshifted wl']), bins = np.arange(5000, 6200, step=hist_step))\n",
    "# plt.title('Distribution of Wavelengths of (Residuals) Candidates in Earth Rest Frame')\n",
    "# plt.xlabel('wl [A]')\n",
    "# plt.ylabel('Count')\n",
    "# # plt.xlim(5016, 5019)\n",
    "# plt.show()"
   ]
  },
  {
   "cell_type": "code",
   "execution_count": null,
   "metadata": {},
   "outputs": [],
   "source": [
    "# all_detections_df[all_detections_df['unshifted wl'].between(5016, 5018)].sort_values('index')"
   ]
  },
  {
   "cell_type": "code",
   "execution_count": null,
   "metadata": {},
   "outputs": [],
   "source": []
  },
  {
   "cell_type": "code",
   "execution_count": null,
   "metadata": {},
   "outputs": [],
   "source": []
  }
 ],
 "metadata": {
  "kernelspec": {
   "display_name": "Python 3",
   "language": "python",
   "name": "python3"
  },
  "language_info": {
   "codemirror_mode": {
    "name": "ipython",
    "version": 3
   },
   "file_extension": ".py",
   "mimetype": "text/x-python",
   "name": "python",
   "nbconvert_exporter": "python",
   "pygments_lexer": "ipython3",
   "version": "3.7.6"
  }
 },
 "nbformat": 4,
 "nbformat_minor": 4
}
