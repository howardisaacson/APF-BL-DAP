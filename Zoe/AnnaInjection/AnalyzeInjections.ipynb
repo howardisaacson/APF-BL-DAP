{
 "cells": [
  {
   "cell_type": "code",
   "execution_count": 113,
   "metadata": {},
   "outputs": [],
   "source": [
    "import numpy as np\n",
    "import pandas as pd\n",
    "import glob\n",
    "from astropy.io import fits\n",
    "import matplotlib.pylab as plt\n",
    "import random"
   ]
  },
  {
   "cell_type": "code",
   "execution_count": 114,
   "metadata": {},
   "outputs": [],
   "source": [
    "injections_table = pd.read_csv('/mnt_home/zoek/code/APF-BL-DAP/Zoe/AnnaInjection/Injection_key_full.csv')\n",
    "star_names = injections_table['Star_name'].tolist()\n",
    "\n",
    "results_table = pd.read_csv('/mnt_home/zoek/code/APF-BL-DAP/Zoe/AnnaInjectionResults/final_results.csv')"
   ]
  },
  {
   "cell_type": "code",
   "execution_count": 115,
   "metadata": {},
   "outputs": [
    {
     "data": {
      "text/html": [
       "<div>\n",
       "<style scoped>\n",
       "    .dataframe tbody tr th:only-of-type {\n",
       "        vertical-align: middle;\n",
       "    }\n",
       "\n",
       "    .dataframe tbody tr th {\n",
       "        vertical-align: top;\n",
       "    }\n",
       "\n",
       "    .dataframe thead th {\n",
       "        text-align: right;\n",
       "    }\n",
       "</style>\n",
       "<table border=\"1\" class=\"dataframe\">\n",
       "  <thead>\n",
       "    <tr style=\"text-align: right;\">\n",
       "      <th></th>\n",
       "      <th>Star_name</th>\n",
       "      <th>Injection_wavelength</th>\n",
       "      <th>Injected_peak_photons</th>\n",
       "      <th>Local_median_photons</th>\n",
       "    </tr>\n",
       "  </thead>\n",
       "  <tbody>\n",
       "    <tr>\n",
       "      <th>27</th>\n",
       "      <td>GJ702B</td>\n",
       "      <td>5490.074136</td>\n",
       "      <td>164158.149023</td>\n",
       "      <td>105022.593750</td>\n",
       "    </tr>\n",
       "    <tr>\n",
       "      <th>28</th>\n",
       "      <td>GJ702B</td>\n",
       "      <td>5555.365277</td>\n",
       "      <td>223767.865781</td>\n",
       "      <td>108709.835938</td>\n",
       "    </tr>\n",
       "    <tr>\n",
       "      <th>29</th>\n",
       "      <td>GJ702B</td>\n",
       "      <td>5622.229265</td>\n",
       "      <td>340678.847578</td>\n",
       "      <td>111627.902344</td>\n",
       "    </tr>\n",
       "  </tbody>\n",
       "</table>\n",
       "</div>"
      ],
      "text/plain": [
       "   Star_name  Injection_wavelength  Injected_peak_photons  \\\n",
       "27    GJ702B           5490.074136          164158.149023   \n",
       "28    GJ702B           5555.365277          223767.865781   \n",
       "29    GJ702B           5622.229265          340678.847578   \n",
       "\n",
       "    Local_median_photons  \n",
       "27         105022.593750  \n",
       "28         108709.835938  \n",
       "29         111627.902344  "
      ]
     },
     "execution_count": 115,
     "metadata": {},
     "output_type": "execute_result"
    }
   ],
   "source": [
    "# look at Anna's injections for a specfic star\n",
    "injections_table[injections_table['Star_name'] == 'GJ702B']"
   ]
  },
  {
   "cell_type": "code",
   "execution_count": 116,
   "metadata": {},
   "outputs": [],
   "source": [
    "# these are all the wavelengths anna injected in\n",
    "rounded_wavelength_vals = np.round(injections_table['Injection_wavelength'].unique())"
   ]
  },
  {
   "cell_type": "code",
   "execution_count": 120,
   "metadata": {},
   "outputs": [
    {
     "data": {
      "text/html": [
       "<div>\n",
       "<style scoped>\n",
       "    .dataframe tbody tr th:only-of-type {\n",
       "        vertical-align: middle;\n",
       "    }\n",
       "\n",
       "    .dataframe tbody tr th {\n",
       "        vertical-align: top;\n",
       "    }\n",
       "\n",
       "    .dataframe thead th {\n",
       "        text-align: right;\n",
       "    }\n",
       "</style>\n",
       "<table border=\"1\" class=\"dataframe\">\n",
       "  <thead>\n",
       "    <tr style=\"text-align: right;\">\n",
       "      <th></th>\n",
       "      <th>Unnamed: 0</th>\n",
       "      <th>star</th>\n",
       "      <th>s shifted wl</th>\n",
       "      <th>s unshifted wl</th>\n",
       "      <th>s heights</th>\n",
       "      <th>r shifted wl</th>\n",
       "      <th>r unshifted wl</th>\n",
       "      <th>r heights</th>\n",
       "    </tr>\n",
       "  </thead>\n",
       "  <tbody>\n",
       "    <tr>\n",
       "      <th>235</th>\n",
       "      <td>576</td>\n",
       "      <td>GJ144</td>\n",
       "      <td>5620.392622</td>\n",
       "      <td>5622.219559</td>\n",
       "      <td>1.427364</td>\n",
       "      <td>5620.392622</td>\n",
       "      <td>5622.219559</td>\n",
       "      <td>1.428376</td>\n",
       "    </tr>\n",
       "    <tr>\n",
       "      <th>497</th>\n",
       "      <td>1495</td>\n",
       "      <td>GJ702B</td>\n",
       "      <td>5554.289637</td>\n",
       "      <td>5555.361482</td>\n",
       "      <td>1.990619</td>\n",
       "      <td>5554.289637</td>\n",
       "      <td>5555.361482</td>\n",
       "      <td>1.991948</td>\n",
       "    </tr>\n",
       "    <tr>\n",
       "      <th>498</th>\n",
       "      <td>1494</td>\n",
       "      <td>GJ702B</td>\n",
       "      <td>5489.019995</td>\n",
       "      <td>5490.079244</td>\n",
       "      <td>1.377499</td>\n",
       "      <td>5489.019995</td>\n",
       "      <td>5490.079244</td>\n",
       "      <td>1.432449</td>\n",
       "    </tr>\n",
       "    <tr>\n",
       "      <th>499</th>\n",
       "      <td>1496</td>\n",
       "      <td>GJ702B</td>\n",
       "      <td>5621.155666</td>\n",
       "      <td>5622.240414</td>\n",
       "      <td>2.853890</td>\n",
       "      <td>5621.155666</td>\n",
       "      <td>5622.240414</td>\n",
       "      <td>2.832923</td>\n",
       "    </tr>\n",
       "    <tr>\n",
       "      <th>500</th>\n",
       "      <td>1622</td>\n",
       "      <td>GJ768</td>\n",
       "      <td>5490.063315</td>\n",
       "      <td>5490.081899</td>\n",
       "      <td>1.448781</td>\n",
       "      <td>5490.063315</td>\n",
       "      <td>5490.081899</td>\n",
       "      <td>1.450853</td>\n",
       "    </tr>\n",
       "    <tr>\n",
       "      <th>...</th>\n",
       "      <td>...</td>\n",
       "      <td>...</td>\n",
       "      <td>...</td>\n",
       "      <td>...</td>\n",
       "      <td>...</td>\n",
       "      <td>...</td>\n",
       "      <td>...</td>\n",
       "      <td>...</td>\n",
       "    </tr>\n",
       "    <tr>\n",
       "      <th>11277</th>\n",
       "      <td>4892</td>\n",
       "      <td>HIP75829</td>\n",
       "      <td>5525.429412</td>\n",
       "      <td>5526.776355</td>\n",
       "      <td>3.782340</td>\n",
       "      <td>5525.429412</td>\n",
       "      <td>5526.776355</td>\n",
       "      <td>3.709471</td>\n",
       "    </tr>\n",
       "    <tr>\n",
       "      <th>11278</th>\n",
       "      <td>4891</td>\n",
       "      <td>HIP75829</td>\n",
       "      <td>5460.480380</td>\n",
       "      <td>5461.811490</td>\n",
       "      <td>1.211339</td>\n",
       "      <td>5460.480380</td>\n",
       "      <td>5461.811490</td>\n",
       "      <td>1.290502</td>\n",
       "    </tr>\n",
       "    <tr>\n",
       "      <th>11279</th>\n",
       "      <td>5204</td>\n",
       "      <td>HIP76219</td>\n",
       "      <td>5590.600708</td>\n",
       "      <td>5593.289148</td>\n",
       "      <td>5.646371</td>\n",
       "      <td>5590.600708</td>\n",
       "      <td>5593.289148</td>\n",
       "      <td>5.479983</td>\n",
       "    </tr>\n",
       "    <tr>\n",
       "      <th>11280</th>\n",
       "      <td>5203</td>\n",
       "      <td>HIP76219</td>\n",
       "      <td>5524.098144</td>\n",
       "      <td>5526.754604</td>\n",
       "      <td>3.687597</td>\n",
       "      <td>5524.098144</td>\n",
       "      <td>5526.754604</td>\n",
       "      <td>3.686579</td>\n",
       "    </tr>\n",
       "    <tr>\n",
       "      <th>11281</th>\n",
       "      <td>5202</td>\n",
       "      <td>HIP76219</td>\n",
       "      <td>5459.183288</td>\n",
       "      <td>5461.808531</td>\n",
       "      <td>1.365119</td>\n",
       "      <td>5459.183288</td>\n",
       "      <td>5461.808531</td>\n",
       "      <td>1.346072</td>\n",
       "    </tr>\n",
       "  </tbody>\n",
       "</table>\n",
       "<p>878 rows × 8 columns</p>\n",
       "</div>"
      ],
      "text/plain": [
       "       Unnamed: 0      star  s shifted wl  s unshifted wl  s heights  \\\n",
       "235           576     GJ144   5620.392622     5622.219559   1.427364   \n",
       "497          1495    GJ702B   5554.289637     5555.361482   1.990619   \n",
       "498          1494    GJ702B   5489.019995     5490.079244   1.377499   \n",
       "499          1496    GJ702B   5621.155666     5622.240414   2.853890   \n",
       "500          1622     GJ768   5490.063315     5490.081899   1.448781   \n",
       "...           ...       ...           ...             ...        ...   \n",
       "11277        4892  HIP75829   5525.429412     5526.776355   3.782340   \n",
       "11278        4891  HIP75829   5460.480380     5461.811490   1.211339   \n",
       "11279        5204  HIP76219   5590.600708     5593.289148   5.646371   \n",
       "11280        5203  HIP76219   5524.098144     5526.754604   3.687597   \n",
       "11281        5202  HIP76219   5459.183288     5461.808531   1.365119   \n",
       "\n",
       "       r shifted wl  r unshifted wl  r heights  \n",
       "235     5620.392622     5622.219559   1.428376  \n",
       "497     5554.289637     5555.361482   1.991948  \n",
       "498     5489.019995     5490.079244   1.432449  \n",
       "499     5621.155666     5622.240414   2.832923  \n",
       "500     5490.063315     5490.081899   1.450853  \n",
       "...             ...             ...        ...  \n",
       "11277   5525.429412     5526.776355   3.709471  \n",
       "11278   5460.480380     5461.811490   1.290502  \n",
       "11279   5590.600708     5593.289148   5.479983  \n",
       "11280   5524.098144     5526.754604   3.686579  \n",
       "11281   5459.183288     5461.808531   1.346072  \n",
       "\n",
       "[878 rows x 8 columns]"
      ]
     },
     "execution_count": 120,
     "metadata": {},
     "output_type": "execute_result"
    }
   ],
   "source": [
    "# look at the stars that have detections at the locations anna injected in\n",
    "\n",
    "# first get the stars that have both spectra and residuals\n",
    "sub = results_table.dropna(subset=['s shifted wl', 'r shifted wl'])\n",
    "\n",
    "# find the stars that have detections at the wavelengths anna injected into\n",
    "has_injections = sub[np.round(sub['s unshifted wl']).isin(rounded_wavelength_vals)]\n",
    "\n",
    "counts = pd.DataFrame(has_injections.star.value_counts()).rename(columns = {'star':'count'})\n",
    "stars_with_three_recoveries = counts[counts['count'].isin(np.array([3, 4]))].index\n",
    "stars_with_two_recoveries = counts[counts['count'] == 2].index\n",
    "stars_with_one_recovery = counts[counts['count'] == 1].index\n",
    "\n",
    "has_injections"
   ]
  },
  {
   "cell_type": "code",
   "execution_count": 126,
   "metadata": {},
   "outputs": [
    {
     "data": {
      "text/plain": [
       "6"
      ]
     },
     "execution_count": 126,
     "metadata": {},
     "output_type": "execute_result"
    }
   ],
   "source": [
    "# number of stars with all 3 recoveries, only 2, or only 1\n",
    "\n",
    "len(stars_with_three_recoveries)\n",
    "len(stars_with_two_recoveries)\n",
    "len(stars_with_one_recovery)"
   ]
  },
  {
   "cell_type": "code",
   "execution_count": 118,
   "metadata": {},
   "outputs": [
    {
     "data": {
      "text/plain": [
       "314"
      ]
     },
     "execution_count": 118,
     "metadata": {},
     "output_type": "execute_result"
    }
   ],
   "source": [
    "stars_with_detections = list(counts.index)\n",
    "len(stars_with_detections)"
   ]
  },
  {
   "cell_type": "code",
   "execution_count": 119,
   "metadata": {},
   "outputs": [
    {
     "data": {
      "text/plain": [
       "317"
      ]
     },
     "execution_count": 119,
     "metadata": {},
     "output_type": "execute_result"
    }
   ],
   "source": [
    "stars_with_residuals = list(sub['star'].unique())\n",
    "len(stars_with_residuals)"
   ]
  },
  {
   "cell_type": "code",
   "execution_count": 112,
   "metadata": {},
   "outputs": [
    {
     "name": "stdout",
     "output_type": "stream",
     "text": [
      "HIP31703\n",
      "HIP40875\n",
      "HIP70952\n"
     ]
    }
   ],
   "source": [
    "# these are the stars that have residuals but have no \n",
    "# detections at the wavelengths anna injected them into\n",
    "\n",
    "for star in stars_with_residuals:\n",
    "    if not star in stars_with_detections:\n",
    "        print(star)"
   ]
  },
  {
   "cell_type": "code",
   "execution_count": null,
   "metadata": {},
   "outputs": [],
   "source": []
  },
  {
   "cell_type": "code",
   "execution_count": null,
   "metadata": {},
   "outputs": [],
   "source": []
  },
  {
   "cell_type": "code",
   "execution_count": null,
   "metadata": {},
   "outputs": [],
   "source": []
  },
  {
   "cell_type": "code",
   "execution_count": null,
   "metadata": {},
   "outputs": [],
   "source": []
  },
  {
   "cell_type": "code",
   "execution_count": null,
   "metadata": {},
   "outputs": [],
   "source": []
  },
  {
   "cell_type": "code",
   "execution_count": null,
   "metadata": {},
   "outputs": [],
   "source": []
  },
  {
   "cell_type": "code",
   "execution_count": null,
   "metadata": {},
   "outputs": [],
   "source": []
  },
  {
   "cell_type": "code",
   "execution_count": 37,
   "metadata": {},
   "outputs": [
    {
     "data": {
      "text/html": [
       "<div>\n",
       "<style scoped>\n",
       "    .dataframe tbody tr th:only-of-type {\n",
       "        vertical-align: middle;\n",
       "    }\n",
       "\n",
       "    .dataframe tbody tr th {\n",
       "        vertical-align: top;\n",
       "    }\n",
       "\n",
       "    .dataframe thead th {\n",
       "        text-align: right;\n",
       "    }\n",
       "</style>\n",
       "<table border=\"1\" class=\"dataframe\">\n",
       "  <thead>\n",
       "    <tr style=\"text-align: right;\">\n",
       "      <th></th>\n",
       "      <th>count</th>\n",
       "    </tr>\n",
       "  </thead>\n",
       "  <tbody>\n",
       "    <tr>\n",
       "      <th>HIP73695</th>\n",
       "      <td>3</td>\n",
       "    </tr>\n",
       "    <tr>\n",
       "      <th>HIP15411</th>\n",
       "      <td>3</td>\n",
       "    </tr>\n",
       "    <tr>\n",
       "      <th>HIP69989</th>\n",
       "      <td>3</td>\n",
       "    </tr>\n",
       "    <tr>\n",
       "      <th>HIP12777</th>\n",
       "      <td>3</td>\n",
       "    </tr>\n",
       "    <tr>\n",
       "      <th>GJ702B</th>\n",
       "      <td>3</td>\n",
       "    </tr>\n",
       "    <tr>\n",
       "      <th>...</th>\n",
       "      <td>...</td>\n",
       "    </tr>\n",
       "    <tr>\n",
       "      <th>HIP112935</th>\n",
       "      <td>3</td>\n",
       "    </tr>\n",
       "    <tr>\n",
       "      <th>HIP25278</th>\n",
       "      <td>3</td>\n",
       "    </tr>\n",
       "    <tr>\n",
       "      <th>HIP112915</th>\n",
       "      <td>3</td>\n",
       "    </tr>\n",
       "    <tr>\n",
       "      <th>HIP26366</th>\n",
       "      <td>3</td>\n",
       "    </tr>\n",
       "    <tr>\n",
       "      <th>HIP116771</th>\n",
       "      <td>3</td>\n",
       "    </tr>\n",
       "  </tbody>\n",
       "</table>\n",
       "<p>67 rows × 1 columns</p>\n",
       "</div>"
      ],
      "text/plain": [
       "           count\n",
       "HIP73695       3\n",
       "HIP15411       3\n",
       "HIP69989       3\n",
       "HIP12777       3\n",
       "GJ702B         3\n",
       "...          ...\n",
       "HIP112935      3\n",
       "HIP25278       3\n",
       "HIP112915      3\n",
       "HIP26366       3\n",
       "HIP116771      3\n",
       "\n",
       "[67 rows x 1 columns]"
      ]
     },
     "execution_count": 37,
     "metadata": {},
     "output_type": "execute_result"
    }
   ],
   "source": [
    "# number of detections each star received after going through my detection alg\n",
    "\n",
    "num_detections_table = pd.DataFrame(results_table.star.value_counts())\n",
    "num_detections_table.rename(columns={'star': 'count'}, inplace=True)\n",
    "\n",
    "# just look at the one with 3 total detections - assuming these should be anna's injections\n",
    "num_detections_table[num_detections_table['count'] == 3]"
   ]
  },
  {
   "cell_type": "code",
   "execution_count": null,
   "metadata": {},
   "outputs": [],
   "source": []
  },
  {
   "cell_type": "code",
   "execution_count": 5,
   "metadata": {},
   "outputs": [],
   "source": [
    "stars = []\n",
    "spectra_folder = '/mnt_home/azuckerman/BL_APF_DAP/APF_spectra/NDRS_testing_inj_0'\n",
    "s_list_of_files = []\n",
    "for name in glob.glob(spectra_folder + '/*'):\n",
    "    s_list_of_files += [name]\n",
    "    \n",
    "for index in np.arange(0, len(s_list_of_files) - 1):\n",
    "    star = fits.open(s_list_of_files[index])[0].header['TOBJECT']\n",
    "    stars += [star]"
   ]
  },
  {
   "cell_type": "code",
   "execution_count": 30,
   "metadata": {},
   "outputs": [],
   "source": [
    "def to_float(x):\n",
    "    # helpfer function to convert all NaN values in an array to 0\n",
    "    try:\n",
    "        int(x)\n",
    "        return float(x)\n",
    "    except ValueError:\n",
    "        return 0\n",
    "\n",
    "def close_enough(value, list_values, error_range):\n",
    "    # given a value and a list of values, find the closes value in the list to that value\n",
    "    # and return it if the difference between the two values is less than the error_range\n",
    "    # also return the index corresponding to this value\n",
    "    \n",
    "    array = np.asarray(list_values)\n",
    "    array = np.array([to_float(x) for x in array])\n",
    "    if len(array) == 0:\n",
    "        return\n",
    "    idx = (np.abs(array - value)).argmin()\n",
    "    closest_value = array[idx]\n",
    "    \n",
    "    difference = abs(closest_value - value)\n",
    "    if difference <= error_range:\n",
    "        return closest_value, idx"
   ]
  },
  {
   "cell_type": "code",
   "execution_count": 31,
   "metadata": {},
   "outputs": [],
   "source": [
    "# injections_table"
   ]
  },
  {
   "cell_type": "code",
   "execution_count": 32,
   "metadata": {},
   "outputs": [],
   "source": [
    "all_s_wls = []\n",
    "all_s_heights = []\n",
    "all_r_wls = []\n",
    "all_r_heights = []\n",
    "\n",
    "error_range = 1\n",
    "\n",
    "# injections_table = injections_table.reset_index()\n",
    "for index, row in injections_table.iterrows():\n",
    "    star_name = row['Star_name']\n",
    "    injection_wl = row['Injection_wavelength']\n",
    "    sub_table = results_table[results_table['star'] == star_name]\n",
    "    \n",
    "    s_wls = sub_table['s unshifted wl']\n",
    "    s_heights = sub_table['s heights']\n",
    "\n",
    "    r_wls = sub_table['r unshifted wl']\n",
    "    r_heights = sub_table['r heights']\n",
    "    \n",
    "    s_wl = 0\n",
    "    r_wl = 0\n",
    "    s_height = 0\n",
    "    r_height = 0\n",
    "\n",
    "    if close_enough(injection_wl, s_wls, error_range):\n",
    "        s_wl, index = close_enough(injection_wl, s_wls, error_range)\n",
    "        s_height = list(s_heights)[index]\n",
    "\n",
    "    if close_enough(injection_wl, r_wls, error_range):\n",
    "        r_wl, index = close_enough(injection_wl, r_wls, error_range)\n",
    "        r_height = list(r_heights)[index]\n",
    "        \n",
    "    all_s_wls += [s_wl]\n",
    "    all_s_heights += [s_height]\n",
    "    all_r_wls += [r_wl]\n",
    "    all_r_heights += [r_height]"
   ]
  },
  {
   "cell_type": "code",
   "execution_count": 33,
   "metadata": {},
   "outputs": [],
   "source": [
    "# all_s_wls = []\n",
    "# all_s_heights = []\n",
    "# all_r_wls = []\n",
    "# all_r_heights = []\n",
    "\n",
    "# error_range = 1\n",
    "\n",
    "# # injections_table = injections_table.reset_index()\n",
    "# index = 245\n",
    "# row = injections_table.iloc[245]\n",
    "\n",
    "# star_name = row['Star_name']\n",
    "# injection_wl = row['Injection_wavelength']\n",
    "# sub_table = results_table[results_table['star'] == star_name]\n",
    "\n",
    "# s_wls = sub_table['s unshifted wl']\n",
    "# s_heights = sub_table['s heights']\n",
    "\n",
    "# r_wls = sub_table['r unshifted wl']\n",
    "# r_heights = sub_table['r heights']\n",
    "\n",
    "# s_wl = 0\n",
    "# r_wl = 0\n",
    "# s_height = 0\n",
    "# r_height = 0\n",
    "\n",
    "# if close_enough(injection_wl, s_wls, error_range):\n",
    "#     s_wl, index = close_enough(injection_wl, s_wls, error_range)\n",
    "#     s_height = list(s_heights)[index]\n",
    "\n",
    "# if close_enough(injection_wl, r_wls, error_range):\n",
    "#     r_wl, index = close_enough(injection_wl, r_wls, error_range)\n",
    "#     r_height = list(r_heights)[index]\n",
    "\n",
    "# all_s_wls += [s_wl]\n",
    "# all_s_heights += [s_height]\n",
    "# all_r_wls += [r_wl]\n",
    "# all_r_heights += [r_height]"
   ]
  },
  {
   "cell_type": "code",
   "execution_count": 34,
   "metadata": {},
   "outputs": [],
   "source": [
    "injections_table['Detected_spectrum_wavelength'] = all_s_wls\n",
    "injections_table['Detected_spectrum_height'] = all_s_heights\n",
    "\n",
    "injections_table['Detected_residual_wavelength'] = all_r_wls\n",
    "injections_table['Detected_residual_height'] = all_r_heights"
   ]
  },
  {
   "cell_type": "code",
   "execution_count": 35,
   "metadata": {},
   "outputs": [],
   "source": [
    "missing_stars = injections_table.groupby('Star_name').sum()\n",
    "missing_stars = missing_stars[missing_stars['Detected_spectrum_wavelength'] == 0]\n",
    "missing_stars = list(set(list(missing_stars.index)))\n",
    "\n",
    "new_missing_stars = []\n",
    "for star in missing_stars:\n",
    "    if star in stars:\n",
    "        new_missing_stars += [star]"
   ]
  },
  {
   "cell_type": "code",
   "execution_count": 36,
   "metadata": {},
   "outputs": [],
   "source": [
    "SNR_table = pd.read_csv('/mnt_home/zoek/code/APF-BL-DAP/Zoe/specmatch_results.csv')"
   ]
  },
  {
   "cell_type": "code",
   "execution_count": 37,
   "metadata": {},
   "outputs": [],
   "source": [
    "SNR_missing_stars = []\n",
    "for star in new_missing_stars:\n",
    "    SNR = SNR_table[SNR_table['name'] == star]['SNR']\n",
    "    if len(list(SNR)) == 0:\n",
    "        SNR = np.array([0])\n",
    "#     print(list(SNR))\n",
    "    SNR_missing_stars += list(SNR)"
   ]
  },
  {
   "cell_type": "code",
   "execution_count": 38,
   "metadata": {},
   "outputs": [
    {
     "data": {
      "image/png": "[encoded data removed]",
      "text/plain": [
       "<Figure size 640x480 with 1 Axes>"
      ]
     },
     "metadata": {},
     "output_type": "display_data"
    }
   ],
   "source": [
    "test = pd.DataFrame({'star': new_missing_stars, 'SNR': SNR_missing_stars})\n",
    "plt.hist(test['SNR'])\n",
    "plt.xlabel('SNR')\n",
    "plt.ylabel('Count')\n",
    "plt.title('Distribution of SNR across Stars with Unrecovered Injections')\n",
    "plt.show()"
   ]
  },
  {
   "cell_type": "code",
   "execution_count": 39,
   "metadata": {},
   "outputs": [],
   "source": [
    "stars = list(test[test['SNR'] > 50]['star'])\n",
    "velshifts = pd.read_csv('/mnt_home/zoek/code/APF-BL-DAP/Zoe/RestWavelengths/velshifts.csv')"
   ]
  },
  {
   "cell_type": "code",
   "execution_count": 40,
   "metadata": {},
   "outputs": [
    {
     "data": {
      "text/html": [
       "<div>\n",
       "<style scoped>\n",
       "    .dataframe tbody tr th:only-of-type {\n",
       "        vertical-align: middle;\n",
       "    }\n",
       "\n",
       "    .dataframe tbody tr th {\n",
       "        vertical-align: top;\n",
       "    }\n",
       "\n",
       "    .dataframe thead th {\n",
       "        text-align: right;\n",
       "    }\n",
       "</style>\n",
       "<table border=\"1\" class=\"dataframe\">\n",
       "  <thead>\n",
       "    <tr style=\"text-align: right;\">\n",
       "      <th></th>\n",
       "      <th>Star_name</th>\n",
       "      <th>Injected_peak_photons</th>\n",
       "      <th>Local_median_photons</th>\n",
       "      <th>Detected_spectrum_wavelength</th>\n",
       "      <th>Detected_spectrum_height</th>\n",
       "      <th>Detected_residual_wavelength</th>\n",
       "      <th>Detected_residual_height</th>\n",
       "    </tr>\n",
       "    <tr>\n",
       "      <th>Injection_wavelength</th>\n",
       "      <th></th>\n",
       "      <th></th>\n",
       "      <th></th>\n",
       "      <th></th>\n",
       "      <th></th>\n",
       "      <th></th>\n",
       "      <th></th>\n",
       "    </tr>\n",
       "  </thead>\n",
       "  <tbody>\n",
       "    <tr>\n",
       "      <th>5461.813825</th>\n",
       "      <td>300</td>\n",
       "      <td>300</td>\n",
       "      <td>300</td>\n",
       "      <td>300</td>\n",
       "      <td>300</td>\n",
       "      <td>300</td>\n",
       "      <td>300</td>\n",
       "    </tr>\n",
       "    <tr>\n",
       "      <th>5490.074136</th>\n",
       "      <td>300</td>\n",
       "      <td>300</td>\n",
       "      <td>300</td>\n",
       "      <td>300</td>\n",
       "      <td>300</td>\n",
       "      <td>300</td>\n",
       "      <td>300</td>\n",
       "    </tr>\n",
       "    <tr>\n",
       "      <th>5526.772620</th>\n",
       "      <td>300</td>\n",
       "      <td>300</td>\n",
       "      <td>300</td>\n",
       "      <td>300</td>\n",
       "      <td>300</td>\n",
       "      <td>300</td>\n",
       "      <td>300</td>\n",
       "    </tr>\n",
       "    <tr>\n",
       "      <th>5555.365277</th>\n",
       "      <td>300</td>\n",
       "      <td>300</td>\n",
       "      <td>300</td>\n",
       "      <td>300</td>\n",
       "      <td>300</td>\n",
       "      <td>300</td>\n",
       "      <td>300</td>\n",
       "    </tr>\n",
       "    <tr>\n",
       "      <th>5593.298647</th>\n",
       "      <td>300</td>\n",
       "      <td>300</td>\n",
       "      <td>300</td>\n",
       "      <td>300</td>\n",
       "      <td>300</td>\n",
       "      <td>300</td>\n",
       "      <td>300</td>\n",
       "    </tr>\n",
       "    <tr>\n",
       "      <th>5622.229265</th>\n",
       "      <td>300</td>\n",
       "      <td>300</td>\n",
       "      <td>300</td>\n",
       "      <td>300</td>\n",
       "      <td>300</td>\n",
       "      <td>300</td>\n",
       "      <td>300</td>\n",
       "    </tr>\n",
       "  </tbody>\n",
       "</table>\n",
       "</div>"
      ],
      "text/plain": [
       "                      Star_name  Injected_peak_photons  Local_median_photons  \\\n",
       "Injection_wavelength                                                           \n",
       "5461.813825                 300                    300                   300   \n",
       "5490.074136                 300                    300                   300   \n",
       "5526.772620                 300                    300                   300   \n",
       "5555.365277                 300                    300                   300   \n",
       "5593.298647                 300                    300                   300   \n",
       "5622.229265                 300                    300                   300   \n",
       "\n",
       "                      Detected_spectrum_wavelength  Detected_spectrum_height  \\\n",
       "Injection_wavelength                                                           \n",
       "5461.813825                                    300                       300   \n",
       "5490.074136                                    300                       300   \n",
       "5526.772620                                    300                       300   \n",
       "5555.365277                                    300                       300   \n",
       "5593.298647                                    300                       300   \n",
       "5622.229265                                    300                       300   \n",
       "\n",
       "                      Detected_residual_wavelength  Detected_residual_height  \n",
       "Injection_wavelength                                                          \n",
       "5461.813825                                    300                       300  \n",
       "5490.074136                                    300                       300  \n",
       "5526.772620                                    300                       300  \n",
       "5555.365277                                    300                       300  \n",
       "5593.298647                                    300                       300  \n",
       "5622.229265                                    300                       300  "
      ]
     },
     "execution_count": 40,
     "metadata": {},
     "output_type": "execute_result"
    }
   ],
   "source": [
    "injections_table.groupby('Injection_wavelength').count()"
   ]
  },
  {
   "cell_type": "code",
   "execution_count": 53,
   "metadata": {},
   "outputs": [
    {
     "data": {
      "text/plain": [
       "97"
      ]
     },
     "execution_count": 53,
     "metadata": {},
     "output_type": "execute_result"
    }
   ],
   "source": [
    "len(stars)"
   ]
  },
  {
   "cell_type": "code",
   "execution_count": 428,
   "metadata": {},
   "outputs": [],
   "source": [
    "test_vals = velshifts.loc[velshifts['Star name'].isin(stars)]['Velocity_shift [km/s]']"
   ]
  },
  {
   "cell_type": "code",
   "execution_count": 433,
   "metadata": {},
   "outputs": [
    {
     "data": {
      "text/plain": [
       "70      69.511285\n",
       "88      54.797218\n",
       "110     80.166300\n",
       "232    135.470899\n",
       "290     58.348889\n",
       "441    109.087054\n",
       "493     79.658918\n",
       "515      3.044290\n",
       "557     10.655015\n",
       "567    117.712542\n",
       "598     93.865605\n",
       "642      1.014763\n",
       "Name: Velocity_shift [km/s], dtype: float64"
      ]
     },
     "execution_count": 433,
     "metadata": {},
     "output_type": "execute_result"
    }
   ],
   "source": [
    "plt.hist(test_vals)\n",
    "test_vals"
   ]
  },
  {
   "cell_type": "code",
   "execution_count": 399,
   "metadata": {},
   "outputs": [
    {
     "data": {
      "text/html": [
       "<div>\n",
       "<style scoped>\n",
       "    .dataframe tbody tr th:only-of-type {\n",
       "        vertical-align: middle;\n",
       "    }\n",
       "\n",
       "    .dataframe tbody tr th {\n",
       "        vertical-align: top;\n",
       "    }\n",
       "\n",
       "    .dataframe thead th {\n",
       "        text-align: right;\n",
       "    }\n",
       "</style>\n",
       "<table border=\"1\" class=\"dataframe\">\n",
       "  <thead>\n",
       "    <tr style=\"text-align: right;\">\n",
       "      <th></th>\n",
       "      <th>Star_name</th>\n",
       "      <th>Injection_wavelength</th>\n",
       "      <th>Injected_peak_photons</th>\n",
       "      <th>Local_median_photons</th>\n",
       "      <th>Detected_spectrum_wavelength</th>\n",
       "      <th>Detected_spectrum_height</th>\n",
       "      <th>Detected_residual_wavelength</th>\n",
       "      <th>Detected_residual_height</th>\n",
       "    </tr>\n",
       "  </thead>\n",
       "  <tbody>\n",
       "    <tr>\n",
       "      <th>243</th>\n",
       "      <td>HIP108036</td>\n",
       "      <td>5490.074136</td>\n",
       "      <td>186672.309609</td>\n",
       "      <td>117469.910156</td>\n",
       "      <td>0.0</td>\n",
       "      <td>0.0</td>\n",
       "      <td>0.0</td>\n",
       "      <td>0.0</td>\n",
       "    </tr>\n",
       "    <tr>\n",
       "      <th>244</th>\n",
       "      <td>HIP108036</td>\n",
       "      <td>5555.365277</td>\n",
       "      <td>251368.792031</td>\n",
       "      <td>121134.113281</td>\n",
       "      <td>0.0</td>\n",
       "      <td>0.0</td>\n",
       "      <td>0.0</td>\n",
       "      <td>0.0</td>\n",
       "    </tr>\n",
       "    <tr>\n",
       "      <th>245</th>\n",
       "      <td>HIP108036</td>\n",
       "      <td>5622.229265</td>\n",
       "      <td>378343.707891</td>\n",
       "      <td>122981.738281</td>\n",
       "      <td>0.0</td>\n",
       "      <td>0.0</td>\n",
       "      <td>0.0</td>\n",
       "      <td>0.0</td>\n",
       "    </tr>\n",
       "  </tbody>\n",
       "</table>\n",
       "</div>"
      ],
      "text/plain": [
       "     Star_name  Injection_wavelength  Injected_peak_photons  \\\n",
       "243  HIP108036           5490.074136          186672.309609   \n",
       "244  HIP108036           5555.365277          251368.792031   \n",
       "245  HIP108036           5622.229265          378343.707891   \n",
       "\n",
       "     Local_median_photons  Detected_spectrum_wavelength  \\\n",
       "243         117469.910156                           0.0   \n",
       "244         121134.113281                           0.0   \n",
       "245         122981.738281                           0.0   \n",
       "\n",
       "     Detected_spectrum_height  Detected_residual_wavelength  \\\n",
       "243                       0.0                           0.0   \n",
       "244                       0.0                           0.0   \n",
       "245                       0.0                           0.0   \n",
       "\n",
       "     Detected_residual_height  \n",
       "243                       0.0  \n",
       "244                       0.0  \n",
       "245                       0.0  "
      ]
     },
     "execution_count": 399,
     "metadata": {},
     "output_type": "execute_result"
    }
   ],
   "source": [
    "injections_table[injections_table['Star_name'] == 'HIP108036']"
   ]
  },
  {
   "cell_type": "code",
   "execution_count": 400,
   "metadata": {},
   "outputs": [
    {
     "data": {
      "text/plain": [
       "905"
      ]
     },
     "execution_count": 400,
     "metadata": {},
     "output_type": "execute_result"
    }
   ],
   "source": [
    "sum(injections_table['Detected_residual_wavelength'] != 0)"
   ]
  },
  {
   "cell_type": "markdown",
   "metadata": {},
   "source": [
    "# Plotting"
   ]
  },
  {
   "cell_type": "code",
   "execution_count": 401,
   "metadata": {},
   "outputs": [],
   "source": [
    "list1 = []\n",
    "spectra_folder = '/mnt_home/azuckerman/BL_APF_DAP/APF_spectra/NDRS_testing_inj_0'\n",
    "s_list_of_files = []\n",
    "for name in glob.glob(spectra_folder + '/*'):\n",
    "    s_list_of_files += [name]\n",
    "    \n",
    "random_indicies = random.sample(range(0, len(s_list_of_files) - 1), 10)\n",
    "\n",
    "for index in np.arange(0, len(s_list_of_files) - 1):\n",
    "    star = fits.open(s_list_of_files[index])[0].header['TOBJECT']\n",
    "#     if star in star_names:\n",
    "    if True:\n",
    "        \n",
    "        list1 += [star]\n",
    "        \n",
    "#         fl = fits.open(s_list_of_files[index])[0].data\n",
    "#         wl = fits.open(s_list_of_files[index])[1].data\n",
    "#         plt.plot(wl, fl)\n",
    "#         plt.xlabel('Wavelength')\n",
    "#         plt.ylabel('Flux')\n",
    "#         plt.title(star)\n",
    "#         plt.show()"
   ]
  },
  {
   "cell_type": "code",
   "execution_count": 72,
   "metadata": {},
   "outputs": [],
   "source": [
    "list2 = []\n",
    "\n",
    "residuals_folder = '/mnt_home/azuckerman/BL_APF_DAP/APF_spectra/NDRR_testing_inj_0'\n",
    "r_list_of_files = []\n",
    "for name in glob.glob(residuals_folder + '/*'):\n",
    "    r_list_of_files += [name]\n",
    "    \n",
    "random_indicies = random.sample(range(0, len(r_list_of_files) - 1), 10)\n",
    "\n",
    "for index in np.arange(0, len(r_list_of_files) - 1):\n",
    "    star = fits.open(r_list_of_files[index])[0].header['TOBJECT']\n",
    "#     if star in star_names:\n",
    "    if True:\n",
    "        \n",
    "        list2 += [star]\n",
    "        \n",
    "#         fl = fits.open(r_list_of_files[index])[1].data\n",
    "#         wl = fits.open(r_list_of_files[index])[2].data\n",
    "#         plt.plot(wl, fl)\n",
    "#         plt.xlabel('Wavelength')\n",
    "#         plt.ylabel('Flux')\n",
    "#         plt.title(star)\n",
    "#         plt.show()"
   ]
  },
  {
   "cell_type": "code",
   "execution_count": 326,
   "metadata": {},
   "outputs": [
    {
     "data": {
      "text/plain": [
       "500"
      ]
     },
     "execution_count": 326,
     "metadata": {},
     "output_type": "execute_result"
    }
   ],
   "source": [
    "len(list2)"
   ]
  },
  {
   "cell_type": "code",
   "execution_count": 42,
   "metadata": {},
   "outputs": [],
   "source": [
    "list3 = []\n",
    "\n",
    "spectra_folder = '/mnt_home/azuckerman/BL_APF_DAP/APF_spectra/NDRS_all_apf'\n",
    "s_list_of_files = []\n",
    "for name in glob.glob(spectra_folder + '/*'):\n",
    "    s_list_of_files += [name]\n",
    "    \n",
    "random_indicies = random.sample(range(0, len(s_list_of_files) - 1), 10)\n",
    "\n",
    "for index in np.arange(0, len(s_list_of_files) - 1):\n",
    "    star = fits.open(s_list_of_files[index])[0].header['TOBJECT']\n",
    "    if star in star_names:\n",
    "        \n",
    "        list3 += [star]\n",
    "        \n",
    "        fl = fits.open(s_list_of_files[index])[0].data\n",
    "        wl = fits.open(s_list_of_files[index])[1].data\n",
    "        plt.plot(wl, fl)\n",
    "        plt.xlabel('Wavelength')\n",
    "        plt.ylabel('Flux')\n",
    "        plt.title(star)\n",
    "#         plt.show()"
   ]
  },
  {
   "cell_type": "code",
   "execution_count": 49,
   "metadata": {},
   "outputs": [],
   "source": [
    "list4 = []\n",
    "\n",
    "residuals_folder = '/mnt_home/azuckerman/BL_APF_DAP/APF_spectra/NDRR_all_apf'\n",
    "r_list_of_files = []\n",
    "for name in glob.glob(residuals_folder + '/*'):\n",
    "    r_list_of_files += [name]\n",
    "    \n",
    "random_indicies = random.sample(range(0, len(r_list_of_files) - 1), 10)\n",
    "\n",
    "for index in np.arange(0, len(r_list_of_files)):\n",
    "    star = fits.open(r_list_of_files[index])[0].header['TOBJECT']\n",
    "    if star in star_names:\n",
    "        \n",
    "        list4 += [star]\n",
    "        \n",
    "        fl = fits.open(r_list_of_files[index])[1].data\n",
    "        wl = fits.open(r_list_of_files[index])[2].data\n",
    "        plt.plot(wl, fl)\n",
    "        plt.xlabel('Wavelength')\n",
    "        plt.ylabel('Flux')\n",
    "        plt.title(star)\n",
    "#         plt.show()"
   ]
  },
  {
   "cell_type": "code",
   "execution_count": 51,
   "metadata": {},
   "outputs": [],
   "source": [
    "list5 = []\n",
    "for star in list1:\n",
    "    if star in list2 and star in list3 and star in list4:\n",
    "        list5 += [star]"
   ]
  },
  {
   "cell_type": "code",
   "execution_count": 81,
   "metadata": {},
   "outputs": [
    {
     "data": {
      "image/png": "[encoded data removed]",
      "text/plain": [
       "<Figure size 640x480 with 1 Axes>"
      ]
     },
     "metadata": {},
     "output_type": "display_data"
    }
   ],
   "source": [
    "spectra_folder = '/mnt_home/azuckerman/BL_APF_DAP/APF_spectra/NDRS_testing_inj_0'\n",
    "s_list_of_files = []\n",
    "for name in glob.glob(spectra_folder + '/*'):\n",
    "    s_list_of_files += [name]\n",
    "    \n",
    "for index in np.arange(0, len(s_list_of_files) - 1):\n",
    "    star = fits.open(s_list_of_files[index])[0].header['TOBJECT']\n",
    "    if star == 'TIC286132427':    \n",
    "        fl = fits.open(s_list_of_files[index])[0].data\n",
    "        wl = fits.open(s_list_of_files[index])[1].data\n",
    "        plt.plot(wl, fl)\n",
    "        plt.xlabel('Wavelength')\n",
    "        plt.ylabel('Flux')\n",
    "        plt.title(star)\n",
    "        plt.show()"
   ]
  },
  {
   "cell_type": "code",
   "execution_count": 82,
   "metadata": {},
   "outputs": [
    {
     "data": {
      "image/png": "[encoded data removed]",
      "text/plain": [
       "<Figure size 640x480 with 1 Axes>"
      ]
     },
     "metadata": {},
     "output_type": "display_data"
    }
   ],
   "source": [
    "residuals_folder = '/mnt_home/azuckerman/BL_APF_DAP/APF_spectra/NDRR_testing_inj_0'\n",
    "r_list_of_files = []\n",
    "for name in glob.glob(residuals_folder + '/*'):\n",
    "    r_list_of_files += [name]\n",
    "    \n",
    "for index in np.arange(0, len(r_list_of_files) - 1):\n",
    "    star = fits.open(r_list_of_files[index])[0].header['TOBJECT']\n",
    "    if star == 'TIC286132427':\n",
    "        fl = fits.open(r_list_of_files[index])[1].data\n",
    "        wl = fits.open(r_list_of_files[index])[2].data\n",
    "        plt.plot(wl, fl)\n",
    "        plt.xlabel('Wavelength')\n",
    "        plt.ylabel('Flux')\n",
    "        plt.title(star)\n",
    "        plt.show()"
   ]
  },
  {
   "cell_type": "code",
   "execution_count": 375,
   "metadata": {},
   "outputs": [
    {
     "data": {
      "image/png": "[encoded data removed]",
      "text/plain": [
       "<Figure size 640x480 with 1 Axes>"
      ]
     },
     "metadata": {},
     "output_type": "display_data"
    }
   ],
   "source": [
    "spectra_folder = '/mnt_home/azuckerman/BL_APF_DAP/APF_spectra/NDRS_all_apf'\n",
    "s_list_of_files = []\n",
    "for name in glob.glob(spectra_folder + '/*'):\n",
    "    s_list_of_files += [name]\n",
    "    \n",
    "for index in np.arange(0, len(s_list_of_files) - 1):\n",
    "    star = fits.open(s_list_of_files[index])[0].header['TOBJECT']\n",
    "    if star == 'HIP71181':\n",
    "        fl = fits.open(s_list_of_files[index])[0].data\n",
    "        wl = fits.open(s_list_of_files[index])[1].data\n",
    "        plt.plot(wl, fl)\n",
    "        plt.xlabel('Wavelength')\n",
    "        plt.ylabel('Flux')\n",
    "        plt.title(star)\n",
    "        plt.show()"
   ]
  },
  {
   "cell_type": "code",
   "execution_count": 379,
   "metadata": {},
   "outputs": [
    {
     "data": {
      "image/png": "[encoded data removed]",
      "text/plain": [
       "<Figure size 640x480 with 1 Axes>"
      ]
     },
     "metadata": {},
     "output_type": "display_data"
    },
    {
     "name": "stdout",
     "output_type": "stream",
     "text": [
      "0.01696052432362194\n"
     ]
    }
   ],
   "source": [
    "plt.scatter(wl[1], fl[1])\n",
    "plt.xlabel('Wavelength')\n",
    "plt.ylabel('Flux')\n",
    "plt.title(star)\n",
    "plt.show()\n",
    "\n",
    "print(wl[2]-wl[1])"
   ]
  },
  {
   "cell_type": "code",
   "execution_count": null,
   "metadata": {},
   "outputs": [],
   "source": []
  },
  {
   "cell_type": "code",
   "execution_count": 374,
   "metadata": {},
   "outputs": [
    {
     "data": {
      "image/png": "[encoded data removed]",
      "text/plain": [
       "<Figure size 640x480 with 1 Axes>"
      ]
     },
     "metadata": {},
     "output_type": "display_data"
    }
   ],
   "source": [
    "residuals_folder = '/mnt_home/azuckerman/BL_APF_DAP/APF_spectra/NDRR_all_apf'\n",
    "r_list_of_files = []\n",
    "for name in glob.glob(residuals_folder + '/*'):\n",
    "    r_list_of_files += [name]\n",
    "    \n",
    "random_indicies = random.sample(range(0, len(r_list_of_files) - 1), 10)\n",
    "\n",
    "for index in np.arange(0, len(r_list_of_files)):\n",
    "    star = fits.open(r_list_of_files[index])[0].header['TOBJECT']\n",
    "    if star == 'HIP71181':\n",
    "        fl = fits.open(r_list_of_files[index])[1].data\n",
    "        wl = fits.open(r_list_of_files[index])[2].data\n",
    "        plt.plot(wl, fl)\n",
    "        plt.xlabel('Wavelength')\n",
    "        plt.ylabel('Flux')\n",
    "        plt.title(star)\n",
    "        plt.show()"
   ]
  },
  {
   "cell_type": "code",
   "execution_count": null,
   "metadata": {},
   "outputs": [],
   "source": []
  }
 ],
 "metadata": {
  "kernelspec": {
   "display_name": "Python 3",
   "language": "python",
   "name": "python3"
  },
  "language_info": {
   "codemirror_mode": {
    "name": "ipython",
    "version": 3
   },
   "file_extension": ".py",
   "mimetype": "text/x-python",
   "name": "python",
   "nbconvert_exporter": "python",
   "pygments_lexer": "ipython3",
   "version": "3.7.6"
  }
 },
 "nbformat": 4,
 "nbformat_minor": 4
}
