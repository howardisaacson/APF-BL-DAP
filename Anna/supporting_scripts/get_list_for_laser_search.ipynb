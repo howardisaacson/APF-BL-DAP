{
 "cells": [
  {
   "cell_type": "code",
   "execution_count": null,
   "metadata": {},
   "outputs": [],
   "source": [
    "# get which star's residuals to search\n",
    "# omit stars with iodine, SB's, stars that isoclassify failed (?), stars outside library bounds, and galaxies,\n",
    "# and stars with large chi sqare to best match"
   ]
  },
  {
   "cell_type": "code",
   "execution_count": 3,
   "metadata": {},
   "outputs": [],
   "source": [
    "import pandas as pd\n",
    "import numpy as np\n",
    "import os\n",
    "import datetime"
   ]
  },
  {
   "cell_type": "code",
   "execution_count": 122,
   "metadata": {},
   "outputs": [],
   "source": [
    "apf_log_file =  pd.read_csv('/mnt_home/azuckerman/BL_APF_DAP/apf_log_full_16Nov2021.csv')\n",
    "all_apf_results = pd.read_csv('SM_stellar_properties/all_apf/11Jan2022/specmatch_results_11Jan2022.csv')\n",
    "all_obs_results = pd.read_csv('SM_stellar_properties/all_obs/8Apr2022/specmatch_results_all_obs_8Apr2022.csv')\n",
    "all_ind_results = pd.read_csv('SM_stellar_properties/ind/8Apr2022/specmatch_results_ind_8Apr2022.csv')\n",
    "#apf_data = pd.read_csv('/mnt_home/azuckerman/BL_APF_DAP/SM_stellar_properties/all_obs/8Apr2022/specmatch_results_all_obs_8Apr2022.csv') \n",
    "#apf_data = pd.read_csv('/mnt_home/azuckerman/BL_APF_DAP/SM_stellar_properties/ind/8Apr2022/specmatch_results_ind_8Apr2022.csv') "
   ]
  },
  {
   "cell_type": "code",
   "execution_count": 137,
   "metadata": {},
   "outputs": [],
   "source": [
    "# chi sqaure threshold\n",
    "chi_sq_threshold = 15"
   ]
  },
  {
   "cell_type": "code",
   "execution_count": 130,
   "metadata": {},
   "outputs": [
    {
     "name": "stdout",
     "output_type": "stream",
     "text": [
      "total initial targets: 902\n",
      "total used: 423\n",
      "Fail reasons:\n",
      "   iodine:      23\n",
      "   binary:      97\n",
      "   non-stellar: 3\n",
      "   failed_sm:   7\n",
      "   Teff bounds: 164\n",
      "   R bounds:    111\n",
      "   bad match:   74\n"
     ]
    }
   ],
   "source": [
    "# FOR ALL_APF (highest SNR) RUN\n",
    "apf_data = all_apf_results\n",
    "names = apf_data['Simbad_resolvable_name'].to_list()\n",
    "use_stars = []\n",
    "iodine = 0\n",
    "binary = 0\n",
    "non_stellar = 0\n",
    "SM_fail = 0\n",
    "iso_fail = 0\n",
    "Teff_bounds = 0\n",
    "gaia_temp_unkown = 0\n",
    "R_bounds = 0\n",
    "chi_sq = 0\n",
    "chi_sq_arr = []\n",
    "for name in names:\n",
    "    try:\n",
    "        apf_row = apf_data[apf_data['Simbad_resolvable_name'] == name]\n",
    "        chi_sq_arr += [apf_row['best_mean_chi_squared'].to_numpy()[0]]\n",
    "        log_row = apf_log_file[apf_log_file['Simbad_resolvable_name'] == name]\n",
    "        if apf_row['iodine_flag'].to_numpy()[0] == True:\n",
    "            iodine += 1\n",
    "            continue\n",
    "        if apf_row['binary_flag'].to_numpy()[0]:\n",
    "            binary += 1\n",
    "            continue\n",
    "        if apf_row['non-stellar_flag'].to_numpy()[0] == True:\n",
    "            non_stellar += 1\n",
    "            continue\n",
    "        if apf_row['failure_code'].to_numpy()[0] == True:\n",
    "            SM_fail += 1\n",
    "            continue\n",
    "        #if (apf_row['iso_fail_flag'].to_numpy()[0]) or (apf_row['iso_Teff'].to_numpy()[0] == 0):\n",
    "        #    iso_fail += 1\n",
    "        #    continue\n",
    "        if apf_row['Teff_bounds_flag'].to_numpy()[0] == 3: gaia_temp_unkown += 3\n",
    "        if apf_row['Teff_bounds_flag'].to_numpy()[0] != 0:\n",
    "            Teff_bounds += 1\n",
    "            continue\n",
    "        if apf_row['R_bounds_flag'].to_numpy()[0] != 0:\n",
    "            R_bounds += 1\n",
    "            continue\n",
    "        if log_row['Main_type'].to_numpy()[0] == 'SB*':\n",
    "            binary += 1\n",
    "            continue\n",
    "        if apf_row['best_mean_chi_squared'].to_numpy()[0] > chi_sq_threshold:\n",
    "            chi_sq += 1\n",
    "            continue\n",
    "        use_stars += [name + '_NDRR.fits']\n",
    "    except IndexError:\n",
    "        print(name + ' did not have a row in log file or something!!')\n",
    "        \n",
    "print('total initial targets: ' + str(len(names)))\n",
    "print('total used: ' + str(len(use_stars)))\n",
    "print('Fail reasons:')\n",
    "print('   iodine:      ' + str(iodine))\n",
    "print('   binary:      ' + str(binary))\n",
    "print('   non-stellar: ' + str(non_stellar))\n",
    "print('   failed_sm:   ' + str(SM_fail))\n",
    "print('   Teff bounds: ' + str(Teff_bounds))\n",
    "print('   R bounds:    ' + str(R_bounds))\n",
    "print('   bad match:   ' + str(chi_sq))"
   ]
  },
  {
   "cell_type": "code",
   "execution_count": 131,
   "metadata": {},
   "outputs": [
    {
     "name": "stdout",
     "output_type": "stream",
     "text": [
      "total initial targets: 2719\n",
      "total used: 917\n",
      "Fail reasons:\n",
      "   iodine:      942\n",
      "   binary:      0\n",
      "   non-stellar: 0\n",
      "   failed_sm:   18\n",
      "   Teff bounds: 348\n",
      "   R bounds:    272\n",
      "   bad match:   222\n"
     ]
    }
   ],
   "source": [
    "# FOR ALL_OBS RUN\n",
    "apf_data = all_obs_results\n",
    "names = apf_data['name'].to_list()\n",
    "use_stars = []\n",
    "iodine = 0\n",
    "binary = 0\n",
    "non_stellar = 0\n",
    "SM_fail = 0\n",
    "iso_fail = 0\n",
    "Teff_bounds = 0\n",
    "R_bounds = 0\n",
    "chi_sq = 0\n",
    "chi_sq_arr = []\n",
    "for name in names:\n",
    "    log_name = name.split('_')[0]\n",
    "    try:\n",
    "        apf_row = apf_data[apf_data['name'] == name]\n",
    "        chi_sq_arr = apf_row['best_mean_chi_squared']\n",
    "        log_row = apf_log_file[apf_log_file['Simbad_resolvable_name'] == log_name]\n",
    "        if apf_row['iodine_flag'].to_numpy()[0]:\n",
    "            iodine += 1\n",
    "            continue\n",
    "        if apf_row['binary_flag'].to_numpy()[0]:\n",
    "            binary += 1\n",
    "            continue\n",
    "        if list(apf_row['non-stellar_flag'])[0] == 'TRUE':\n",
    "            non_stellar += 1\n",
    "            continue\n",
    "        if apf_row['failure_code'].to_numpy()[0]:\n",
    "            SM_fail += 1\n",
    "            continue\n",
    "        #if (apf_row['iso_fail_flag'].to_numpy()[0]) or (apf_row['iso_Teff'].to_numpy()[0] == 0):\n",
    "        #    iso_fail += 1\n",
    "        #    continue\n",
    "        if apf_row['Teff_bounds_flag'].to_numpy()[0] != 0:\n",
    "            Teff_bounds += 1\n",
    "            continue\n",
    "        if apf_row['R_bounds_flag'].to_numpy()[0] != 0:\n",
    "            R_bounds += 1\n",
    "            continue\n",
    "        if log_row['Main_type'].to_numpy()[0] == 'SB*':\n",
    "            binary += 1\n",
    "            continue\n",
    "        if apf_row['best_mean_chi_squared'].to_numpy()[0] > chi_sq_threshold:\n",
    "            chi_sq += 1\n",
    "            continue\n",
    "        use_stars += [name + '_NDRR.fits']\n",
    "    except IndexError:\n",
    "        print(name + ' did not have a row in log file or something!!')\n",
    "\n",
    "print('total initial targets: ' + str(len(names)))\n",
    "print('total used: ' + str(len(use_stars)))\n",
    "print('Fail reasons:')\n",
    "print('   iodine:      ' + str(iodine))\n",
    "print('   binary:      ' + str(binary))\n",
    "print('   non-stellar: ' + str(non_stellar))\n",
    "print('   failed_sm:   ' + str(SM_fail))\n",
    "print('   Teff bounds: ' + str(Teff_bounds))\n",
    "print('   R bounds:    ' + str(R_bounds))\n",
    "print('   bad match:   ' + str(chi_sq))"
   ]
  },
  {
   "cell_type": "code",
   "execution_count": 152,
   "metadata": {},
   "outputs": [
    {
     "name": "stdout",
     "output_type": "stream",
     "text": [
      "total initial targets: 5082\n",
      "total used: 2282\n",
      "Fail reasons:\n",
      "   iodine:      0\n",
      "   binary:      618\n",
      "   SB binary:      0\n",
      "   non-stellar: 0\n",
      "   failed_sm:   118\n",
      "   Teff or R bounds: 1609\n",
      "   Teff bounds: 857\n",
      "   R bounds:    4\n",
      "   bad match:   1203\n"
     ]
    }
   ],
   "source": [
    "# FOR INDIVIDUAL SPECTRA RUN\n",
    "apf_data = all_ind_results\n",
    "names = apf_data['name'].to_list()\n",
    "use_stars = []\n",
    "iodine = 0\n",
    "binary = 0\n",
    "SB_binary = 0\n",
    "non_stellar = 0\n",
    "SM_fail = 0\n",
    "iso_fail = 0\n",
    "Teff_bounds = 0\n",
    "R_bounds = 0\n",
    "chi_sq = 0\n",
    "Teff_or_R_bounds = 0\n",
    "for name in names:\n",
    "    log_name = name.split('_')[0]\n",
    "    try:\n",
    "        apf_row = apf_data[apf_data['name'] == name]\n",
    "        log_row = apf_log_file[apf_log_file['Simbad_resolvable_name'] == log_name]\n",
    "        if apf_row['iodine_flag'].to_numpy()[0] == 1.0:\n",
    "            iodine += 1\n",
    "            continue\n",
    "        if apf_row['binary_flag'].to_numpy()[0]:\n",
    "            binary += 1\n",
    "            continue\n",
    "        if apf_row['non-stellar_flag'].to_numpy()[0]:\n",
    "            non_stellar += 1\n",
    "            continue\n",
    "        if apf_row['failure_code'].to_numpy()[0]:\n",
    "            SM_fail += 1\n",
    "            continue\n",
    "        #if (apf_row['iso_fail_flag'].to_numpy()[0]) or (apf_row['iso_Teff'].to_numpy()[0] == 0):\n",
    "        #    iso_fail += 1\n",
    "        #    continue\n",
    "        if (apf_row['Teff_bounds_flag'].to_numpy()[0] == 1.0) | (apf_row['R_bounds_flag'].to_numpy()[0] == 1.0) | (apf_row['Teff_bounds_flag'].to_numpy()[0] == 3.0) | (apf_row['R_bounds_flag'].to_numpy()[0] == 3.0):\n",
    "            Teff_or_R_bounds += 1\n",
    "        if apf_row['Teff_bounds_flag'].to_numpy()[0] == 1.0:\n",
    "            Teff_bounds += 1\n",
    "            continue\n",
    "        if apf_row['R_bounds_flag'].to_numpy()[0] == 1.0:\n",
    "            R_bounds += 1\n",
    "            continue\n",
    "        if log_row['Main_type'].to_numpy()[0] == 'SB*':\n",
    "            binary += 1\n",
    "            SB_binary += 1\n",
    "            continue\n",
    "        if apf_row['best_mean_chi_squared'].to_numpy()[0] > chi_sq_threshold:\n",
    "            chi_sq += 1\n",
    "            continue\n",
    "        use_stars += [name + '_NDRR.fits']\n",
    "        \n",
    "    except IndexError:\n",
    "        print(name + ' did not have a row in log file or something!!')\n",
    "\n",
    "print('total initial targets: ' + str(len(names)))\n",
    "print('total used: ' + str(len(use_stars)))\n",
    "print('Fail reasons:')\n",
    "print('   iodine:      ' + str(iodine))\n",
    "print('   binary:      ' + str(binary))\n",
    "print('   SB binary:      ' + str(SB_binary))\n",
    "print('   non-stellar: ' + str(non_stellar))\n",
    "print('   failed_sm:   ' + str(SM_fail))\n",
    "print('   Teff or R bounds: ' + str(Teff_or_R_bounds))\n",
    "print('   Teff bounds: ' + str(Teff_bounds))\n",
    "print('   R bounds:    ' + str(R_bounds))\n",
    "print('   bad match:   ' + str(chi_sq))"
   ]
  },
  {
   "cell_type": "code",
   "execution_count": 129,
   "metadata": {},
   "outputs": [],
   "source": [
    "df = pd.DataFrame(use_stars, columns = ['Filename'])\n",
    "dt = datetime.datetime.now()\n",
    "timestamp = dt.strftime(\"%d\") + dt.strftime(\"%b\") + dt.strftime(\"%Y\") + '-' + dt.strftime(\"%X\")\n",
    "file = 'Residual_list_all_ind_5-14-22.csv' #'Residual_file_list.csv'\n",
    "if os.path.isfile(file):\n",
    "    os.rename(file, file.split('.')[0] + '_' + timestamp + '.csv')\n",
    "df.to_csv(file, index = False)"
   ]
  },
  {
   "cell_type": "code",
   "execution_count": 145,
   "metadata": {},
   "outputs": [
    {
     "data": {
      "text/plain": [
       "433"
      ]
     },
     "execution_count": 145,
     "metadata": {},
     "output_type": "execute_result"
    }
   ],
   "source": [
    "len(set(star.split('_')[0] for star in use_stars))"
   ]
  },
  {
   "cell_type": "code",
   "execution_count": 112,
   "metadata": {},
   "outputs": [
    {
     "data": {
      "text/plain": [
       "12"
      ]
     },
     "execution_count": 112,
     "metadata": {},
     "output_type": "execute_result"
    }
   ],
   "source": [
    "# how many have an unkown gaia temperature? (and it's not 3 becuase it failed somewhere else)\n",
    "gaia_temp_unkown"
   ]
  },
  {
   "cell_type": "code",
   "execution_count": 147,
   "metadata": {},
   "outputs": [
    {
     "data": {
      "text/plain": [
       "False"
      ]
     },
     "execution_count": 147,
     "metadata": {},
     "output_type": "execute_result"
    }
   ],
   "source": [
    "apf_row['best_mean_chi_squared'].to_numpy()[0] > 15"
   ]
  },
  {
   "cell_type": "code",
   "execution_count": 110,
   "metadata": {},
   "outputs": [
    {
     "name": "stderr",
     "output_type": "stream",
     "text": [
      "No handles with labels found to put in legend.\n"
     ]
    },
    {
     "data": {
      "text/plain": [
       "<matplotlib.legend.Legend at 0x7f19aa509f90>"
      ]
     },
     "execution_count": 110,
     "metadata": {},
     "output_type": "execute_result"
    },
    {
     "data": {
      "image/png": "[encoded data removed]",
      "text/plain": [
       "<Figure size 432x288 with 1 Axes>"
      ]
     },
     "metadata": {
      "needs_background": "light"
     },
     "output_type": "display_data"
    }
   ],
   "source": [
    "# just to double check\n",
    "\n",
    "import matplotlib.pyplot as plt\n",
    "plt.figure()\n",
    "plt.hist(np.array(chi_sq_arr), bins = np.linspace(0,25,60),histtype = 'step')\n",
    "#plt.vlines([8], ymin = 0, ymax = 50, ls = 'dashed', label = 'Threshold (chi square = 8)')\n",
    "plt.xlabel('Chi square value')\n",
    "plt.legend()"
   ]
  },
  {
   "cell_type": "code",
   "execution_count": null,
   "metadata": {},
   "outputs": [],
   "source": []
  }
 ],
 "metadata": {
  "kernelspec": {
   "display_name": "Python 3",
   "language": "python",
   "name": "python3"
  },
  "language_info": {
   "codemirror_mode": {
    "name": "ipython",
    "version": 3
   },
   "file_extension": ".py",
   "mimetype": "text/x-python",
   "name": "python",
   "nbconvert_exporter": "python",
   "pygments_lexer": "ipython3",
   "version": "3.7.6"
  }
 },
 "nbformat": 4,
 "nbformat_minor": 4
}
