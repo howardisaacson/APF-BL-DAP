{
 "cells": [
  {
   "cell_type": "code",
   "execution_count": 12,
   "metadata": {},
   "outputs": [],
   "source": [
    "# given a residaul, calculate its AMD in relative units and untis of photons\n",
    "\n",
    "import numpy as np \n",
    "import pandas as pd\n",
    "import astropy.io.fits as fits\n",
    "import datetime\n",
    "import scipy.stats as stats\n",
    "import os"
   ]
  },
  {
   "cell_type": "code",
   "execution_count": 50,
   "metadata": {},
   "outputs": [
    {
     "name": "stdout",
     "output_type": "stream",
     "text": [
      "Timestamp: 21Apr2022-11:09:06\n",
      "\n"
     ]
    }
   ],
   "source": [
    "dt = datetime.datetime.now()\n",
    "print('Timestamp: ' +  str(dt.strftime(\"%d\") + dt.strftime(\"%b\") + dt.strftime(\"%Y\") + '-' + dt.strftime(\"%X\")))\n",
    "print()\n",
    "\n",
    "dir_path = '/mnt_home/azuckerman/BL_APF_DAP/APF_spectra/NDRR_all_apf/'\n",
    "results_file = pd.read_csv('/mnt_home/azuckerman/BL_APF_DAP/SM_stellar_properties/all_apf/specmatch_results_current.csv')\n",
    "star_list = os.listdir(dir_path)\n",
    "\n",
    "df = pd.DataFrame(columns = ['Name','SNR', 'AMD_resid [Relative]', 'AMD_resid [Photons]'])\n",
    "\n",
    "for star in star_list:  \n",
    "    try:\n",
    "        if len(star.split('_')) == 2: name = star.split('_')[0] \n",
    "        if len(star.split('_')) == 3: name = star.split('_')[0] + '_' + star.split('_')[1] \n",
    "\n",
    "        NDRU_path = dir_path + name + '_NDRR.fits'\n",
    "        hdu_R = fits.open(NDRU_path)\n",
    "        wl = hdu_R[2].data\n",
    "        resid = hdu_R[1].data \n",
    "\n",
    "        AMD_resid = stats.median_absolute_deviation(resid)\n",
    "        SNR = float(results_file[results_file['name'] == name]['SNR'])\n",
    "        median_order_45 = SNR**2\n",
    "        AMD_photons = stats.median_absolute_deviation((resid + 1) * median_order_45)\n",
    "\n",
    "        df = df.append(pd.Series([name, SNR, AMD_resid, AMD_photons], index = df.columns), ignore_index = True)\n",
    "\n",
    "        #print('Residual AMD in relative units:' + str(AMD_resid))\n",
    "        #print('Residual AMD in relative units:' + str(AMD_photons))\n",
    "    except TypeError:\n",
    "        df = df.append(pd.Series([name, np.nan, np.nan, np.nan], index = df.columns), ignore_index = True)\n",
    "    \n"
   ]
  },
  {
   "cell_type": "code",
   "execution_count": 52,
   "metadata": {},
   "outputs": [],
   "source": [
    "df.to_csv('residual_AMDs.csv', index = False)"
   ]
  },
  {
   "cell_type": "code",
   "execution_count": 54,
   "metadata": {},
   "outputs": [
    {
     "data": {
      "text/plain": [
       "414.7842679039171"
      ]
     },
     "execution_count": 54,
     "metadata": {},
     "output_type": "execute_result"
    }
   ],
   "source": [
    "np.nanmedian(df['AMD_resid [Photons]'])"
   ]
  },
  {
   "cell_type": "code",
   "execution_count": null,
   "metadata": {},
   "outputs": [],
   "source": []
  }
 ],
 "metadata": {
  "kernelspec": {
   "display_name": "Python 3",
   "language": "python",
   "name": "python3"
  },
  "language_info": {
   "codemirror_mode": {
    "name": "ipython",
    "version": 3
   },
   "file_extension": ".py",
   "mimetype": "text/x-python",
   "name": "python",
   "nbconvert_exporter": "python",
   "pygments_lexer": "ipython3",
   "version": "3.7.6"
  }
 },
 "nbformat": 4,
 "nbformat_minor": 4
}
