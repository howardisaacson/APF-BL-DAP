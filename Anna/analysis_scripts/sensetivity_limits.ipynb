{
 "cells": [
  {
   "cell_type": "code",
   "execution_count": 123,
   "metadata": {},
   "outputs": [],
   "source": [
    "import numpy as np\n",
    "h = 6.62607015 * (10 ** (-34)) # J/s\n",
    "c = 299792458 # m/s\n",
    "\n",
    "alpha = 10                                 # detection sigma threshold\n",
    "num = 0.131557                             # numerical factor\n",
    "d_E_ly = 1470                              # distance to emitting star (4.246ly to Proxima Centauri) [ly]\n",
    "d_E = d_E_ly * (9.461 * 10 ** 15)          # distance to emitting star [m]\n",
    "d_T = 2.4                                  # emitting telescope diameter [m]\n",
    "A_apf = np.pi * (1.2 ** 2)                 # area of recieving telescope [m**2]\n",
    "wl_l = 5 * (10 ** (-7))                    # laser wavelength [m]\n",
    "Lo = 3.828 * (10 ** 26)                    # luminosisty of host star [W]\n",
    "d_wl = 0.017 * (10 ** (-10))  * 3.6        # Wavelength scale bin size near laser wavelength [m/pixel] (0.017 at 5000 A to 0.021 A/pixel at 6400 A for APF scale)\n",
    "epsilon = 0.05                             # efficiency of receiving telescope (APF is 5%)\n",
    "N_obs = 2                                  # number of spectra stacked together\n",
    "dt = 727.68 * N_obs                        # observing time [s] -- median over all spectra in our dataset\n",
    "d_wl_star = 5 * (10 ** (-7))               # wavelength region span [m] (4000A to 9000A)\n",
    "\n"
   ]
  },
  {
   "cell_type": "markdown",
   "metadata": {},
   "source": [
    "### Formulation using spectrum SNR \n"
   ]
  },
  {
   "cell_type": "code",
   "execution_count": 118,
   "metadata": {
    "collapsed": true,
    "jupyter": {
     "outputs_hidden": true,
     "source_hidden": true
    }
   },
   "outputs": [
    {
     "name": "stdout",
     "output_type": "stream",
     "text": [
      "distance: 78.47 ly\n",
      "required emitting luminosity: 0.2783 MW\n",
      "required emitting luminosity, corrected by sqrt(2): 0.3935 MW\n"
     ]
    }
   ],
   "source": [
    "alpha = 10 \n",
    "N_obs = 1\n",
    "dt = 600 \n",
    "numer = np.pi * h * c * (wl_l ** 3) * Lo * d_wl\n",
    "denom = epsilon * dt * A_apf * d_wl_star\n",
    "prefactor = (alpha * num * d_E) / d_T ** 2\n",
    "L_em = prefactor * (numer/denom) ** (1/2) \n",
    "#L_em = alpha * num * d_E * (wl_l ** (3/2)) * ((Lo * d_wl) ** (1/2)) * (d_T ** (-2)) * ((epsilon * dt * A_apf * d_wl_star) ** (-1/2))  # [W]\n",
    "L_em /= (10 ** 6) # MWs\n",
    "print('distance: ' + str(d_E_ly) + ' ly')\n",
    "print('required emitting luminosity: ' + str(np.round(L_em, 4)) + ' MW')\n",
    "print('required emitting luminosity, corrected by sqrt(2): ' + str(np.round(L_em * np.sqrt(2), 4)) + ' MW')"
   ]
  },
  {
   "cell_type": "code",
   "execution_count": 119,
   "metadata": {
    "collapsed": true,
    "jupyter": {
     "outputs_hidden": true,
     "source_hidden": true
    }
   },
   "outputs": [
    {
     "name": "stdout",
     "output_type": "stream",
     "text": [
      "Lipmans expression [MW]: 0.3934226221513593\n",
      "\"de-correct\" for nm vs A in d_wl [MW]: 1.2441115690341091\n"
     ]
    }
   ],
   "source": [
    "# Should give exact same result as lipman\n",
    "\n",
    "print('Lipmans expression [MW]: ' + str((1.86 * d_E / (d_T**2)) * ((Lo * d_wl * h * c * np.pi * (wl_l**3))/(d_wl_star * A_apf * dt * epsilon)) ** (1/2) / 1e6)) #* np.sqrt(10)\n",
    "print('\"de-correct\" for nm vs A in d_wl [MW]: ' + str(((1.86 * d_E / (d_T**2)) * ((Lo * d_wl * h * c * np.pi * (wl_l**3))/(d_wl_star * A_apf * dt * epsilon)) ** (1/2)) * np.sqrt(10) / 1e6))\n",
    "#\n",
    "# the second gives the reported value in the paper, but the first is the same as what I get except for our factor of "
   ]
  },
  {
   "cell_type": "code",
   "execution_count": 88,
   "metadata": {
    "collapsed": true,
    "jupyter": {
     "outputs_hidden": true,
     "source_hidden": true
    }
   },
   "outputs": [
    {
     "name": "stdout",
     "output_type": "stream",
     "text": [
      "14.142039064542935\n",
      "0.0035892260747372434\n",
      "0.003988028971930271\n"
     ]
    }
   ],
   "source": [
    "def calc_alpha(L_em, d_E):\n",
    "    numer = np.pi * h * c * (wl_l ** 3) * Lo * d_wl\n",
    "    denom = epsilon * dt * A_apf * d_wl_star\n",
    "    prefactor =  (L_em * (d_T ** 2)) / (num * d_E)\n",
    "    alpha = prefactor * ((denom/numer) ** (1/2))\n",
    "    return alpha\n",
    "\n",
    "Lipman_alpha = calc_alpha(5.2128  * 10**6, 1470 * (9.461 * 10 ** 15))\n",
    "# Tellis 2015\n",
    "Tellis_alpha1 = calc_alpha(90 , 100 * (9.461 * 10 ** 15))\n",
    "Tellis_alpha2 = calc_alpha(1000 , 1000 * (9.461 * 10 ** 15))\n",
    "print(Lipman_alpha) # should be 10, by design\n",
    "print(Tellis_alpha1)\n",
    "print(Tellis_alpha2)"
   ]
  },
  {
   "cell_type": "code",
   "execution_count": 89,
   "metadata": {
    "collapsed": true,
    "jupyter": {
     "outputs_hidden": true,
     "source_hidden": true
    }
   },
   "outputs": [
    {
     "name": "stdout",
     "output_type": "stream",
     "text": [
      "\n",
      "10 ly: \n",
      "min alpha (3 kW laser): 1.1964\n",
      "max alpha (13 MW laser): 5184.4377\n",
      "\n",
      "100 ly: \n",
      "min alpha (3 kW laser): 0.1196\n",
      "max alpha (13 MW laser): 518.4438\n",
      "\n",
      "1000 ly: \n",
      "min alpha (3 kW laser): 0.012\n",
      "max alpha (13 MW laser): 51.8444\n",
      "\n",
      "Median distance to star in APF target set (78.47 ly):\n",
      "min alpha (3 kW laser): 0.1525\n",
      "max alpha (13 MW laser): 660.6904\n"
     ]
    }
   ],
   "source": [
    "# Tellis 2017: They chacnge their exposure time such that they keep a constant SNR, and thus distance does not effect their sensetivities. \n",
    "# So, the alpha value that would be required to reach their sensetivity varies depending on distance.\n",
    "# Their sensetivities do depend on wavelength, so for each distance there is an upper and lower alpha value required to \n",
    "# reach their upper and lower sensetivities. \n",
    "\n",
    "low_laser_lum = 3 * (10 ** 3) # 3 kW\n",
    "high_laser_lum = 13 * (10 ** 6) # 13 MW\n",
    "\n",
    "distances = [10, 100, 1000]\n",
    "for d_E_ly in distances:\n",
    "    d_E = d_E_ly * (9.461 * 10 ** 15)\n",
    "    low_alpha =  calc_alpha(low_laser_lum, d_E)\n",
    "    high_alpha =  calc_alpha(high_laser_lum, d_E)\n",
    "    \n",
    "    print()\n",
    "    print(str(d_E_ly) + ' ly: ')\n",
    "    print('min alpha (3 kW laser): ' + str(np.round(low_alpha,4)))\n",
    "    print('max alpha (13 MW laser): ' + str(np.round(high_alpha,4)))\n",
    "    \n",
    "print()\n",
    "print('Median distance to star in APF target set (78.47 ly):')\n",
    "d_E_ly = 78.47\n",
    "d_E = d_E_ly * (9.461 * 10 ** 15)\n",
    "low_alpha =  calc_alpha(low_laser_lum, d_E)\n",
    "high_alpha =  calc_alpha(high_laser_lum, d_E)\n",
    "print('min alpha (3 kW laser): ' + str(np.round(low_alpha,4)))\n",
    "print('max alpha (13 MW laser): ' + str(np.round(high_alpha,4)))\n",
    "\n",
    "    "
   ]
  },
  {
   "cell_type": "markdown",
   "metadata": {},
   "source": [
    "### Formulation using spectrum AMD"
   ]
  },
  {
   "cell_type": "code",
   "execution_count": 124,
   "metadata": {},
   "outputs": [],
   "source": [
    "def calc_Lem(alpha, AMD, d_E):\n",
    "    prefactor = ((1.22**2) * np.pi * h * c) / 4\n",
    "    numer = alpha * AMD * wl_l * d_E**2\n",
    "    denom = epsilon * dt * A_apf * d_T**2\n",
    "    L_em = prefactor * (numer/denom)\n",
    "    return L_em"
   ]
  },
  {
   "cell_type": "code",
   "execution_count": 125,
   "metadata": {},
   "outputs": [],
   "source": [
    "def calc_alpha(L_em, d_E):\n",
    "    numer = L_em * epsilon * dt * A_apf * d_T**2\n",
    "    denom = AMD * wl_l * d_E**2 * prefactor\n",
    "    alpha = numer/denom\n",
    "    return alpha"
   ]
  },
  {
   "cell_type": "code",
   "execution_count": 127,
   "metadata": {},
   "outputs": [
    {
     "name": "stdout",
     "output_type": "stream",
     "text": [
      "EXAMPLE (Using median values):\n",
      "Choose alpha = 6, for a star with the median distance (78.47ly) and median AMD in our target set, detection requires:\n",
      "Laser luminosity > 0.084 MW\n",
      "\n",
      "LIPMAN COMPARISON (Using Boyajian's Star. They report limit of 7.37 MW):\n",
      "Choose alpha = 6, with the AMD of Boyajian's Star at the distance of Boyajian's Star detection requires:\n",
      "Laser luminosity > 7.863 MW\n",
      "\n",
      "TELLIS 2015 COMPARISON (They report limit of 90 W at 100 ly):\n",
      "Choose alpha = 6, for a star with the median AMD in our target set, detection at 100 ly requires:\n",
      "Laser luminosity > 0.136 MW\n",
      "TELLIS 2015 COMPARISON (They ALSO report limit of 1 kW at 1000 ly):\n",
      "Choose alpha = 6, for a star with the median AMD in our target set, detection at 1000 ly requires:\n",
      "Laser luminosity > 13.64 MW\n",
      "\n",
      "TELLIS 2017 COMPARISON (They report limit of between 3 kw and 13 MW across the spectrum regardless of distance):\n",
      "Choose alpha = 6, for a star with the median AMD in our target set, detection at median distance requires:\n",
      "Laser luminosity > 0.084 MW\n"
     ]
    }
   ],
   "source": [
    "# example calculation\n",
    "median_AMD = 414.78 # median residual AMD converted to photon counts for out target set\n",
    "alpha_example = 6\n",
    "d_E_ly = 78.47 # median distance to stars in our target set\n",
    "d_E = d_E_ly * (9.461 * 10 ** 15)\n",
    "example_Lem = calc_Lem(alpha_example, median_AMD, d_E)\n",
    "print('EXAMPLE (Using median values):')\n",
    "print('Choose alpha = ' + str(alpha_example) + ', for a star with the median distance (78.47ly) and median AMD in our target set, detection requires:')\n",
    "print('Laser luminosity > ' + str(np.round(example_Lem/(10 ** 6),3)) + ' MW')\n",
    "#print('                 > ' + str(np.round(example_Lem/(10 ** 3),3)) + ' kW')\n",
    "#print('                 > ' + str(np.round(example_Lem/(10 ** 6),3)) + ' MW')\n",
    "print()\n",
    "\n",
    "# Comparison to Lipman\n",
    "d_E_ly =  1470 # distance to Boyajian's Star\n",
    "d_E = d_E_ly * (9.461 * 10 ** 15)\n",
    "KIC8462852_AMD = 110.65 # Boyajian's Star \n",
    "Lipman_Lem = calc_Lem(alpha_example, KIC8462852_AMD, d_E)\n",
    "print('LIPMAN COMPARISON (Using Boyajian\\'s Star. They report limit of 7.37 MW):')\n",
    "print('Choose alpha = ' + str(alpha_example) + ', with the AMD of Boyajian\\'s Star at the distance of Boyajian\\'s Star detection requires:')\n",
    "print('Laser luminosity > ' + str(np.round(Lipman_Lem/(10 ** 6),3)) + ' MW')\n",
    "#print('                 > ' + str(np.round(Lipman_Lem/(10 ** 3),3)) + ' kW')\n",
    "#print('                 > ' + str(np.round(Lipman_Lem/(10 ** 6),3)) + ' MW')\n",
    "print()\n",
    "\n",
    "# Comparison to Tellis 2015\n",
    "d_E_ly =  100 # distance reported \n",
    "d_E = d_E_ly * (9.461 * 10 ** 15)\n",
    "T2015_Lem = calc_Lem(alpha_example, median_AMD, d_E)\n",
    "print('TELLIS 2015 COMPARISON (They report limit of 90 W at 100 ly):')\n",
    "print('Choose alpha = ' + str(alpha_example) + ', for a star with the median AMD in our target set, detection at 100 ly requires:')\n",
    "print('Laser luminosity > ' + str(np.round(T2015_Lem/(10 ** 6),3)) + ' MW')\n",
    "#print('                 > ' + str(np.round(T2015_Lem/(10 ** 3),3)) + ' kW')\n",
    "#print('                 > ' + str(np.round(T2015_Lem/(10 ** 6),3)) + ' MW')\n",
    "d_E_ly =  1000 # distance reported \n",
    "d_E = d_E_ly * (9.461 * 10 ** 15)\n",
    "T2015_Lem = calc_Lem(alpha_example, median_AMD, d_E)\n",
    "print('TELLIS 2015 COMPARISON (They ALSO report limit of 1 kW at 1000 ly):')\n",
    "print('Choose alpha = ' + str(alpha_example) + ', for a star with the median AMD in our target set, detection at 1000 ly requires:')\n",
    "print('Laser luminosity > ' + str(np.round(T2015_Lem/(10 ** 6),3)) + ' MW')\n",
    "#print('                 > ' + str(np.round(T2015_Lem/(10 ** 3),3)) + ' kW')\n",
    "#print('                 > ' + str(np.round(T2015_Lem/(10 ** 6),3)) + ' MW')\n",
    "print()\n",
    "\n",
    "# Comparison to Tellis 2017\n",
    "d_E_ly =  78.47 # median distance to stars in our target set\n",
    "d_E = d_E_ly * (9.461 * 10 ** 15)\n",
    "T2017_Lem = calc_Lem(alpha_example, median_AMD, d_E)\n",
    "print('TELLIS 2017 COMPARISON (They report limit of between 3 kw and 13 MW across the spectrum regardless of distance):')\n",
    "print('Choose alpha = ' + str(alpha_example) + ', for a star with the median AMD in our target set, detection at median distance requires:')\n",
    "print('Laser luminosity > ' + str(np.round(T2017_Lem/(10 ** 6),3)) + ' MW')\n",
    "#print('                 > ' + str(np.round(T2017_Lem/(10 ** 3),3)) + ' kW')\n",
    "#print('                 > ' + str(np.round(T2017_Lem/(10 ** 6),3)) + ' MW')"
   ]
  },
  {
   "cell_type": "code",
   "execution_count": 128,
   "metadata": {},
   "outputs": [
    {
     "name": "stdout",
     "output_type": "stream",
     "text": [
      "1.1852162809423143\n",
      "4218.639315370116 W\n",
      "0.004218639315370115 MW\n",
      "descrease in sensetivity in an representative absoprtion feature: 5.022742980214412 %\n"
     ]
    }
   ],
   "source": [
    "# effect of going to residuals\n",
    "\n",
    "d_E_ly = 78.47 # median distance to stars in our target set in ly\n",
    "d_E = d_E_ly * (9.461 * 10 ** 15) # in m\n",
    "median_beta = (4 * dt * N_obs * A_apf * d_T**2) / (1.22**2 * np.pi * h * c * wl_l * d_E**2)\n",
    "print(median_beta)\n",
    "\n",
    "representative_feature_depth = 10000 * 0.5 # varies from 0.1 to 0.9 ish\n",
    "luministy_effect = representative_feature_depth/median_beta\n",
    "print(str(luministy_effect) + ' W')\n",
    "print(str(luministy_effect  / 10**6) + ' MW')\n",
    "\n",
    "print('descrease in sensetivity in an representative absoprtion feature: ' + str(luministy_effect/example_Lem * 100) + ' %')"
   ]
  },
  {
   "cell_type": "code",
   "execution_count": 130,
   "metadata": {},
   "outputs": [],
   "source": [
    "import matplotlib.pyplot as plt"
   ]
  },
  {
   "cell_type": "code",
   "execution_count": 146,
   "metadata": {},
   "outputs": [
    {
     "name": "stdout",
     "output_type": "stream",
     "text": [
      "0.0053266331658291454\n",
      "124.62311557788944\n"
     ]
    },
    {
     "data": {
      "image/png": "[encoded data removed]",
      "text/plain": [
       "<Figure size 432x288 with 1 Axes>"
      ]
     },
     "metadata": {
      "needs_background": "light"
     },
     "output_type": "display_data"
    },
    {
     "data": {
      "image/png": "[encoded data removed]",
      "text/plain": [
       "<Figure size 432x288 with 1 Axes>"
      ]
     },
     "metadata": {
      "needs_background": "light"
     },
     "output_type": "display_data"
    }
   ],
   "source": [
    "# Fractional solid angle subtended by a laser emitted from \"APF\"\n",
    "frac_A = (1.22 * wl_l)**2/(4 * d_T)**2\n",
    "frac_A \n",
    "\n",
    "# how does this compare to area of earth, or earth's orbit, at a given distance?\n",
    "R_Earth = 6371000 #m\n",
    "A_Earth = np.pi * R_Earth**2\n",
    "R_orbit = 1.496 * 10**11 #m (1 AU)\n",
    "A_orbit = np.pi * R_orbit**2\n",
    "d_ly = np.linspace(0,0.01,200) # ly\n",
    "d = d_ly * (9.461 * 10 ** 15) # m\n",
    "ratio_Earth = (np.pi/A_Earth) * ((1.22*d*wl_l)/(2*d_T))**2\n",
    "plt.figure()\n",
    "plt.plot(d_ly,ratio_Earth)\n",
    "plt.xlabel('distance [ly]')\n",
    "plt.ylabel('ratio laser area to Earth area')\n",
    "print(d_ly[np.where(ratio_Earth > 1)[0][0]])\n",
    "\n",
    "d_ly = np.linspace(0,200,200) # ly\n",
    "d = d_ly * (9.461 * 10 ** 15) # m\n",
    "ratio_orbit = (np.pi/A_orbit) * ((1.22*d*wl_l)/(2*d_T))**2\n",
    "plt.figure()\n",
    "plt.plot(d_ly,ratio_orbit)\n",
    "plt.xlabel('distance [ly]')\n",
    "plt.ylabel('ratio laser area to Earth orbit area')\n",
    "print(d_ly[np.where(ratio_orbit > 1)[0][0]])"
   ]
  },
  {
   "cell_type": "code",
   "execution_count": null,
   "metadata": {},
   "outputs": [],
   "source": []
  }
 ],
 "metadata": {
  "kernelspec": {
   "display_name": "Python 3",
   "language": "python",
   "name": "python3"
  },
  "language_info": {
   "codemirror_mode": {
    "name": "ipython",
    "version": 3
   },
   "file_extension": ".py",
   "mimetype": "text/x-python",
   "name": "python",
   "nbconvert_exporter": "python",
   "pygments_lexer": "ipython3",
   "version": "3.7.6"
  }
 },
 "nbformat": 4,
 "nbformat_minor": 4
}
