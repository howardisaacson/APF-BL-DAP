{
 "cells": [
  {
   "cell_type": "code",
   "execution_count": null,
   "metadata": {},
   "outputs": [],
   "source": [
    "# script to organize BL APF files"
   ]
  },
  {
   "cell_type": "code",
   "execution_count": 1,
   "metadata": {},
   "outputs": [],
   "source": [
    "import os\n",
    "import numpy as np\n",
    "import astropy.io.fits \n",
    "from astroquery.simbad import Simbad\n",
    "import csv\n",
    "import hashlib\n",
    "import datetime"
   ]
  },
  {
   "cell_type": "code",
   "execution_count": 2,
   "metadata": {},
   "outputs": [],
   "source": [
    "# find  names of each star in order to compare the same stars\n",
    "def get_names(name): \n",
    "    # define some flags\n",
    "    known_not_a_star = False\n",
    "    known_binary = False\n",
    "    \n",
    "    # reformat the name\n",
    "    if name[0].isdigit():\n",
    "        name = 'HD' + name\n",
    "        if (name.endswith('A') or name.endswith('B')):\n",
    "            name = name[:-1]\n",
    "            known_binary = True\n",
    "    elif name.startswith('K0'):\n",
    "        name = 'KOI-' + name[1:]\n",
    "    elif name.startswith('EPIC-'):\n",
    "        name = 'EPIC' + name[5:]\n",
    "    elif name.startswith('KIC') and name.endswith('t'):\n",
    "        name = name[:-1]\n",
    "    elif name.startswith('NGC'):\n",
    "        known_not_a_star = True\n",
    "        if ('_' in name):\n",
    "            if name[-2] == '_':\n",
    "                name = name.split('_')[0]\n",
    "            else:\n",
    "                name = name.replace(' ' , '_') \n",
    "    elif name == 'etaCrv':\n",
    "        name = 'eta_Crv'\n",
    "    elif name == 'epsCep':\n",
    "        name = 'eps_Cep'\n",
    "    elif name == 'bTau':\n",
    "        name = 'b_Tau'\n",
    "    elif name == 'SO0253':\n",
    "        name = 'TIC257870150'\n",
    "    elif name == 'Alderami':\n",
    "        name = 'alderamin'\n",
    "    elif name == 'TIC396356111':\n",
    "        name = 'HIP848'\n",
    "    elif name == 'TIC286132427':\n",
    "        name = 'HIP47990'\n",
    "    elif name.startswith('hip') and not name.startswith('hipass'): # this is purely aesthetic - 'hip' would still query\n",
    "        name = 'HIP' + name[3:]\n",
    "    \n",
    "    # query Simbad        \n",
    "    try:\n",
    "        table1 = Simbad.query_object(name).to_pandas()\n",
    "        otypes = table1['OTYPES']\n",
    "        otypes_list = table1['OTYPES'][0].split('|')\n",
    "        main_otype = table1['OTYPE_3'][0]\n",
    "        table2 = Simbad.query_objectids(name)\n",
    "        simbad_resolvable_name = name\n",
    "        alternative_names = table2.to_pandas()\n",
    "        alternative_names = alternative_names.iloc[:,0].str.decode('utf-8') # gets rid of weird formatting\n",
    "        alt_names = alternative_names.to_list()\n",
    "        if name.startswith('HIP') and not name.startswith('HIPASS'):\n",
    "            HIP_name = name  \n",
    "        else:\n",
    "            try: \n",
    "                #HIP_name = alternative_names[alternative_names.str.contains(\"HIP\")]\n",
    "                #HIP_name = alternative_names[alternative_names.str.startswith(\"HIP\") * (not alternative_names.str.startswith(\"HIPASS\"))]\n",
    "                HIP_name = [x for x in alternative_names.tolist() if x.startswith('HIP') and not x.startswith('HIPASS')]\n",
    "                if len(HIP_name) == 0:\n",
    "                    HIP_name = 'None'\n",
    "                    print(name + ' has no HIP name in SIMBAD') # this should never occur in calibration dataset\n",
    "                elif len(HIP_name) == 1:\n",
    "                    HIP_name = str(HIP_name[0]).replace(' ', '') # makes it a string instead of dataframe with one cell  \n",
    "                else:\n",
    "                    print('more than one HIP name found for ' + name)\n",
    "            except AttributeError:\n",
    "                HIP_name = 'None'\n",
    "                print(name + ': SIMBAD search error (likely \\'No known catalog could be found\\' or \\'this identifier has an incorrect format for catalog\\'') # should not happen\n",
    "    except:\n",
    "        HIP_name = 'None'\n",
    "        simbad_resolvable_name = 'None'\n",
    "        alt_names = 'Not found'\n",
    "        main_otype = 'Not found'\n",
    "        otypes_list = ['Not found']\n",
    "        print(name + ' not resolved by SIMBAD')\n",
    "    return HIP_name, simbad_resolvable_name, alt_names, known_not_a_star, known_binary, main_otype, otypes_list\n"
   ]
  },
  {
   "cell_type": "code",
   "execution_count": 134,
   "metadata": {},
   "outputs": [],
   "source": [
    "# find all names of each star in order to compare the same stars\n",
    "#def get_names(name):     \n",
    "#    if name[0].isdigit():\n",
    "#        name = 'HD' + name\n",
    "#    elif name.startswith('K0'):\n",
    "#        name = 'KOI-' + name[1:]\n",
    "#    elif name.startswith('EPIC-'):\n",
    "#        name = 'EPIC' + name[5:]\n",
    "#    try:\n",
    "#        result_table = Simbad.query_objectids(name)\n",
    "#        alt_names = result_table.to_pandas()\n",
    "#        alt_names = alt_names.iloc[:,0].str.decode('utf-8') #gets rid of weird formatting\n",
    "#    except AttributeError:\n",
    "#        HIP_name = 'None'\n",
    "#        print(name + ': SIMBAD search error (likely \\'No known catalog could be found\\' or \\'this identifier has an incorrect format for catalog\\'') # should not happen\n",
    "#    return HIP_name\n"
   ]
  },
  {
   "cell_type": "code",
   "execution_count": 3,
   "metadata": {},
   "outputs": [
    {
     "name": "stdout",
     "output_type": "stream",
     "text": [
      "HD210610 has no HIP name in SIMBAD\n",
      "HD210610 has no HIP name in SIMBAD\n",
      "HD210610 has no HIP name in SIMBAD\n",
      "KIC3542116 has no HIP name in SIMBAD\n",
      "KIC3542116 has no HIP name in SIMBAD\n",
      "NGC_7654_764 has no HIP name in SIMBAD\n",
      "NGC_7654_764 has no HIP name in SIMBAD\n",
      "NGC_7654_764 has no HIP name in SIMBAD\n",
      "NGC_7654_764 has no HIP name in SIMBAD\n",
      "NGC_7654_756 has no HIP name in SIMBAD\n",
      "NGC_7654_806 has no HIP name in SIMBAD\n",
      "NGC4318 has no HIP name in SIMBAD\n",
      "NGC4318 has no HIP name in SIMBAD\n",
      "NGC4318 has no HIP name in SIMBAD\n",
      "NGC4318 has no HIP name in SIMBAD\n",
      "NGC4318 has no HIP name in SIMBAD\n",
      "NGC4318 has no HIP name in SIMBAD\n",
      "NGC4318 has no HIP name in SIMBAD\n",
      "NGC5322 has no HIP name in SIMBAD\n",
      "NGC5322 has no HIP name in SIMBAD\n",
      "NGC5322 has no HIP name in SIMBAD\n",
      "NGC5322 has no HIP name in SIMBAD\n",
      "NGC5322 has no HIP name in SIMBAD\n",
      "NGC6720 has no HIP name in SIMBAD\n",
      "NGC6720 has no HIP name in SIMBAD\n",
      "NGC6720 has no HIP name in SIMBAD\n",
      "TIC328350926 has no HIP name in SIMBAD\n",
      "TIC328350926 has no HIP name in SIMBAD\n",
      "TIC328350926 has no HIP name in SIMBAD\n",
      "TIC440100539 has no HIP name in SIMBAD\n",
      "TIC440100539 has no HIP name in SIMBAD\n",
      "TIC440100539 has no HIP name in SIMBAD\n",
      "TIC468880077 has no HIP name in SIMBAD\n",
      "TIC468880077 has no HIP name in SIMBAD\n",
      "TIC468880077 has no HIP name in SIMBAD\n",
      "TIC468880077 has no HIP name in SIMBAD\n",
      "TIC98796344 has no HIP name in SIMBAD\n",
      "TIC98796344 has no HIP name in SIMBAD\n",
      "TIC98796344 has no HIP name in SIMBAD\n",
      "TIC94986319 has no HIP name in SIMBAD\n",
      "TIC94986319 has no HIP name in SIMBAD\n",
      "TIC94986319 has no HIP name in SIMBAD\n",
      "TIC94986319 has no HIP name in SIMBAD\n",
      "TIC352413427 has no HIP name in SIMBAD\n",
      "TIC352413427 has no HIP name in SIMBAD\n",
      "TIC352413427 has no HIP name in SIMBAD\n",
      "TIC408618999 has no HIP name in SIMBAD\n",
      "TIC408618999 has no HIP name in SIMBAD\n",
      "TIC408618999 has no HIP name in SIMBAD\n",
      "TIC377064495 has no HIP name in SIMBAD\n",
      "TIC377064495 has no HIP name in SIMBAD\n",
      "TIC377064495 has no HIP name in SIMBAD\n",
      "TIC142276270 has no HIP name in SIMBAD\n",
      "TIC142276270 has no HIP name in SIMBAD\n",
      "TIC142276270 has no HIP name in SIMBAD\n",
      "TIC417931607 has no HIP name in SIMBAD\n",
      "TIC417931607 has no HIP name in SIMBAD\n",
      "TIC417931607 has no HIP name in SIMBAD\n",
      "TIC347332255 has no HIP name in SIMBAD\n",
      "TIC347332255 has no HIP name in SIMBAD\n",
      "TIC347332255 has no HIP name in SIMBAD\n",
      "TIC142387023 has no HIP name in SIMBAD\n",
      "TIC142387023 has no HIP name in SIMBAD\n",
      "TIC142387023 has no HIP name in SIMBAD\n",
      "TIC160077104 has no HIP name in SIMBAD\n",
      "TIC160077104 has no HIP name in SIMBAD\n",
      "TIC159418353 has no HIP name in SIMBAD\n",
      "TIC159418353 has no HIP name in SIMBAD\n",
      "TIC159418353 has no HIP name in SIMBAD\n",
      "TIC230075227 has no HIP name in SIMBAD\n",
      "TIC230075227 has no HIP name in SIMBAD\n",
      "TIC230075227 has no HIP name in SIMBAD\n",
      "TIC287256467 has no HIP name in SIMBAD\n",
      "TIC287256467 has no HIP name in SIMBAD\n",
      "TIC287256467 has no HIP name in SIMBAD\n",
      "TIC198456933 has no HIP name in SIMBAD\n",
      "TIC198456933 has no HIP name in SIMBAD\n",
      "TIC198456933 has no HIP name in SIMBAD\n",
      "TIC88840705 has no HIP name in SIMBAD\n",
      "TIC88840705 has no HIP name in SIMBAD\n",
      "TIC88840705 has no HIP name in SIMBAD\n",
      "TIC233541860 has no HIP name in SIMBAD\n",
      "TIC233541860 has no HIP name in SIMBAD\n",
      "TIC233541860 has no HIP name in SIMBAD\n",
      "TIC233541860 has no HIP name in SIMBAD\n",
      "TIC233541860 has no HIP name in SIMBAD\n",
      "TIC298647682 has no HIP name in SIMBAD\n",
      "TIC298647682 has no HIP name in SIMBAD\n",
      "TIC298647682 has no HIP name in SIMBAD\n",
      "TIC75878355 has no HIP name in SIMBAD\n",
      "TIC75878355 has no HIP name in SIMBAD\n",
      "TIC75878355 has no HIP name in SIMBAD\n",
      "TIC237232044 has no HIP name in SIMBAD\n",
      "TIC237232044 has no HIP name in SIMBAD\n",
      "TIC237232044 has no HIP name in SIMBAD\n",
      "TIC229938290 has no HIP name in SIMBAD\n",
      "TIC229938290 has no HIP name in SIMBAD\n",
      "TIC229938290 has no HIP name in SIMBAD\n",
      "TIC406672232 has no HIP name in SIMBAD\n",
      "TIC406672232 has no HIP name in SIMBAD\n",
      "TIC406672232 has no HIP name in SIMBAD\n",
      "TIC352764091 has no HIP name in SIMBAD\n",
      "TIC352764091 has no HIP name in SIMBAD\n",
      "TIC352764091 has no HIP name in SIMBAD\n",
      "TIC352764091 has no HIP name in SIMBAD\n",
      "TIC274942910 has no HIP name in SIMBAD\n",
      "TIC274942910 has no HIP name in SIMBAD\n",
      "TIC274942910 has no HIP name in SIMBAD\n",
      "TIC317597583 has no HIP name in SIMBAD\n",
      "TIC317597583 has no HIP name in SIMBAD\n",
      "TIC317597583 has no HIP name in SIMBAD\n",
      "TIC317597583 has no HIP name in SIMBAD\n",
      "TIC317597583 has no HIP name in SIMBAD\n",
      "TIC317597583 has no HIP name in SIMBAD\n",
      "HD210610 has no HIP name in SIMBAD\n",
      "HD210610 has no HIP name in SIMBAD\n",
      "HD210610 has no HIP name in SIMBAD\n",
      "KIC8462852 has no HIP name in SIMBAD\n",
      "KIC8462852 has no HIP name in SIMBAD\n",
      "KIC8462852 has no HIP name in SIMBAD\n",
      "KIC8462852 has no HIP name in SIMBAD\n",
      "KIC8462852 has no HIP name in SIMBAD\n",
      "KIC8462852 has no HIP name in SIMBAD\n",
      "KIC8462852 has no HIP name in SIMBAD\n",
      "KIC8462852 has no HIP name in SIMBAD\n",
      "KIC8462852 has no HIP name in SIMBAD\n",
      "KIC8462852 has no HIP name in SIMBAD\n",
      "KIC8462852 has no HIP name in SIMBAD\n",
      "KIC8462852 has no HIP name in SIMBAD\n",
      "KIC8462852 has no HIP name in SIMBAD\n",
      "GJ83.1 has no HIP name in SIMBAD\n",
      "KIC8462852 has no HIP name in SIMBAD\n",
      "KIC8462852 has no HIP name in SIMBAD\n",
      "GJ1002 has no HIP name in SIMBAD\n",
      "GJ905 has no HIP name in SIMBAD\n",
      "GJ866 has no HIP name in SIMBAD\n",
      "GJ866 has no HIP name in SIMBAD\n",
      "GJ65A has no HIP name in SIMBAD\n",
      "TIC257870150 has no HIP name in SIMBAD\n",
      "TIC257870150 has no HIP name in SIMBAD\n",
      "GJ860A has no HIP name in SIMBAD\n",
      "LHS292 has no HIP name in SIMBAD\n",
      "KIC8462852 has no HIP name in SIMBAD\n",
      "KIC8462852 has no HIP name in SIMBAD\n",
      "KIC8462852 has no HIP name in SIMBAD\n",
      "KIC8462852 has no HIP name in SIMBAD\n",
      "KIC8462852 has no HIP name in SIMBAD\n",
      "KIC8462852 has no HIP name in SIMBAD\n",
      "KIC8462852 has no HIP name in SIMBAD\n",
      "KIC8462852 has no HIP name in SIMBAD\n",
      "KIC8462852 has no HIP name in SIMBAD\n",
      "KIC8462852 has no HIP name in SIMBAD\n",
      "KIC8462852 has no HIP name in SIMBAD\n",
      "KIC8462852 has no HIP name in SIMBAD\n",
      "KIC8462852 has no HIP name in SIMBAD\n",
      "KIC8462852 has no HIP name in SIMBAD\n",
      "KIC8462852 has no HIP name in SIMBAD\n",
      "KIC8462852 has no HIP name in SIMBAD\n",
      "KIC8462852 has no HIP name in SIMBAD\n",
      "KIC8462852 has no HIP name in SIMBAD\n",
      "KIC8462852 has no HIP name in SIMBAD\n",
      "KIC8462852 has no HIP name in SIMBAD\n",
      "KIC8462852 has no HIP name in SIMBAD\n",
      "KIC8462852 has no HIP name in SIMBAD\n",
      "KIC8462852 has no HIP name in SIMBAD\n",
      "KIC8462852 has no HIP name in SIMBAD\n",
      "KIC8462852 has no HIP name in SIMBAD\n",
      "KIC8462852 has no HIP name in SIMBAD\n",
      "KIC8462852 has no HIP name in SIMBAD\n",
      "KIC8462852 has no HIP name in SIMBAD\n",
      "KIC8462852 has no HIP name in SIMBAD\n",
      "KIC8462852 has no HIP name in SIMBAD\n",
      "KIC8462852 has no HIP name in SIMBAD\n",
      "KIC8462852 has no HIP name in SIMBAD\n",
      "KIC8462852 has no HIP name in SIMBAD\n",
      "KIC8462852 has no HIP name in SIMBAD\n",
      "KIC8462852 has no HIP name in SIMBAD\n",
      "KIC8462852 has no HIP name in SIMBAD\n",
      "KIC8462852 has no HIP name in SIMBAD\n",
      "KIC8462852 has no HIP name in SIMBAD\n",
      "KIC8462852 has no HIP name in SIMBAD\n",
      "KIC8462852 has no HIP name in SIMBAD\n",
      "KIC8462852 has no HIP name in SIMBAD\n",
      "KIC8462852 has no HIP name in SIMBAD\n",
      "KIC8462852 has no HIP name in SIMBAD\n",
      "KIC8462852 has no HIP name in SIMBAD\n",
      "KIC8462852 has no HIP name in SIMBAD\n",
      "KIC8462852 has no HIP name in SIMBAD\n",
      "KIC8462852 has no HIP name in SIMBAD\n",
      "KIC8462852 has no HIP name in SIMBAD\n",
      "KIC8462852 has no HIP name in SIMBAD\n",
      "KIC8462852 has no HIP name in SIMBAD\n",
      "KIC8462852 has no HIP name in SIMBAD\n",
      "KIC8462852 has no HIP name in SIMBAD\n",
      "KIC8462852 has no HIP name in SIMBAD\n",
      "KIC8462852 has no HIP name in SIMBAD\n",
      "KIC8462852 has no HIP name in SIMBAD\n",
      "KIC8462852 has no HIP name in SIMBAD\n",
      "KIC8462852 has no HIP name in SIMBAD\n",
      "KIC8462852 has no HIP name in SIMBAD\n",
      "KIC8462852 has no HIP name in SIMBAD\n",
      "KIC8462852 has no HIP name in SIMBAD\n",
      "KIC8462852 has no HIP name in SIMBAD\n",
      "KIC8462852 has no HIP name in SIMBAD\n",
      "KIC8462852 has no HIP name in SIMBAD\n",
      "GJ860B has no HIP name in SIMBAD\n",
      "GJ860B has no HIP name in SIMBAD\n",
      "KIC8462852 has no HIP name in SIMBAD\n",
      "KIC8462852 has no HIP name in SIMBAD\n",
      "GJ866 has no HIP name in SIMBAD\n",
      "GJ866 has no HIP name in SIMBAD\n",
      "GJ866 has no HIP name in SIMBAD\n",
      "GJ1002 has no HIP name in SIMBAD\n",
      "GJ65A has no HIP name in SIMBAD\n",
      "GJ83.1 has no HIP name in SIMBAD\n",
      "GJ860A has no HIP name in SIMBAD\n",
      "GJ860B has no HIP name in SIMBAD\n",
      "GJ860B has no HIP name in SIMBAD\n",
      "GJ905 has no HIP name in SIMBAD\n",
      "GJ905 has no HIP name in SIMBAD\n",
      "GJ860A has no HIP name in SIMBAD\n",
      "GJ860B has no HIP name in SIMBAD\n",
      "KIC8462852 has no HIP name in SIMBAD\n",
      "KIC8462852 has no HIP name in SIMBAD\n",
      "KIC8462852 has no HIP name in SIMBAD\n",
      "KIC8462852 has no HIP name in SIMBAD\n",
      "KIC8462852 has no HIP name in SIMBAD\n",
      "KIC8462852 has no HIP name in SIMBAD\n",
      "KIC8462852 has no HIP name in SIMBAD\n",
      "KIC8462852 has no HIP name in SIMBAD\n",
      "KIC8462852 has no HIP name in SIMBAD\n",
      "KIC8462852 has no HIP name in SIMBAD\n",
      "KIC8462852 has no HIP name in SIMBAD\n",
      "TYC2037-1484-1 has no HIP name in SIMBAD\n",
      "TYC3010-1024-1 has no HIP name in SIMBAD\n",
      "KIC8462852 has no HIP name in SIMBAD\n",
      "GJ1002 has no HIP name in SIMBAD\n",
      "GJ905 has no HIP name in SIMBAD\n",
      "GJ905 has no HIP name in SIMBAD\n",
      "GJ866 has no HIP name in SIMBAD\n",
      "GJ65A has no HIP name in SIMBAD\n",
      "GJ65A has no HIP name in SIMBAD\n",
      "KIC8462852 has no HIP name in SIMBAD\n",
      "KIC8462852 has no HIP name in SIMBAD\n",
      "LHS292 has no HIP name in SIMBAD\n",
      "KIC8462852 has no HIP name in SIMBAD\n",
      "KIC8462852 has no HIP name in SIMBAD\n",
      "KIC8462852 has no HIP name in SIMBAD\n",
      "KIC8462852 has no HIP name in SIMBAD\n",
      "KIC8462852 has no HIP name in SIMBAD\n",
      "HIP72622 not resolved by SIMBAD\n",
      "GJ860B has no HIP name in SIMBAD\n",
      "KIC8462852 has no HIP name in SIMBAD\n",
      "KIC8462852 has no HIP name in SIMBAD\n",
      "KIC8462852 has no HIP name in SIMBAD\n",
      "KIC8462852 has no HIP name in SIMBAD\n",
      "KIC8462852 has no HIP name in SIMBAD\n",
      "KIC8462852 has no HIP name in SIMBAD\n",
      "KIC8462852 has no HIP name in SIMBAD\n",
      "KIC8462852 has no HIP name in SIMBAD\n",
      "KIC8462852 has no HIP name in SIMBAD\n",
      "KIC8462852 has no HIP name in SIMBAD\n",
      "KIC8462852 has no HIP name in SIMBAD\n",
      "KIC8462852 has no HIP name in SIMBAD\n",
      "KIC8462852 has no HIP name in SIMBAD\n",
      "KIC8462852 has no HIP name in SIMBAD\n",
      "KIC8462852 has no HIP name in SIMBAD\n",
      "KIC8462852 has no HIP name in SIMBAD\n",
      "KIC8462852 has no HIP name in SIMBAD\n",
      "KIC8462852 has no HIP name in SIMBAD\n",
      "KIC8462852 has no HIP name in SIMBAD\n",
      "KIC8462852 has no HIP name in SIMBAD\n",
      "KIC8462852 has no HIP name in SIMBAD\n",
      "KIC8462852 has no HIP name in SIMBAD\n",
      "KIC8462852 has no HIP name in SIMBAD\n",
      "KIC8462852 has no HIP name in SIMBAD\n",
      "KIC8462852 has no HIP name in SIMBAD\n",
      "KIC8462852 has no HIP name in SIMBAD\n",
      "KIC8462852 has no HIP name in SIMBAD\n",
      "KIC8462852 has no HIP name in SIMBAD\n",
      "GJ860B has no HIP name in SIMBAD\n",
      "GJ860A has no HIP name in SIMBAD\n",
      "GJ860A has no HIP name in SIMBAD\n",
      "KIC8462852 has no HIP name in SIMBAD\n",
      "KIC8462852 has no HIP name in SIMBAD\n",
      "KIC8462852 has no HIP name in SIMBAD\n",
      "KIC8462852 has no HIP name in SIMBAD\n",
      "GJ905 has no HIP name in SIMBAD\n",
      "GJ1002 has no HIP name in SIMBAD\n",
      "GJ65A has no HIP name in SIMBAD\n",
      "GJ83.1 has no HIP name in SIMBAD\n",
      "GJ860A has no HIP name in SIMBAD\n",
      "GJ702B has no HIP name in SIMBAD\n",
      "GJ702B has no HIP name in SIMBAD\n",
      "GJ702B has no HIP name in SIMBAD\n",
      "GJ702B has no HIP name in SIMBAD\n",
      "GJ860B has no HIP name in SIMBAD\n",
      "GJ860B has no HIP name in SIMBAD\n",
      "GJ905 has no HIP name in SIMBAD\n",
      "GJ905 has no HIP name in SIMBAD\n",
      "GJ860A has no HIP name in SIMBAD\n",
      "GJ860B has no HIP name in SIMBAD\n",
      "GJ860B has no HIP name in SIMBAD\n",
      "GJ860B has no HIP name in SIMBAD\n",
      "GJ860B has no HIP name in SIMBAD\n",
      "GJ860B has no HIP name in SIMBAD\n",
      "KIC8462852 has no HIP name in SIMBAD\n",
      "GJ860B has no HIP name in SIMBAD\n",
      "KIC8462852 has no HIP name in SIMBAD\n",
      "KIC8462852 has no HIP name in SIMBAD\n",
      "KIC8462852 has no HIP name in SIMBAD\n",
      "KIC8462852 has no HIP name in SIMBAD\n",
      "KIC8462852 has no HIP name in SIMBAD\n",
      "GJ905 has no HIP name in SIMBAD\n",
      "GJ860A has no HIP name in SIMBAD\n",
      "KIC8462852 has no HIP name in SIMBAD\n",
      "GJ860B has no HIP name in SIMBAD\n",
      "KIC8462852 has no HIP name in SIMBAD\n",
      "KIC8462852 has no HIP name in SIMBAD\n",
      "KIC8462852 has no HIP name in SIMBAD\n",
      "KIC8462852 has no HIP name in SIMBAD\n",
      "KIC8462852 has no HIP name in SIMBAD\n",
      "KIC8462852 has no HIP name in SIMBAD\n",
      "TIC257870150 has no HIP name in SIMBAD\n",
      "LHS292 has no HIP name in SIMBAD\n",
      "KIC8462852 has no HIP name in SIMBAD\n",
      "KIC8462852 has no HIP name in SIMBAD\n",
      "KIC8462852 has no HIP name in SIMBAD\n",
      "KIC8462852 has no HIP name in SIMBAD\n",
      "KIC8462852 has no HIP name in SIMBAD\n",
      "KIC8462852 has no HIP name in SIMBAD\n",
      "GJ83.1 has no HIP name in SIMBAD\n",
      "GJ860A has no HIP name in SIMBAD\n",
      "GJ702B has no HIP name in SIMBAD\n",
      "GJ905 has no HIP name in SIMBAD\n",
      "GJ860B has no HIP name in SIMBAD\n",
      "KIC8462852 has no HIP name in SIMBAD\n",
      "KIC8462852 has no HIP name in SIMBAD\n",
      "KIC8462852 has no HIP name in SIMBAD\n",
      "KIC8462852 has no HIP name in SIMBAD\n",
      "KIC8462852 has no HIP name in SIMBAD\n",
      "KIC8462852 has no HIP name in SIMBAD\n",
      "GJ1002 has no HIP name in SIMBAD\n",
      "GJ860A has no HIP name in SIMBAD\n",
      "KIC8462852 has no HIP name in SIMBAD\n",
      "KIC8462852 has no HIP name in SIMBAD\n",
      "KIC8462852 has no HIP name in SIMBAD\n",
      "KIC8462852 has no HIP name in SIMBAD\n",
      "KIC8462852 has no HIP name in SIMBAD\n",
      "KIC8462852 has no HIP name in SIMBAD\n",
      "KIC8462852 has no HIP name in SIMBAD\n",
      "KIC8462852 has no HIP name in SIMBAD\n",
      "KIC8462852 has no HIP name in SIMBAD\n",
      "KIC8462852 has no HIP name in SIMBAD\n",
      "KIC8462852 has no HIP name in SIMBAD\n",
      "GJ860A has no HIP name in SIMBAD\n",
      "GJ702B has no HIP name in SIMBAD\n",
      "GJ860B has no HIP name in SIMBAD\n",
      "KIC8462852 has no HIP name in SIMBAD\n",
      "KIC8462852 has no HIP name in SIMBAD\n",
      "GJ702B has no HIP name in SIMBAD\n",
      "GJ860A has no HIP name in SIMBAD\n",
      "KIC8462852 has no HIP name in SIMBAD\n",
      "KIC8462852 has no HIP name in SIMBAD\n",
      "GJ860B has no HIP name in SIMBAD\n",
      "GJ860B has no HIP name in SIMBAD\n",
      "KIC8462852 has no HIP name in SIMBAD\n",
      "KIC8462852 has no HIP name in SIMBAD\n",
      "KIC8462852 has no HIP name in SIMBAD\n",
      "KIC8462852 has no HIP name in SIMBAD\n",
      "KIC8462852 has no HIP name in SIMBAD\n",
      "KIC8462852 has no HIP name in SIMBAD\n",
      "KIC8462852 has no HIP name in SIMBAD\n",
      "GJ860A has no HIP name in SIMBAD\n",
      "GJ905 has no HIP name in SIMBAD\n",
      "GJ1002 has no HIP name in SIMBAD\n",
      "GJ905 has no HIP name in SIMBAD\n",
      "GJ860B has no HIP name in SIMBAD\n",
      "In director(y/ies):\n",
      "12983 total files.\n",
      "6492 raw files.\n",
      "6482 reduced files.\n",
      "9 other files.\n"
     ]
    }
   ],
   "source": [
    "total_files = 0\n",
    "raw_files = []\n",
    "num_raw = 0\n",
    "reduced_files = []\n",
    "num_reduced = 0\n",
    "other_files = []\n",
    "num_other = 0 \n",
    "database_paths = ['/datax/scratch/hisaacson/data', '/datag/blpd0/datax/apf']\n",
    "log_file_name = 'apf_log_full_19Nov2021.csv' #'additional_spectra_log_27Oct2021.csv' #'apf_log_full_16Aug2021.csv'\n",
    "\n",
    "fieldnames = ['Filename', 'Tobj', 'Obj', 'HIP_name', 'Simbad_resolvable_name', 'Alt_names', 'Filepath', 'Thorium1', 'Thorium2', 'Halogen1', 'Halogen2', 'Iodine_cell', 'RA','DEC',\n",
    "              'Date_obs', 'Date_logged', 'SNR', 'Known_non-stellar', 'Known_binary', 'Main_type', 'Types', 'Filesize','Md5']\n",
    "with open(log_file_name, 'w') as csvfile: \n",
    "    csvwriter = csv.writer(csvfile) \n",
    "    csvwriter.writerow(fieldnames)  \n",
    "    \n",
    "Simbad.add_votable_fields('otypes')\n",
    "Simbad.add_votable_fields('otype(3)')    \n",
    "for database_path in database_paths:\n",
    "    for file in os.listdir(database_path):\n",
    "        total_files += 1\n",
    "        if file.startswith('ucb'):\n",
    "            raw_files += [file]\n",
    "            num_raw += 1\n",
    "        elif file.startswith('r'):\n",
    "            reduced_files += [file]\n",
    "            num_reduced += 1          \n",
    "            hdul = astropy.io.fits.open(database_path + '/' + file)\n",
    "            info = hdul[0].header\n",
    "            name  = info['OBJECT']\n",
    "            HIP_name, simbad_resolvable_name, alt_names, known_not_a_star, known_binary, main_otype, otypes_list = get_names(name)\n",
    "            #print(name  + ', or ' + HIP_name)\n",
    "            tobj = info['TOBJECT']\n",
    "            obj = info['OBJECT']\n",
    "            thor1 = info['THORIUM1']\n",
    "            thor2 = info['THORIUM2']\n",
    "            hal1 = info['HALOGEN1']\n",
    "            hal2 = info['HALOGEN2']\n",
    "            iod = info['ICELNAM']\n",
    "            date = info['DATE']\n",
    "            RA = info['RA']\n",
    "            DEC = info['DEC']\n",
    "            filesize = os.path.getsize(database_path + '/' + file)      \n",
    "            md5_hash = hashlib.md5()\n",
    "            with open(database_path + '/' + file,\"rb\") as f: # Is this what the Md5 feild should be?\n",
    "                # Read and update hash in chunks of 4K\n",
    "                for byte_block in iter(lambda: f.read(4096),b\"\"):\n",
    "                    md5_hash.update(byte_block)\n",
    "                    Md5 = md5_hash.hexdigest()\n",
    "            data = hdul[0].data\n",
    "            order_data = data[45,:]\n",
    "            SNR = np.sqrt(np.median(order_data))\n",
    "            dt = datetime.datetime.now()\n",
    "            log_date = dt.strftime(\"%d\") + dt.strftime(\"%b\") + dt.strftime(\"%Y\") + '-' + dt.strftime(\"%X\") \n",
    "            row = [[file, tobj, obj, HIP_name, simbad_resolvable_name, alt_names, database_path, thor1, thor2, hal1, hal2,\n",
    "                    iod, RA, DEC, date, log_date, SNR, known_not_a_star, known_binary, main_otype, otypes_list, filesize, Md5]]\n",
    "            with open(log_file_name, 'a') as csvfile: \n",
    "                csvwriter = csv.writer(csvfile) \n",
    "                csvwriter.writerows(row) \n",
    "        else:\n",
    "            other_files += [file]\n",
    "            num_other += 1\n",
    "        \n",
    "        \n",
    "print('In director(y/ies):')\n",
    "print(str(total_files) + ' total files.')\n",
    "print(str(num_raw) + ' raw files.')\n",
    "print(str(num_reduced) + ' reduced files.')\n",
    "print(str(num_other) + ' other files.')"
   ]
  },
  {
   "cell_type": "code",
   "execution_count": 125,
   "metadata": {},
   "outputs": [
    {
     "data": {
      "text/plain": [
       "'TIC396356111'"
      ]
     },
     "execution_count": 125,
     "metadata": {},
     "output_type": "execute_result"
    }
   ],
   "source": [
    "name\n",
    "\n"
   ]
  },
  {
   "cell_type": "code",
   "execution_count": 50,
   "metadata": {},
   "outputs": [],
   "source": [
    "fieldnames = [['Filename'],['Tobj'],['Obj']]#,'HIP_name','Thorium1','Thorium2','Haolgen1','Halogen2','Date','RA','DEC','Md5','Filesize']\n",
    "log_file_name = 'testing.csv'\n",
    "with open(log_file_name, 'w', encoding='UTF8', newline='') as csvfile: \n",
    "    csvwriter = csv.writer(csvfile) \n",
    "    csvwriter.writerow(fieldnames)  "
   ]
  },
  {
   "cell_type": "code",
   "execution_count": 43,
   "metadata": {},
   "outputs": [],
   "source": [
    "name1 = 'HD211336'\n",
    "name2 = 'TIC 330608569'\n",
    "name3  = 'HIP 10985'\n",
    "result_table = Simbad.query_objectids(name3)\n",
    "alt_names = result_table.to_pandas()\n",
    "alt_names = alt_names.iloc[:,0].str.decode('utf-8') # gets rid of weird formatting"
   ]
  },
  {
   "cell_type": "code",
   "execution_count": 30,
   "metadata": {},
   "outputs": [],
   "source": [
    "alt_names3 = alt_names"
   ]
  },
  {
   "cell_type": "code",
   "execution_count": 47,
   "metadata": {},
   "outputs": [
    {
     "data": {
      "text/plain": [
       "['TIC 409523757',\n",
       " '2MASS J02213565+4435596',\n",
       " 'ADS  1795 AB',\n",
       " 'AG+44  237',\n",
       " 'BD+43   474',\n",
       " 'CCDM J02216+4436AB',\n",
       " 'GC  2824',\n",
       " 'HD  14477',\n",
       " 'HIC  10985',\n",
       " 'HIP  10985',\n",
       " 'IDS 02152+4408',\n",
       " 'PPM  45017',\n",
       " 'SAO  37971',\n",
       " 'SKY#  3482',\n",
       " 'TD1  1371',\n",
       " 'WDS J02216+4436AB',\n",
       " '** STF  249AB',\n",
       " 'TYC 2843-1459-1',\n",
       " 'Renson 3650',\n",
       " 'BD+43   474A']"
      ]
     },
     "execution_count": 47,
     "metadata": {},
     "output_type": "execute_result"
    }
   ],
   "source": [
    "alt_names.to_list()"
   ]
  },
  {
   "cell_type": "code",
   "execution_count": 71,
   "metadata": {},
   "outputs": [],
   "source": [
    "a = '1210106A'"
   ]
  },
  {
   "cell_type": "code",
   "execution_count": 72,
   "metadata": {},
   "outputs": [],
   "source": [
    "if a[0].isdigit():\n",
    "    a = 'HD' + a\n",
    "    if (a.endswith('A') or a.endswith('B')):\n",
    "        a = a[:-1]"
   ]
  },
  {
   "cell_type": "code",
   "execution_count": 73,
   "metadata": {},
   "outputs": [
    {
     "data": {
      "text/plain": [
       "'HD1210106'"
      ]
     },
     "execution_count": 73,
     "metadata": {},
     "output_type": "execute_result"
    }
   ],
   "source": [
    "a"
   ]
  },
  {
   "cell_type": "code",
   "execution_count": 75,
   "metadata": {},
   "outputs": [
    {
     "data": {
      "text/plain": [
       "Index(['Harry', 'Mike', 'Arther', 'Nick'], dtype='object', name='Student')"
      ]
     },
     "execution_count": 75,
     "metadata": {},
     "output_type": "execute_result"
    }
   ],
   "source": [
    "import pandas as pd\n",
    "idx = pd.Index(['Harry', 'Mike', 'Arther', 'Nick'],\n",
    "                                  name ='Student')\n",
    "idx"
   ]
  },
  {
   "cell_type": "code",
   "execution_count": 78,
   "metadata": {},
   "outputs": [
    {
     "data": {
      "text/plain": [
       "['Harry', 'Mike', 'Arther', 'Nick']"
      ]
     },
     "execution_count": 78,
     "metadata": {},
     "output_type": "execute_result"
    }
   ],
   "source": [
    "idx.to_list()"
   ]
  },
  {
   "cell_type": "code",
   "execution_count": 79,
   "metadata": {},
   "outputs": [
    {
     "data": {
      "text/plain": [
       "Index(['Harry', 'Mike', 'Arther', 'Nick'], dtype='object', name='Student')"
      ]
     },
     "execution_count": 79,
     "metadata": {},
     "output_type": "execute_result"
    }
   ],
   "source": [
    "idx"
   ]
  },
  {
   "cell_type": "code",
   "execution_count": 86,
   "metadata": {},
   "outputs": [
    {
     "data": {
      "text/plain": [
       "pandas.core.series.Series"
      ]
     },
     "execution_count": 86,
     "metadata": {},
     "output_type": "execute_result"
    }
   ],
   "source": [
    "result_table = Simbad.query_objectids('vega')\n",
    "simbad_resolvable_name = name\n",
    "alternative_names = result_table.to_pandas()\n",
    "alternative_names = alternative_names.iloc[:,0].str.decode('utf-8') # gets rid of weird formatting\n",
    "alt_names = alternative_names.to_list()\n",
    "type(alternative_names)"
   ]
  },
  {
   "cell_type": "code",
   "execution_count": 91,
   "metadata": {},
   "outputs": [
    {
     "data": {
      "text/plain": [
       "'HIP91262'"
      ]
     },
     "execution_count": 91,
     "metadata": {},
     "output_type": "execute_result"
    }
   ],
   "source": [
    "HIP_name = alternative_names[alternative_names.str.contains(\"HIP\")]\n",
    "str(HIP_name.iloc[0]).replace(' ', '')"
   ]
  },
  {
   "cell_type": "code",
   "execution_count": 90,
   "metadata": {},
   "outputs": [
    {
     "data": {
      "text/plain": [
       "pandas.core.series.Series"
      ]
     },
     "execution_count": 90,
     "metadata": {},
     "output_type": "execute_result"
    }
   ],
   "source": [
    "type(HIP_name)"
   ]
  },
  {
   "cell_type": "code",
   "execution_count": 115,
   "metadata": {},
   "outputs": [],
   "source": [
    "    result_table = Simbad.query_objectids('HIP101345')\n",
    "    simbad_resolvable_name = name\n",
    "    alternative_names = result_table.to_pandas()\n",
    "    alternative_names = alternative_names.iloc[:,0].str.decode('utf-8') # gets rid of weird formatting\n",
    "    alt_names = alternative_names.to_list()\n",
    "    if name.startswith('HIP') and not name.startswith('HIPASS'):\n",
    "        HIP_name = name  \n",
    "    elif name.startswith('hip') and not name.startswith('hipass'):\n",
    "        HIP_name = 'HIP' + name[3:]\n",
    "    else:\n",
    "        #HIP_name = alternative_names[alternative_names.str.contains(\"HIP\")]\n",
    "        HIP_name = [x for x in alternative_names.tolist() if x.startswith('HIP') and not x.startswith('HIPASS')]\n"
   ]
  },
  {
   "cell_type": "code",
   "execution_count": 119,
   "metadata": {},
   "outputs": [
    {
     "data": {
      "text/plain": [
       "'HIP101345'"
      ]
     },
     "execution_count": 119,
     "metadata": {},
     "output_type": "execute_result"
    }
   ],
   "source": [
    "a = str(HIP_name[0]).replace(' ', '')\n",
    "a"
   ]
  },
  {
   "cell_type": "code",
   "execution_count": null,
   "metadata": {},
   "outputs": [],
   "source": [
    "from astroquery.simbad import Simbad\n",
    "Simbad.add_votable_fields('otypes')\n",
    "Simbad.add_votable_fields('otype')\n",
    "result_table = Simbad.query_object('HIP101345')#'LP 54-19')\n",
    "results = result_table.to_pandas()\n",
    "otypes = results['OTYPES']\n",
    "otypes_list = results['OTYPES'][0].split('|')\n",
    "#'SB*' in otypes_list #== 'err' # not an object\n",
    "otype = results['OTYPE']\n",
    "otype\n",
    "#otype.contains('*') # is a star of some sort\n"
   ]
  },
  {
   "cell_type": "code",
   "execution_count": 35,
   "metadata": {},
   "outputs": [
    {
     "data": {
      "text/plain": [
       "'PM*'"
      ]
     },
     "execution_count": 35,
     "metadata": {},
     "output_type": "execute_result"
    }
   ],
   "source": [
    "otype[0]"
   ]
  },
  {
   "cell_type": "code",
   "execution_count": null,
   "metadata": {},
   "outputs": [],
   "source": []
  }
 ],
 "metadata": {
  "kernelspec": {
   "display_name": "Python 3",
   "language": "python",
   "name": "python3"
  },
  "language_info": {
   "codemirror_mode": {
    "name": "ipython",
    "version": 3
   },
   "file_extension": ".py",
   "mimetype": "text/x-python",
   "name": "python",
   "nbconvert_exporter": "python",
   "pygments_lexer": "ipython3",
   "version": "3.7.6"
  }
 },
 "nbformat": 4,
 "nbformat_minor": 4
}
