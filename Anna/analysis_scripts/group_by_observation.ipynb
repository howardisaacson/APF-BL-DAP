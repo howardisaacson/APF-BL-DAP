{
 "cells": [
  {
   "cell_type": "code",
   "execution_count": null,
   "metadata": {},
   "outputs": [],
   "source": [
    "# group_by_observation.ipynb\n",
    "# Many stars that have mulitple APF spectra have some spectra from different nights of observation. \n",
    "# Calculates the SNR for each group of spectra from one night of observing (calc_SNR combines all observations of one \n",
    "# star and returns an SNR for the star instead), then create a directory for each set of spectra \n",
    "# (ie. each observation) of each star\n"
   ]
  },
  {
   "cell_type": "code",
   "execution_count": 7,
   "metadata": {},
   "outputs": [],
   "source": [
    "import os\n",
    "import pandas as pd\n",
    "import numpy as np\n",
    "import astropy.io.fits\n",
    "import shutil"
   ]
  },
  {
   "cell_type": "code",
   "execution_count": 13,
   "metadata": {},
   "outputs": [],
   "source": [
    "#def get_SNR(path_name, filenames): # Modified from get_SNR in calc_SNR\n",
    "#    order_data = np.zeros([4608,1])\n",
    "#    for spect_file in filenames:\n",
    "#        hdul = astropy.io.fits.open(path_name + '/' + spect_file) \n",
    "#        order_data = np.add(order_data,(hdul[0].data)[45])\n",
    "#    SNR = np.sqrt(np.median(order_data))\n",
    "#    return SNR"
   ]
  },
  {
   "cell_type": "code",
   "execution_count": 10,
   "metadata": {},
   "outputs": [],
   "source": [
    "# for stars with mulitple spectra, get the set of observations with the highest SNR\n",
    "big_path = './APF_spectra/all_apf_spectra' # './APF_spectra/additional_spectra' \n",
    "#SNR_filename = 'all_apf_highest_SNRs.csv' # 'additional_apf_highest_SNRs.csv' \n",
    "new_dir_path = './APF_spectra/all_apf_spectra_by_obs/' #'./APF_spectra/additional_apf_spectra_highest_SNR/' \n",
    "#SNR_list = []\n",
    "names = []\n",
    "pathlist = [path for path in sorted(os.listdir(big_path)) if os.path.isdir(big_path + '/' + path)]\n",
    "for star_dir in pathlist:\n",
    "    names += [star_dir.split('_')[0]]\n",
    "    spectlist = os.listdir(big_path + '/' + star_dir)\n",
    "    try: spectlist.remove('.ipynb_checkpoints')\n",
    "    except: ValueError\n",
    "    obslist = [filename.split('.')[0] for filename in spectlist]\n",
    "    unique_obs = list(dict.fromkeys(obslist)) #list of all observations of that star\n",
    "    #highest_SNR = 0\n",
    "    #highest_SNR_obs = ''\n",
    "    count = 1\n",
    "    for obs in unique_obs:\n",
    "        obs_files = [file for file in spectlist if file.split('.')[0] == obs]\n",
    "        new_dir_name = new_dir_path + star_dir + '_' + str(count)\n",
    "        os.mkdir(new_dir_name)\n",
    "        for file in obs_files:\n",
    "            shutil.copyfile(big_path + '/' + star_dir + '/' + file, new_dir_name + '/' + file)\n",
    "        count += 1\n",
    "        #SNR_obs = get_SNR(big_path + '/' + star_dir, obs_files)\n",
    "        #if SNR_obs > highest_SNR:\n",
    "        #    highest_SNR = SNR_obs\n",
    "        #    highest_SNR_obs = obs\n",
    "        #    SNR_list += [highest_SNR]\n",
    "    \n",
    "    #highest_SNR_obs_files = [file for file in spectlist if file.split('.')[0] == highest_SNR_obs]\n",
    "\n",
    "\n",
    "#df = pd.DataFrame(list(zip(names, SNR_list)), columns =['Name (Simbad resolvable)', 'Highest observation set SNR'])\n",
    "#df.to_csv('./' + SNR_filename)"
   ]
  },
  {
   "cell_type": "code",
   "execution_count": 50,
   "metadata": {},
   "outputs": [],
   "source": [
    "# for stars with only one spectrum, copy that spectrum directly -- not applicable for ./APF_spectra/all_apf_spectra\n",
    "pathlist_notdir = [path for path in sorted(os.listdir(big_path)) if not(os.path.isdir(big_path + '/' + path))]\n",
    "for file in pathlist_notdir:\n",
    "    shutil.copyfile(big_path + '/' + file, './APF_spectra/apf_spectra_highest_SNR' + '/' + file)\n"
   ]
  },
  {
   "cell_type": "code",
   "execution_count": 7,
   "metadata": {},
   "outputs": [
    {
     "name": "stdout",
     "output_type": "stream",
     "text": [
      "114\n",
      "114\n"
     ]
    }
   ],
   "source": [
    "# check that all stars were processed\n",
    "print(len(os.listdir(big_path)))\n",
    "print(len(os.listdir(new_dir_path)))"
   ]
  },
  {
   "cell_type": "code",
   "execution_count": 6,
   "metadata": {},
   "outputs": [
    {
     "name": "stdout",
     "output_type": "stream",
     "text": [
      "ABC\n",
      "ABC\n",
      "ABC\n"
     ]
    }
   ],
   "source": [
    "# testing\n",
    "import os\n",
    "files = ['ABC_123_1', 'ABC_123_2', 'ABC_123_3']\n",
    "for file in files[0:10]:\n",
    "    print(file.split('_')[0])"
   ]
  },
  {
   "cell_type": "code",
   "execution_count": null,
   "metadata": {},
   "outputs": [],
   "source": []
  }
 ],
 "metadata": {
  "kernelspec": {
   "display_name": "Python 3",
   "language": "python",
   "name": "python3"
  },
  "language_info": {
   "codemirror_mode": {
    "name": "ipython",
    "version": 3
   },
   "file_extension": ".py",
   "mimetype": "text/x-python",
   "name": "python",
   "nbconvert_exporter": "python",
   "pygments_lexer": "ipython3",
   "version": "3.7.6"
  }
 },
 "nbformat": 4,
 "nbformat_minor": 4
}
